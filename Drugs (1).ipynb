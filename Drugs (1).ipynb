{
 "cells": [
  {
   "cell_type": "markdown",
   "metadata": {},
   "source": [
    "# <center>Web Scraping for Market Analysis of Drugs</center>"
   ]
  },
  {
   "cell_type": "markdown",
   "metadata": {},
   "source": [
    "### 1. Loading Dependencies"
   ]
  },
  {
   "cell_type": "code",
   "execution_count": 13,
   "metadata": {},
   "outputs": [],
   "source": [
    "from IPython.core.interactiveshell import InteractiveShell\n",
    "InteractiveShell.ast_node_interactivity = \"all\"\n",
    "import requests\n",
    "from bs4 import BeautifulSoup \n",
    "import numpy as np\n",
    "import pandas as pd\n",
    "import re\n",
    "from decimal import Decimal\n",
    "import csv\n",
    "import os\n",
    "import string\n",
    "import math\n",
    "import matplotlib.pyplot as plt"
   ]
  },
  {
   "cell_type": "markdown",
   "metadata": {},
   "source": [
    "### 2. Searching the drugs by category\n",
    "We are using the link from WebMD to get top 5 drugs for the specified category. Here we have used \"Chronic Pain\" as our category and have obtained top 5 drugs after applying some optimization techniques."
   ]
  },
  {
   "cell_type": "code",
   "execution_count": 14,
   "metadata": {},
   "outputs": [],
   "source": [
    "page=requests.get(\"https://www.webmd.com/drugs/2/condition-3090/chronic%20pain\") #Searching drugs by condition\n",
    "soup=BeautifulSoup(page.content, 'html.parser')\n",
    "#print(soup.prettify())"
   ]
  },
  {
   "cell_type": "code",
   "execution_count": 15,
   "metadata": {},
   "outputs": [],
   "source": [
    "#print(containers[0])\n",
    "containers = soup.findAll(\"table\", {\"class\": \"drugs-treatments-table\"})   #getting the name and review number of drugs\n",
    "c = containers[0]"
   ]
  },
  {
   "cell_type": "markdown",
   "metadata": {},
   "source": [
    "### 3. Collecting the links to obtain drug ID's names and the number of reviews."
   ]
  },
  {
   "cell_type": "code",
   "execution_count": 16,
   "metadata": {},
   "outputs": [
    {
     "data": {
      "text/plain": [
       "<a href=\"/drugs/drugreview-4398-tramadol-hcl.aspx?drugid=4398&amp;drugname=tramadol-hcl\">2905 Reviews</a>"
      ]
     },
     "execution_count": 16,
     "metadata": {},
     "output_type": "execute_result"
    },
    {
     "name": "stdout",
     "output_type": "stream",
     "text": [
      "/drugs/drugreview-4398-tramadol-hcl.aspx?drugid=4398&drugname=tramadol-hcl\n",
      "/drugs/drugreview-4398-tramadol-hcl-er.aspx?drugid=4398&drugname=tramadol-hcl-er\n",
      "/drugs/drugreview-1025-oxycodone-hcl.aspx?drugid=1025&drugname=oxycodone-hcl\n",
      "/drugs/drugreview-1025-oxycodone-hcl-concentrate.aspx?drugid=1025&drugname=oxycodone-hcl-concentrate\n",
      "/drugs/drugreview-1025-oxycodone-hcl-er.aspx?drugid=1025&drugname=oxycodone-hcl-er\n",
      "/drugs/drugreview-1025-oxycodone-tablet-only.aspx?drugid=1025&drugname=oxycodone-tablet-only\n",
      "/drugs/drugreview-2798-oxycontin.aspx?drugid=2798&drugname=oxycontin\n",
      "/drugs/drugreview-64741-suboxone-film-medicated.aspx?drugid=64741&drugname=suboxone-film-medicated\n",
      "/drugs/drugreview-64741-suboxone-tablet.aspx?drugid=64741&drugname=suboxone-tablet\n",
      "/drugs/drugreview-2671-methadone-hcl.aspx?drugid=2671&drugname=methadone-hcl\n",
      "/drugs/drugreview-2671-methadone-hcl-tablet.aspx?drugid=2671&drugname=methadone-hcl-tablet\n",
      "/drugs/drugreview-2671-methadone-hcl-tablet-soluble.aspx?drugid=2671&drugname=methadone-hcl-tablet-soluble\n",
      "/drugs/drugreview-144617-opana-er.aspx?drugid=144617&drugname=opana-er\n",
      "/drugs/drugreview-327-morphine-sulfate.aspx?drugid=327&drugname=morphine-sulfate\n",
      "/drugs/drugreview-327-morphine-sulfate-er.aspx?drugid=327&drugname=morphine-sulfate-er\n",
      "/drugs/drugreview-327-morphine-sulfate-er-capsule-multiphase-24-hr.aspx?drugid=327&drugname=morphine-sulfate-er-capsule-multiphase-24-hr\n",
      "/drugs/drugreview-327-morphine-sulfate-er-tablet.aspx?drugid=327&drugname=morphine-sulfate-er-tablet\n",
      "/drugs/drugreview-327-morphine-tablet-only-er.aspx?drugid=327&drugname=morphine-tablet-only-er\n",
      "/drugs/drugreview-1507-ms-contin.aspx?drugid=1507&drugname=ms-contin\n",
      "/drugs/drugreview-1509-kadian.aspx?drugid=1509&drugname=kadian\n",
      "/drugs/drugreview-32971-avinza-capsule-multiphase-24-hr-capsule-er-hr.aspx?drugid=32971&drugname=avinza-capsule-multiphase-24-hr-capsule-er-hr\n",
      "/drugs/drugreview-94892-ultram-er.aspx?drugid=94892&drugname=ultram-er\n",
      "/drugs/drugreview-75100-subutex-tablet.aspx?drugid=75100&drugname=subutex-tablet\n",
      "/drugs/drugreview-155153-butrans-patch-weekly.aspx?drugid=155153&drugname=butrans-patch-weekly\n",
      "/drugs/drugreview-156955-nucynta-er.aspx?drugid=156955&drugname=nucynta-er\n",
      "/drugs/drugreview-64748-buprenorphine-hcl-tablet.aspx?drugid=64748&drugname=buprenorphine-hcl-tablet\n",
      "/drugs/drugreview-152917-embeda.aspx?drugid=152917&drugname=embeda\n",
      "/drugs/drugreview-92576-prialt-vial.aspx?drugid=92576&drugname=prialt-vial\n",
      "/drugs/drugreview-144614-oxymorphone-hcl.aspx?drugid=144614&drugname=oxymorphone-hcl\n",
      "/drugs/drugreview-144614-oxymorphone-hcl-er.aspx?drugid=144614&drugname=oxymorphone-hcl-er\n",
      "/drugs/drugreview-171739-xtampza-er.aspx?drugid=171739&drugname=xtampza-er\n",
      "/drugs/drugreview-167438-hysingla-er.aspx?drugid=167438&drugname=hysingla-er\n",
      "/drugs/drugreview-9730-methadose.aspx?drugid=9730&drugname=methadose\n",
      "/drugs/drugreview-9730-methadose-tablet-soluble.aspx?drugid=9730&drugname=methadose-tablet-soluble\n",
      "/drugs/drugreview-9730-methadose-tablet.aspx?drugid=9730&drugname=methadose-tablet\n",
      "/drugs/drugreview-64740-buprenorphine-naloxone-tablet.aspx?drugid=64740&drugname=buprenorphine-naloxone-tablet\n",
      "/drugs/drugreview-64740-buprenorphine-naloxone-film-medicated.aspx?drugid=64740&drugname=buprenorphine-naloxone-film-medicated\n",
      "/drugs/drugreview-1508-oramorph-sr-tablet-er.aspx?drugid=1508&drugname=oramorph-sr-tablet-er\n",
      "/drugs/drugreview-4101-dolophine-hcl.aspx?drugid=4101&drugname=dolophine-hcl\n",
      "/drugs/drugreview-152125-ryzolt-tablet-multiphase-24-hr-tablet-er-hr.aspx?drugid=152125&drugname=ryzolt-tablet-multiphase-24-hr-tablet-er-hr\n",
      "/drugs/drugreview-165699-zohydro-er.aspx?drugid=165699&drugname=zohydro-er\n",
      "/drugs/drugreview-11996-methadone-intensol.aspx?drugid=11996&drugname=methadone-intensol\n",
      "/drugs/drugreview-164754-zubsolv-tablet.aspx?drugid=164754&drugname=zubsolv-tablet\n",
      "/drugs/drugreview-152562-tapentadol-tablet-er-12-hr.aspx?drugid=152562&drugname=tapentadol-tablet-er-12-hr\n",
      "/drugs/drugreview-152562-tapentadol-tablet.aspx?drugid=152562&drugname=tapentadol-tablet\n",
      "/drugs/drugreview-5360-diflunisal.aspx?drugid=5360&drugname=diflunisal\n",
      "/drugs/drugreview-170329-belbuca-film-medicated.aspx?drugid=170329&drugname=belbuca-film-medicated\n",
      "/drugs/drugreview-387-aspercreme-cream.aspx?drugid=387&drugname=aspercreme-cream\n",
      "/drugs/drugreview-166704-bunavail-film-medicated.aspx?drugid=166704&drugname=bunavail-film-medicated\n",
      "/drugs/drugreview-18450-trolamine-salicylate-cream.aspx?drugid=18450&drugname=trolamine-salicylate-cream\n",
      "/drugs/drugreview-4105-methadone-hcl-vial.aspx?drugid=4105&drugname=methadone-hcl-vial\n",
      "/drugs/drugreview-155016-buprenorphine-patch-weekly.aspx?drugid=155016&drugname=buprenorphine-patch-weekly\n",
      "/drugs/drugreview-63814-methadone-concentrate.aspx?drugid=63814&drugname=methadone-concentrate\n",
      "/drugs/drugreview-9143-dolobid-tablet.aspx?drugid=9143&drugname=dolobid-tablet\n",
      "/drugs/drugreview-156872-conzip.aspx?drugid=156872&drugname=conzip\n",
      "/drugs/drugreview-92515-ziconotide-solution.aspx?drugid=92515&drugname=ziconotide-solution\n",
      "/drugs/drugreview-9480-roxanol-solution.aspx?drugid=9480&drugname=roxanol-solution\n",
      "/drugs/drugreview-9480-roxanol-tablet-er.aspx?drugid=9480&drugname=roxanol-tablet-er\n",
      "/drugs/drugreview-4149-myoflex-cream.aspx?drugid=4149&drugname=myoflex-cream\n",
      "/drugs/drugreview-165341-hydrocodone-bitartrate-capsule-12-hr-capsule-er-hr.aspx?drugid=165341&drugname=hydrocodone-bitartrate-capsule-12-hr-capsule-er-hr\n",
      "/drugs/drugreview-165341-hydrocodone-bitartrate-tablet-only-er-24-hr.aspx?drugid=165341&drugname=hydrocodone-bitartrate-tablet-only-er-24-hr\n",
      "/drugs/drugreview-61838-triethanolamine-salicylate-cream.aspx?drugid=61838&drugname=triethanolamine-salicylate-cream\n",
      "/drugs/drugreview-156918-methadone-hcl-syringe.aspx?drugid=156918&drugname=methadone-hcl-syringe\n",
      "/drugs/drugreview-4876-mobisyl-cream.aspx?drugid=4876&drugname=mobisyl-cream\n",
      "/drugs/drugreview-152909-morphine-naltrexone-capsule-only-er-pellets-capsule-ext-release-pellets.aspx?drugid=152909&drugname=morphine-naltrexone-capsule-only-er-pellets-capsule-ext-release-pellets\n",
      "/drugs/drugreview-152569-diskets.aspx?drugid=152569&drugname=diskets\n",
      "/drugs/drugreview-406-sportscreme-cream.aspx?drugid=406&drugname=sportscreme-cream\n",
      "/drugs/drugreview-170175-morphabond-er.aspx?drugid=170175&drugname=morphabond-er\n",
      "/drugs/drugreview-13733-arthricreme-cream.aspx?drugid=13733&drugname=arthricreme-cream\n",
      "/drugs/drugreview-61833-aspi-rub-cream.aspx?drugid=61833&drugname=aspi-rub-cream\n",
      "/drugs/drugreview-163158-tru-micin-lotion.aspx?drugid=163158&drugname=tru-micin-lotion\n",
      "/drugs/drugreview-57795-roxanol-sr-tablet-er.aspx?drugid=57795&drugname=roxanol-sr-tablet-er\n",
      "/drugs/drugreview-171738-oxycodone-myristate-capsule-sprinkle-er-12-hour-tamper-resistant-capsule-sprinkle-er-hrtamper-resist.aspx?drugid=171738&drugname=oxycodone-myristate-capsule-sprinkle-er-12-hour-tamper-resistant-capsule-sprinkle-er-hrtamper-resist\n",
      "/drugs/drugreview-4100-dolophine-solution.aspx?drugid=4100&drugname=dolophine-solution\n",
      "/drugs/drugreview-166431-buprenorphine-naloxone-film.aspx?drugid=166431&drugname=buprenorphine-naloxone-film\n",
      "/drugs/drugreview-94727-aspercreme-cream.aspx?drugid=94727&drugname=aspercreme-cream\n",
      "/drugs/drugreview-170241-analgesic-cream.aspx?drugid=170241&drugname=analgesic-cream\n",
      "/drugs/drugreview-78328-aspirin-free-cream.aspx?drugid=78328&drugname=aspirin-free-cream\n",
      "/drugs/drugreview-155959-methadone-hcl-0-9-nacl-syringe.aspx?drugid=155959&drugname=methadone-hcl-0-9-nacl-syringe\n",
      "/drugs/drugreview-148740-analgesic-creme-cream.aspx?drugid=148740&drugname=analgesic-creme-cream\n",
      "/drugs/drugreview-13732-arthricream-cream.aspx?drugid=13732&drugname=arthricream-cream\n",
      "/drugs/drugreview-13735-arthri-lotion-lotion.aspx?drugid=13735&drugname=arthri-lotion-lotion\n",
      "/drugs/drugreview-977-analgesic-balm-ointment.aspx?drugid=977&drugname=analgesic-balm-ointment\n",
      "/drugs/drugreview-977-analgesic-balm-cream.aspx?drugid=977&drugname=analgesic-balm-cream\n",
      "/drugs/drugreview-61834-arthritis-cream.aspx?drugid=61834&drugname=arthritis-cream\n",
      "/drugs/drugreview-61835-tea-salicylate-cream.aspx?drugid=61835&drugname=tea-salicylate-cream\n",
      "/drugs/drugreview-1925-analgesia-cream.aspx?drugid=1925&drugname=analgesia-cream\n",
      "/drugs/drugreview-171613-pain-relieving-cream.aspx?drugid=171613&drugname=pain-relieving-cream\n",
      "/drugs/drugreview-154348-alcis-cream.aspx?drugid=154348&drugname=alcis-cream\n",
      "/drugs/drugreview-148312-asper-flex-cream.aspx?drugid=148312&drugname=asper-flex-cream\n",
      "/drugs/drugreview-170232-ultracin-t-lotion.aspx?drugid=170232&drugname=ultracin-t-lotion\n",
      "/drugs/drugreview-94724-trolamine-salicylate-aloe-vera-cream.aspx?drugid=94724&drugname=trolamine-salicylate-aloe-vera-cream\n",
      "/drugs/drugreview-22001-sports-pain-relief-cream.aspx?drugid=22001&drugname=sports-pain-relief-cream\n",
      "/drugs/drugreview-9383-odorless-pain-relief-cream.aspx?drugid=9383&drugname=odorless-pain-relief-cream\n",
      "/drugs/drugreview-165098-arthritis-relief-spray-non-aerosol.aspx?drugid=165098&drugname=arthritis-relief-spray-non-aerosol\n",
      "/drugs/drugreview-166836-analgesic-cream.aspx?drugid=166836&drugname=analgesic-cream\n",
      "/drugs/drugreview-173366-arymo-er.aspx?drugid=173366&drugname=arymo-er\n",
      "/drugs/drugreview-170300-buprenorphine-hcl-film.aspx?drugid=170300&drugname=buprenorphine-hcl-film\n",
      "/drugs/drugreview-10683-exocaine-medicated-rub-cream.aspx?drugid=10683&drugname=exocaine-medicated-rub-cream\n"
     ]
    }
   ],
   "source": [
    "links=c.find_all(\"a\",href=re.compile(\"drugreview\"))    #using 'drugview' substring to avoid repetition of links\n",
    "links[0]\n",
    "for link in links:\n",
    "    print(link.get('href'))                            #Need to extract drug-id to put in final table and use in the link"
   ]
  },
  {
   "cell_type": "code",
   "execution_count": 17,
   "metadata": {},
   "outputs": [
    {
     "name": "stdout",
     "output_type": "stream",
     "text": [
      "['4398', '4398', '1025', '1025', '1025', '1025', '2798', '64741', '64741', '2671', '2671', '2671', '144617', '327', '327', '327', '327', '327', '1507', '1509', '32971', '94892', '75100', '155153', '156955', '64748', '152917', '92576', '144614', '144614', '171739', '167438', '9730', '9730', '9730', '64740', '64740', '1508', '4101', '152125', '165699', '11996', '164754', '152562', '152562', '5360', '170329', '387', '166704', '18450', '4105', '155016', '63814', '9143', '156872', '92515', '9480', '9480', '4149', '165341', '165341', '61838', '156918', '4876', '152909', '152569', '406', '170175', '13733', '61833', '163158', '57795', '171738', '4100', '166431', '94727', '170241', '78328', '155959', '148740', '13732', '13735', '977', '977', '61834', '61835', '1925', '171613', '154348', '148312', '170232', '94724', '22001', '9383', '165098', '166836', '173366', '170300', '10683']\n"
     ]
    }
   ],
   "source": [
    "st=[]\n",
    "did=[]\n",
    "for link in links:\n",
    "    st=(link.get('href'))                            #Need to extract drug-id to put in final table and use in the link\n",
    "    loc = st.find(\"drugid=\") + 7\n",
    "    temp = \"\"\n",
    "    while(True):\n",
    "        if st[loc]==\"&\":\n",
    "            break\n",
    "        else:\n",
    "            temp = temp + st[loc]\n",
    "            loc = loc + 1\n",
    "    did.append(temp)\n",
    "    \n",
    "print(did)"
   ]
  },
  {
   "cell_type": "code",
   "execution_count": 18,
   "metadata": {},
   "outputs": [
    {
     "name": "stdout",
     "output_type": "stream",
     "text": [
      "['tramadol HCL', 'tramadol HCL ER', 'oxycodone HCL Solution', 'oxycodone HCL', 'oxycodone HCL ER', 'oxycodone tablet, oral ONLY', 'OxyContin', 'Suboxone Film, Medicated', 'Suboxone Tablet, Sublingual', 'methadone HCL', 'methadone HCL Solution', 'methadone HCL Tablet, Soluble']\n"
     ]
    }
   ],
   "source": [
    "#c.findAll('a')\n",
    "drug=c.find_all(\"a\", href=re.compile(\"details\"))          #Getting drugnames\n",
    "dlist=[]\n",
    "for i in range(12):\n",
    "    l=drug[i].text\n",
    "    dlist.append(l)\n",
    "print(dlist)"
   ]
  },
  {
   "cell_type": "code",
   "execution_count": 19,
   "metadata": {},
   "outputs": [
    {
     "name": "stdout",
     "output_type": "stream",
     "text": [
      "['2905', '2905', '1951', '1951', '1951', '1951', '1463', '1162', '1162', '1134', '1134', '1134']\n"
     ]
    }
   ],
   "source": [
    "rlist=[]\n",
    "for i in range(12):                                       #Getting number of reviews for each drug\n",
    "    review=c.find_all(\"a\", href=re.compile(\"drugreview\"))\n",
    "    r=review[i].text.split(\" \")\n",
    "    rlist.append(r[0])\n",
    "print(rlist)\n"
   ]
  },
  {
   "cell_type": "markdown",
   "metadata": {},
   "source": [
    "### 4. Creating a dataframe of top 5 drugs by eliminating duplicates"
   ]
  },
  {
   "cell_type": "code",
   "execution_count": 23,
   "metadata": {},
   "outputs": [],
   "source": [
    "df = pd.DataFrame(                                       #Creating a df of drug name and number of reviews for that drug\n",
    "    {'Drug': dlist,\n",
    "     'Reviews': rlist,\n",
    "     'Drug_ID' : did[0:12],\n",
    "    })\n",
    "#drug_list\n",
    "drugsv = df.drop_duplicates(subset='Reviews', keep=\"first\")       #Drop duplicates"
   ]
  },
  {
   "cell_type": "code",
   "execution_count": 24,
   "metadata": {},
   "outputs": [],
   "source": [
    "drugsv.to_csv('C:/Users/admin/Downloads/result1.csv')"
   ]
  },
  {
   "cell_type": "markdown",
   "metadata": {},
   "source": [
    "### 5. Function to Iterate over the strings to be replaced"
   ]
  },
  {
   "cell_type": "code",
   "execution_count": 25,
   "metadata": {},
   "outputs": [],
   "source": [
    "def replaceMultiple(mainString, toBeReplaces, newString):\n",
    "    # Iterate over the strings to be replaced\n",
    "    for elem in toBeReplaces :\n",
    "        # Check if string is in the main string\n",
    "        if elem in mainString :\n",
    "            # Replace the string\n",
    "            mainString = mainString.replace(elem, newString)\n",
    "    \n",
    "    return  mainString"
   ]
  },
  {
   "cell_type": "markdown",
   "metadata": {},
   "source": [
    "### 6. Scrapping\n",
    "The data for the drug name is scrapped from the webpage. It includes the reviews, ratings in 3 different categories and comments. The scrapped data is written to the csv file that is saved on the local machine. We currently are working on a sample of first 1000 records for computational convenience.\n"
   ]
  },
  {
   "cell_type": "code",
   "execution_count": 26,
   "metadata": {},
   "outputs": [
    {
     "data": {
      "text/plain": [
       "85"
      ]
     },
     "execution_count": 26,
     "metadata": {},
     "output_type": "execute_result"
    },
    {
     "data": {
      "text/plain": [
       "872"
      ]
     },
     "execution_count": 26,
     "metadata": {},
     "output_type": "execute_result"
    },
    {
     "data": {
      "text/plain": [
       "139"
      ]
     },
     "execution_count": 26,
     "metadata": {},
     "output_type": "execute_result"
    },
    {
     "data": {
      "text/plain": [
       "449"
      ]
     },
     "execution_count": 26,
     "metadata": {},
     "output_type": "execute_result"
    },
    {
     "data": {
      "text/plain": [
       "242"
      ]
     },
     "execution_count": 26,
     "metadata": {},
     "output_type": "execute_result"
    },
    {
     "data": {
      "text/plain": [
       "803"
      ]
     },
     "execution_count": 26,
     "metadata": {},
     "output_type": "execute_result"
    },
    {
     "data": {
      "text/plain": [
       "208"
      ]
     },
     "execution_count": 26,
     "metadata": {},
     "output_type": "execute_result"
    },
    {
     "data": {
      "text/plain": [
       "1605"
      ]
     },
     "execution_count": 26,
     "metadata": {},
     "output_type": "execute_result"
    },
    {
     "data": {
      "text/plain": [
       "111"
      ]
     },
     "execution_count": 26,
     "metadata": {},
     "output_type": "execute_result"
    },
    {
     "data": {
      "text/plain": [
       "374"
      ]
     },
     "execution_count": 26,
     "metadata": {},
     "output_type": "execute_result"
    },
    {
     "data": {
      "text/plain": [
       "153"
      ]
     },
     "execution_count": 26,
     "metadata": {},
     "output_type": "execute_result"
    },
    {
     "data": {
      "text/plain": [
       "417"
      ]
     },
     "execution_count": 26,
     "metadata": {},
     "output_type": "execute_result"
    },
    {
     "data": {
      "text/plain": [
       "261"
      ]
     },
     "execution_count": 26,
     "metadata": {},
     "output_type": "execute_result"
    },
    {
     "data": {
      "text/plain": [
       "427"
      ]
     },
     "execution_count": 26,
     "metadata": {},
     "output_type": "execute_result"
    },
    {
     "data": {
      "text/plain": [
       "513"
      ]
     },
     "execution_count": 26,
     "metadata": {},
     "output_type": "execute_result"
    },
    {
     "data": {
      "text/plain": [
       "290"
      ]
     },
     "execution_count": 26,
     "metadata": {},
     "output_type": "execute_result"
    },
    {
     "data": {
      "text/plain": [
       "385"
      ]
     },
     "execution_count": 26,
     "metadata": {},
     "output_type": "execute_result"
    },
    {
     "data": {
      "text/plain": [
       "1080"
      ]
     },
     "execution_count": 26,
     "metadata": {},
     "output_type": "execute_result"
    },
    {
     "data": {
      "text/plain": [
       "152"
      ]
     },
     "execution_count": 26,
     "metadata": {},
     "output_type": "execute_result"
    },
    {
     "data": {
      "text/plain": [
       "642"
      ]
     },
     "execution_count": 26,
     "metadata": {},
     "output_type": "execute_result"
    },
    {
     "data": {
      "text/plain": [
       "226"
      ]
     },
     "execution_count": 26,
     "metadata": {},
     "output_type": "execute_result"
    },
    {
     "data": {
      "text/plain": [
       "277"
      ]
     },
     "execution_count": 26,
     "metadata": {},
     "output_type": "execute_result"
    },
    {
     "data": {
      "text/plain": [
       "207"
      ]
     },
     "execution_count": 26,
     "metadata": {},
     "output_type": "execute_result"
    },
    {
     "data": {
      "text/plain": [
       "428"
      ]
     },
     "execution_count": 26,
     "metadata": {},
     "output_type": "execute_result"
    },
    {
     "data": {
      "text/plain": [
       "157"
      ]
     },
     "execution_count": 26,
     "metadata": {},
     "output_type": "execute_result"
    },
    {
     "data": {
      "text/plain": [
       "243"
      ]
     },
     "execution_count": 26,
     "metadata": {},
     "output_type": "execute_result"
    },
    {
     "data": {
      "text/plain": [
       "275"
      ]
     },
     "execution_count": 26,
     "metadata": {},
     "output_type": "execute_result"
    },
    {
     "data": {
      "text/plain": [
       "392"
      ]
     },
     "execution_count": 26,
     "metadata": {},
     "output_type": "execute_result"
    },
    {
     "data": {
      "text/plain": [
       "1194"
      ]
     },
     "execution_count": 26,
     "metadata": {},
     "output_type": "execute_result"
    },
    {
     "data": {
      "text/plain": [
       "249"
      ]
     },
     "execution_count": 26,
     "metadata": {},
     "output_type": "execute_result"
    },
    {
     "data": {
      "text/plain": [
       "377"
      ]
     },
     "execution_count": 26,
     "metadata": {},
     "output_type": "execute_result"
    },
    {
     "data": {
      "text/plain": [
       "172"
      ]
     },
     "execution_count": 26,
     "metadata": {},
     "output_type": "execute_result"
    },
    {
     "data": {
      "text/plain": [
       "153"
      ]
     },
     "execution_count": 26,
     "metadata": {},
     "output_type": "execute_result"
    },
    {
     "data": {
      "text/plain": [
       "782"
      ]
     },
     "execution_count": 26,
     "metadata": {},
     "output_type": "execute_result"
    },
    {
     "data": {
      "text/plain": [
       "335"
      ]
     },
     "execution_count": 26,
     "metadata": {},
     "output_type": "execute_result"
    },
    {
     "data": {
      "text/plain": [
       "249"
      ]
     },
     "execution_count": 26,
     "metadata": {},
     "output_type": "execute_result"
    },
    {
     "data": {
      "text/plain": [
       "160"
      ]
     },
     "execution_count": 26,
     "metadata": {},
     "output_type": "execute_result"
    },
    {
     "data": {
      "text/plain": [
       "390"
      ]
     },
     "execution_count": 26,
     "metadata": {},
     "output_type": "execute_result"
    },
    {
     "data": {
      "text/plain": [
       "226"
      ]
     },
     "execution_count": 26,
     "metadata": {},
     "output_type": "execute_result"
    },
    {
     "data": {
      "text/plain": [
       "120"
      ]
     },
     "execution_count": 26,
     "metadata": {},
     "output_type": "execute_result"
    },
    {
     "data": {
      "text/plain": [
       "115"
      ]
     },
     "execution_count": 26,
     "metadata": {},
     "output_type": "execute_result"
    },
    {
     "data": {
      "text/plain": [
       "98"
      ]
     },
     "execution_count": 26,
     "metadata": {},
     "output_type": "execute_result"
    },
    {
     "data": {
      "text/plain": [
       "337"
      ]
     },
     "execution_count": 26,
     "metadata": {},
     "output_type": "execute_result"
    },
    {
     "data": {
      "text/plain": [
       "1413"
      ]
     },
     "execution_count": 26,
     "metadata": {},
     "output_type": "execute_result"
    },
    {
     "data": {
      "text/plain": [
       "346"
      ]
     },
     "execution_count": 26,
     "metadata": {},
     "output_type": "execute_result"
    },
    {
     "data": {
      "text/plain": [
       "1409"
      ]
     },
     "execution_count": 26,
     "metadata": {},
     "output_type": "execute_result"
    },
    {
     "data": {
      "text/plain": [
       "143"
      ]
     },
     "execution_count": 26,
     "metadata": {},
     "output_type": "execute_result"
    },
    {
     "data": {
      "text/plain": [
       "244"
      ]
     },
     "execution_count": 26,
     "metadata": {},
     "output_type": "execute_result"
    },
    {
     "data": {
      "text/plain": [
       "65"
      ]
     },
     "execution_count": 26,
     "metadata": {},
     "output_type": "execute_result"
    },
    {
     "data": {
      "text/plain": [
       "981"
      ]
     },
     "execution_count": 26,
     "metadata": {},
     "output_type": "execute_result"
    },
    {
     "data": {
      "text/plain": [
       "360"
      ]
     },
     "execution_count": 26,
     "metadata": {},
     "output_type": "execute_result"
    },
    {
     "data": {
      "text/plain": [
       "102"
      ]
     },
     "execution_count": 26,
     "metadata": {},
     "output_type": "execute_result"
    },
    {
     "data": {
      "text/plain": [
       "303"
      ]
     },
     "execution_count": 26,
     "metadata": {},
     "output_type": "execute_result"
    },
    {
     "data": {
      "text/plain": [
       "467"
      ]
     },
     "execution_count": 26,
     "metadata": {},
     "output_type": "execute_result"
    },
    {
     "data": {
      "text/plain": [
       "342"
      ]
     },
     "execution_count": 26,
     "metadata": {},
     "output_type": "execute_result"
    },
    {
     "data": {
      "text/plain": [
       "1223"
      ]
     },
     "execution_count": 26,
     "metadata": {},
     "output_type": "execute_result"
    },
    {
     "data": {
      "text/plain": [
       "106"
      ]
     },
     "execution_count": 26,
     "metadata": {},
     "output_type": "execute_result"
    },
    {
     "data": {
      "text/plain": [
       "247"
      ]
     },
     "execution_count": 26,
     "metadata": {},
     "output_type": "execute_result"
    },
    {
     "data": {
      "text/plain": [
       "238"
      ]
     },
     "execution_count": 26,
     "metadata": {},
     "output_type": "execute_result"
    },
    {
     "data": {
      "text/plain": [
       "294"
      ]
     },
     "execution_count": 26,
     "metadata": {},
     "output_type": "execute_result"
    },
    {
     "data": {
      "text/plain": [
       "247"
      ]
     },
     "execution_count": 26,
     "metadata": {},
     "output_type": "execute_result"
    },
    {
     "data": {
      "text/plain": [
       "563"
      ]
     },
     "execution_count": 26,
     "metadata": {},
     "output_type": "execute_result"
    },
    {
     "data": {
      "text/plain": [
       "633"
      ]
     },
     "execution_count": 26,
     "metadata": {},
     "output_type": "execute_result"
    },
    {
     "data": {
      "text/plain": [
       "54"
      ]
     },
     "execution_count": 26,
     "metadata": {},
     "output_type": "execute_result"
    },
    {
     "data": {
      "text/plain": [
       "699"
      ]
     },
     "execution_count": 26,
     "metadata": {},
     "output_type": "execute_result"
    },
    {
     "data": {
      "text/plain": [
       "287"
      ]
     },
     "execution_count": 26,
     "metadata": {},
     "output_type": "execute_result"
    },
    {
     "data": {
      "text/plain": [
       "130"
      ]
     },
     "execution_count": 26,
     "metadata": {},
     "output_type": "execute_result"
    },
    {
     "data": {
      "text/plain": [
       "317"
      ]
     },
     "execution_count": 26,
     "metadata": {},
     "output_type": "execute_result"
    },
    {
     "data": {
      "text/plain": [
       "115"
      ]
     },
     "execution_count": 26,
     "metadata": {},
     "output_type": "execute_result"
    },
    {
     "data": {
      "text/plain": [
       "330"
      ]
     },
     "execution_count": 26,
     "metadata": {},
     "output_type": "execute_result"
    },
    {
     "data": {
      "text/plain": [
       "982"
      ]
     },
     "execution_count": 26,
     "metadata": {},
     "output_type": "execute_result"
    },
    {
     "data": {
      "text/plain": [
       "100"
      ]
     },
     "execution_count": 26,
     "metadata": {},
     "output_type": "execute_result"
    },
    {
     "data": {
      "text/plain": [
       "170"
      ]
     },
     "execution_count": 26,
     "metadata": {},
     "output_type": "execute_result"
    },
    {
     "data": {
      "text/plain": [
       "353"
      ]
     },
     "execution_count": 26,
     "metadata": {},
     "output_type": "execute_result"
    },
    {
     "data": {
      "text/plain": [
       "229"
      ]
     },
     "execution_count": 26,
     "metadata": {},
     "output_type": "execute_result"
    },
    {
     "data": {
      "text/plain": [
       "97"
      ]
     },
     "execution_count": 26,
     "metadata": {},
     "output_type": "execute_result"
    },
    {
     "data": {
      "text/plain": [
       "736"
      ]
     },
     "execution_count": 26,
     "metadata": {},
     "output_type": "execute_result"
    },
    {
     "data": {
      "text/plain": [
       "234"
      ]
     },
     "execution_count": 26,
     "metadata": {},
     "output_type": "execute_result"
    },
    {
     "data": {
      "text/plain": [
       "223"
      ]
     },
     "execution_count": 26,
     "metadata": {},
     "output_type": "execute_result"
    },
    {
     "data": {
      "text/plain": [
       "259"
      ]
     },
     "execution_count": 26,
     "metadata": {},
     "output_type": "execute_result"
    },
    {
     "data": {
      "text/plain": [
       "788"
      ]
     },
     "execution_count": 26,
     "metadata": {},
     "output_type": "execute_result"
    },
    {
     "data": {
      "text/plain": [
       "246"
      ]
     },
     "execution_count": 26,
     "metadata": {},
     "output_type": "execute_result"
    },
    {
     "data": {
      "text/plain": [
       "267"
      ]
     },
     "execution_count": 26,
     "metadata": {},
     "output_type": "execute_result"
    },
    {
     "data": {
      "text/plain": [
       "331"
      ]
     },
     "execution_count": 26,
     "metadata": {},
     "output_type": "execute_result"
    },
    {
     "data": {
      "text/plain": [
       "261"
      ]
     },
     "execution_count": 26,
     "metadata": {},
     "output_type": "execute_result"
    },
    {
     "data": {
      "text/plain": [
       "247"
      ]
     },
     "execution_count": 26,
     "metadata": {},
     "output_type": "execute_result"
    },
    {
     "data": {
      "text/plain": [
       "246"
      ]
     },
     "execution_count": 26,
     "metadata": {},
     "output_type": "execute_result"
    },
    {
     "data": {
      "text/plain": [
       "346"
      ]
     },
     "execution_count": 26,
     "metadata": {},
     "output_type": "execute_result"
    },
    {
     "data": {
      "text/plain": [
       "324"
      ]
     },
     "execution_count": 26,
     "metadata": {},
     "output_type": "execute_result"
    },
    {
     "data": {
      "text/plain": [
       "330"
      ]
     },
     "execution_count": 26,
     "metadata": {},
     "output_type": "execute_result"
    },
    {
     "data": {
      "text/plain": [
       "113"
      ]
     },
     "execution_count": 26,
     "metadata": {},
     "output_type": "execute_result"
    },
    {
     "data": {
      "text/plain": [
       "517"
      ]
     },
     "execution_count": 26,
     "metadata": {},
     "output_type": "execute_result"
    },
    {
     "data": {
      "text/plain": [
       "423"
      ]
     },
     "execution_count": 26,
     "metadata": {},
     "output_type": "execute_result"
    },
    {
     "data": {
      "text/plain": [
       "195"
      ]
     },
     "execution_count": 26,
     "metadata": {},
     "output_type": "execute_result"
    },
    {
     "data": {
      "text/plain": [
       "750"
      ]
     },
     "execution_count": 26,
     "metadata": {},
     "output_type": "execute_result"
    },
    {
     "data": {
      "text/plain": [
       "206"
      ]
     },
     "execution_count": 26,
     "metadata": {},
     "output_type": "execute_result"
    },
    {
     "data": {
      "text/plain": [
       "475"
      ]
     },
     "execution_count": 26,
     "metadata": {},
     "output_type": "execute_result"
    },
    {
     "data": {
      "text/plain": [
       "256"
      ]
     },
     "execution_count": 26,
     "metadata": {},
     "output_type": "execute_result"
    },
    {
     "data": {
      "text/plain": [
       "196"
      ]
     },
     "execution_count": 26,
     "metadata": {},
     "output_type": "execute_result"
    },
    {
     "data": {
      "text/plain": [
       "640"
      ]
     },
     "execution_count": 26,
     "metadata": {},
     "output_type": "execute_result"
    },
    {
     "data": {
      "text/plain": [
       "338"
      ]
     },
     "execution_count": 26,
     "metadata": {},
     "output_type": "execute_result"
    },
    {
     "data": {
      "text/plain": [
       "282"
      ]
     },
     "execution_count": 26,
     "metadata": {},
     "output_type": "execute_result"
    },
    {
     "data": {
      "text/plain": [
       "119"
      ]
     },
     "execution_count": 26,
     "metadata": {},
     "output_type": "execute_result"
    },
    {
     "data": {
      "text/plain": [
       "81"
      ]
     },
     "execution_count": 26,
     "metadata": {},
     "output_type": "execute_result"
    },
    {
     "data": {
      "text/plain": [
       "298"
      ]
     },
     "execution_count": 26,
     "metadata": {},
     "output_type": "execute_result"
    },
    {
     "data": {
      "text/plain": [
       "367"
      ]
     },
     "execution_count": 26,
     "metadata": {},
     "output_type": "execute_result"
    },
    {
     "data": {
      "text/plain": [
       "812"
      ]
     },
     "execution_count": 26,
     "metadata": {},
     "output_type": "execute_result"
    },
    {
     "data": {
      "text/plain": [
       "323"
      ]
     },
     "execution_count": 26,
     "metadata": {},
     "output_type": "execute_result"
    },
    {
     "data": {
      "text/plain": [
       "494"
      ]
     },
     "execution_count": 26,
     "metadata": {},
     "output_type": "execute_result"
    },
    {
     "data": {
      "text/plain": [
       "769"
      ]
     },
     "execution_count": 26,
     "metadata": {},
     "output_type": "execute_result"
    },
    {
     "data": {
      "text/plain": [
       "111"
      ]
     },
     "execution_count": 26,
     "metadata": {},
     "output_type": "execute_result"
    },
    {
     "data": {
      "text/plain": [
       "101"
      ]
     },
     "execution_count": 26,
     "metadata": {},
     "output_type": "execute_result"
    },
    {
     "data": {
      "text/plain": [
       "410"
      ]
     },
     "execution_count": 26,
     "metadata": {},
     "output_type": "execute_result"
    },
    {
     "data": {
      "text/plain": [
       "616"
      ]
     },
     "execution_count": 26,
     "metadata": {},
     "output_type": "execute_result"
    },
    {
     "data": {
      "text/plain": [
       "190"
      ]
     },
     "execution_count": 26,
     "metadata": {},
     "output_type": "execute_result"
    },
    {
     "data": {
      "text/plain": [
       "362"
      ]
     },
     "execution_count": 26,
     "metadata": {},
     "output_type": "execute_result"
    },
    {
     "data": {
      "text/plain": [
       "185"
      ]
     },
     "execution_count": 26,
     "metadata": {},
     "output_type": "execute_result"
    },
    {
     "data": {
      "text/plain": [
       "145"
      ]
     },
     "execution_count": 26,
     "metadata": {},
     "output_type": "execute_result"
    },
    {
     "data": {
      "text/plain": [
       "442"
      ]
     },
     "execution_count": 26,
     "metadata": {},
     "output_type": "execute_result"
    },
    {
     "data": {
      "text/plain": [
       "122"
      ]
     },
     "execution_count": 26,
     "metadata": {},
     "output_type": "execute_result"
    },
    {
     "data": {
      "text/plain": [
       "301"
      ]
     },
     "execution_count": 26,
     "metadata": {},
     "output_type": "execute_result"
    },
    {
     "data": {
      "text/plain": [
       "515"
      ]
     },
     "execution_count": 26,
     "metadata": {},
     "output_type": "execute_result"
    },
    {
     "data": {
      "text/plain": [
       "522"
      ]
     },
     "execution_count": 26,
     "metadata": {},
     "output_type": "execute_result"
    },
    {
     "data": {
      "text/plain": [
       "457"
      ]
     },
     "execution_count": 26,
     "metadata": {},
     "output_type": "execute_result"
    },
    {
     "data": {
      "text/plain": [
       "318"
      ]
     },
     "execution_count": 26,
     "metadata": {},
     "output_type": "execute_result"
    },
    {
     "data": {
      "text/plain": [
       "305"
      ]
     },
     "execution_count": 26,
     "metadata": {},
     "output_type": "execute_result"
    },
    {
     "data": {
      "text/plain": [
       "224"
      ]
     },
     "execution_count": 26,
     "metadata": {},
     "output_type": "execute_result"
    },
    {
     "data": {
      "text/plain": [
       "558"
      ]
     },
     "execution_count": 26,
     "metadata": {},
     "output_type": "execute_result"
    },
    {
     "data": {
      "text/plain": [
       "280"
      ]
     },
     "execution_count": 26,
     "metadata": {},
     "output_type": "execute_result"
    },
    {
     "data": {
      "text/plain": [
       "380"
      ]
     },
     "execution_count": 26,
     "metadata": {},
     "output_type": "execute_result"
    },
    {
     "data": {
      "text/plain": [
       "1073"
      ]
     },
     "execution_count": 26,
     "metadata": {},
     "output_type": "execute_result"
    },
    {
     "data": {
      "text/plain": [
       "456"
      ]
     },
     "execution_count": 26,
     "metadata": {},
     "output_type": "execute_result"
    },
    {
     "data": {
      "text/plain": [
       "205"
      ]
     },
     "execution_count": 26,
     "metadata": {},
     "output_type": "execute_result"
    },
    {
     "data": {
      "text/plain": [
       "608"
      ]
     },
     "execution_count": 26,
     "metadata": {},
     "output_type": "execute_result"
    },
    {
     "data": {
      "text/plain": [
       "106"
      ]
     },
     "execution_count": 26,
     "metadata": {},
     "output_type": "execute_result"
    },
    {
     "data": {
      "text/plain": [
       "200"
      ]
     },
     "execution_count": 26,
     "metadata": {},
     "output_type": "execute_result"
    },
    {
     "data": {
      "text/plain": [
       "131"
      ]
     },
     "execution_count": 26,
     "metadata": {},
     "output_type": "execute_result"
    },
    {
     "data": {
      "text/plain": [
       "120"
      ]
     },
     "execution_count": 26,
     "metadata": {},
     "output_type": "execute_result"
    },
    {
     "data": {
      "text/plain": [
       "1328"
      ]
     },
     "execution_count": 26,
     "metadata": {},
     "output_type": "execute_result"
    },
    {
     "data": {
      "text/plain": [
       "421"
      ]
     },
     "execution_count": 26,
     "metadata": {},
     "output_type": "execute_result"
    },
    {
     "data": {
      "text/plain": [
       "284"
      ]
     },
     "execution_count": 26,
     "metadata": {},
     "output_type": "execute_result"
    },
    {
     "data": {
      "text/plain": [
       "429"
      ]
     },
     "execution_count": 26,
     "metadata": {},
     "output_type": "execute_result"
    },
    {
     "data": {
      "text/plain": [
       "241"
      ]
     },
     "execution_count": 26,
     "metadata": {},
     "output_type": "execute_result"
    },
    {
     "data": {
      "text/plain": [
       "294"
      ]
     },
     "execution_count": 26,
     "metadata": {},
     "output_type": "execute_result"
    },
    {
     "data": {
      "text/plain": [
       "565"
      ]
     },
     "execution_count": 26,
     "metadata": {},
     "output_type": "execute_result"
    },
    {
     "data": {
      "text/plain": [
       "540"
      ]
     },
     "execution_count": 26,
     "metadata": {},
     "output_type": "execute_result"
    },
    {
     "data": {
      "text/plain": [
       "231"
      ]
     },
     "execution_count": 26,
     "metadata": {},
     "output_type": "execute_result"
    },
    {
     "data": {
      "text/plain": [
       "407"
      ]
     },
     "execution_count": 26,
     "metadata": {},
     "output_type": "execute_result"
    },
    {
     "data": {
      "text/plain": [
       "708"
      ]
     },
     "execution_count": 26,
     "metadata": {},
     "output_type": "execute_result"
    },
    {
     "data": {
      "text/plain": [
       "694"
      ]
     },
     "execution_count": 26,
     "metadata": {},
     "output_type": "execute_result"
    },
    {
     "data": {
      "text/plain": [
       "174"
      ]
     },
     "execution_count": 26,
     "metadata": {},
     "output_type": "execute_result"
    },
    {
     "data": {
      "text/plain": [
       "629"
      ]
     },
     "execution_count": 26,
     "metadata": {},
     "output_type": "execute_result"
    },
    {
     "data": {
      "text/plain": [
       "225"
      ]
     },
     "execution_count": 26,
     "metadata": {},
     "output_type": "execute_result"
    },
    {
     "data": {
      "text/plain": [
       "1312"
      ]
     },
     "execution_count": 26,
     "metadata": {},
     "output_type": "execute_result"
    },
    {
     "data": {
      "text/plain": [
       "266"
      ]
     },
     "execution_count": 26,
     "metadata": {},
     "output_type": "execute_result"
    },
    {
     "data": {
      "text/plain": [
       "177"
      ]
     },
     "execution_count": 26,
     "metadata": {},
     "output_type": "execute_result"
    },
    {
     "data": {
      "text/plain": [
       "332"
      ]
     },
     "execution_count": 26,
     "metadata": {},
     "output_type": "execute_result"
    },
    {
     "data": {
      "text/plain": [
       "115"
      ]
     },
     "execution_count": 26,
     "metadata": {},
     "output_type": "execute_result"
    },
    {
     "data": {
      "text/plain": [
       "691"
      ]
     },
     "execution_count": 26,
     "metadata": {},
     "output_type": "execute_result"
    },
    {
     "data": {
      "text/plain": [
       "186"
      ]
     },
     "execution_count": 26,
     "metadata": {},
     "output_type": "execute_result"
    },
    {
     "data": {
      "text/plain": [
       "625"
      ]
     },
     "execution_count": 26,
     "metadata": {},
     "output_type": "execute_result"
    },
    {
     "data": {
      "text/plain": [
       "355"
      ]
     },
     "execution_count": 26,
     "metadata": {},
     "output_type": "execute_result"
    },
    {
     "data": {
      "text/plain": [
       "527"
      ]
     },
     "execution_count": 26,
     "metadata": {},
     "output_type": "execute_result"
    },
    {
     "data": {
      "text/plain": [
       "187"
      ]
     },
     "execution_count": 26,
     "metadata": {},
     "output_type": "execute_result"
    },
    {
     "data": {
      "text/plain": [
       "431"
      ]
     },
     "execution_count": 26,
     "metadata": {},
     "output_type": "execute_result"
    },
    {
     "data": {
      "text/plain": [
       "405"
      ]
     },
     "execution_count": 26,
     "metadata": {},
     "output_type": "execute_result"
    },
    {
     "data": {
      "text/plain": [
       "813"
      ]
     },
     "execution_count": 26,
     "metadata": {},
     "output_type": "execute_result"
    },
    {
     "data": {
      "text/plain": [
       "122"
      ]
     },
     "execution_count": 26,
     "metadata": {},
     "output_type": "execute_result"
    },
    {
     "data": {
      "text/plain": [
       "250"
      ]
     },
     "execution_count": 26,
     "metadata": {},
     "output_type": "execute_result"
    },
    {
     "data": {
      "text/plain": [
       "344"
      ]
     },
     "execution_count": 26,
     "metadata": {},
     "output_type": "execute_result"
    },
    {
     "data": {
      "text/plain": [
       "433"
      ]
     },
     "execution_count": 26,
     "metadata": {},
     "output_type": "execute_result"
    },
    {
     "data": {
      "text/plain": [
       "208"
      ]
     },
     "execution_count": 26,
     "metadata": {},
     "output_type": "execute_result"
    },
    {
     "data": {
      "text/plain": [
       "1035"
      ]
     },
     "execution_count": 26,
     "metadata": {},
     "output_type": "execute_result"
    },
    {
     "data": {
      "text/plain": [
       "212"
      ]
     },
     "execution_count": 26,
     "metadata": {},
     "output_type": "execute_result"
    },
    {
     "data": {
      "text/plain": [
       "236"
      ]
     },
     "execution_count": 26,
     "metadata": {},
     "output_type": "execute_result"
    },
    {
     "data": {
      "text/plain": [
       "190"
      ]
     },
     "execution_count": 26,
     "metadata": {},
     "output_type": "execute_result"
    },
    {
     "data": {
      "text/plain": [
       "238"
      ]
     },
     "execution_count": 26,
     "metadata": {},
     "output_type": "execute_result"
    },
    {
     "data": {
      "text/plain": [
       "154"
      ]
     },
     "execution_count": 26,
     "metadata": {},
     "output_type": "execute_result"
    },
    {
     "data": {
      "text/plain": [
       "189"
      ]
     },
     "execution_count": 26,
     "metadata": {},
     "output_type": "execute_result"
    },
    {
     "data": {
      "text/plain": [
       "135"
      ]
     },
     "execution_count": 26,
     "metadata": {},
     "output_type": "execute_result"
    },
    {
     "data": {
      "text/plain": [
       "184"
      ]
     },
     "execution_count": 26,
     "metadata": {},
     "output_type": "execute_result"
    },
    {
     "data": {
      "text/plain": [
       "112"
      ]
     },
     "execution_count": 26,
     "metadata": {},
     "output_type": "execute_result"
    },
    {
     "data": {
      "text/plain": [
       "785"
      ]
     },
     "execution_count": 26,
     "metadata": {},
     "output_type": "execute_result"
    },
    {
     "data": {
      "text/plain": [
       "198"
      ]
     },
     "execution_count": 26,
     "metadata": {},
     "output_type": "execute_result"
    },
    {
     "data": {
      "text/plain": [
       "102"
      ]
     },
     "execution_count": 26,
     "metadata": {},
     "output_type": "execute_result"
    },
    {
     "data": {
      "text/plain": [
       "892"
      ]
     },
     "execution_count": 26,
     "metadata": {},
     "output_type": "execute_result"
    },
    {
     "data": {
      "text/plain": [
       "305"
      ]
     },
     "execution_count": 26,
     "metadata": {},
     "output_type": "execute_result"
    },
    {
     "data": {
      "text/plain": [
       "270"
      ]
     },
     "execution_count": 26,
     "metadata": {},
     "output_type": "execute_result"
    },
    {
     "data": {
      "text/plain": [
       "432"
      ]
     },
     "execution_count": 26,
     "metadata": {},
     "output_type": "execute_result"
    },
    {
     "data": {
      "text/plain": [
       "107"
      ]
     },
     "execution_count": 26,
     "metadata": {},
     "output_type": "execute_result"
    },
    {
     "data": {
      "text/plain": [
       "408"
      ]
     },
     "execution_count": 26,
     "metadata": {},
     "output_type": "execute_result"
    },
    {
     "data": {
      "text/plain": [
       "964"
      ]
     },
     "execution_count": 26,
     "metadata": {},
     "output_type": "execute_result"
    },
    {
     "data": {
      "text/plain": [
       "1214"
      ]
     },
     "execution_count": 26,
     "metadata": {},
     "output_type": "execute_result"
    },
    {
     "data": {
      "text/plain": [
       "792"
      ]
     },
     "execution_count": 26,
     "metadata": {},
     "output_type": "execute_result"
    },
    {
     "data": {
      "text/plain": [
       "383"
      ]
     },
     "execution_count": 26,
     "metadata": {},
     "output_type": "execute_result"
    },
    {
     "data": {
      "text/plain": [
       "454"
      ]
     },
     "execution_count": 26,
     "metadata": {},
     "output_type": "execute_result"
    },
    {
     "data": {
      "text/plain": [
       "306"
      ]
     },
     "execution_count": 26,
     "metadata": {},
     "output_type": "execute_result"
    },
    {
     "data": {
      "text/plain": [
       "244"
      ]
     },
     "execution_count": 26,
     "metadata": {},
     "output_type": "execute_result"
    },
    {
     "data": {
      "text/plain": [
       "294"
      ]
     },
     "execution_count": 26,
     "metadata": {},
     "output_type": "execute_result"
    },
    {
     "data": {
      "text/plain": [
       "631"
      ]
     },
     "execution_count": 26,
     "metadata": {},
     "output_type": "execute_result"
    },
    {
     "data": {
      "text/plain": [
       "696"
      ]
     },
     "execution_count": 26,
     "metadata": {},
     "output_type": "execute_result"
    },
    {
     "data": {
      "text/plain": [
       "407"
      ]
     },
     "execution_count": 26,
     "metadata": {},
     "output_type": "execute_result"
    },
    {
     "data": {
      "text/plain": [
       "528"
      ]
     },
     "execution_count": 26,
     "metadata": {},
     "output_type": "execute_result"
    },
    {
     "data": {
      "text/plain": [
       "96"
      ]
     },
     "execution_count": 26,
     "metadata": {},
     "output_type": "execute_result"
    },
    {
     "data": {
      "text/plain": [
       "249"
      ]
     },
     "execution_count": 26,
     "metadata": {},
     "output_type": "execute_result"
    },
    {
     "data": {
      "text/plain": [
       "568"
      ]
     },
     "execution_count": 26,
     "metadata": {},
     "output_type": "execute_result"
    },
    {
     "data": {
      "text/plain": [
       "313"
      ]
     },
     "execution_count": 26,
     "metadata": {},
     "output_type": "execute_result"
    },
    {
     "data": {
      "text/plain": [
       "398"
      ]
     },
     "execution_count": 26,
     "metadata": {},
     "output_type": "execute_result"
    },
    {
     "data": {
      "text/plain": [
       "687"
      ]
     },
     "execution_count": 26,
     "metadata": {},
     "output_type": "execute_result"
    },
    {
     "data": {
      "text/plain": [
       "248"
      ]
     },
     "execution_count": 26,
     "metadata": {},
     "output_type": "execute_result"
    },
    {
     "data": {
      "text/plain": [
       "734"
      ]
     },
     "execution_count": 26,
     "metadata": {},
     "output_type": "execute_result"
    },
    {
     "data": {
      "text/plain": [
       "359"
      ]
     },
     "execution_count": 26,
     "metadata": {},
     "output_type": "execute_result"
    },
    {
     "data": {
      "text/plain": [
       "174"
      ]
     },
     "execution_count": 26,
     "metadata": {},
     "output_type": "execute_result"
    },
    {
     "data": {
      "text/plain": [
       "435"
      ]
     },
     "execution_count": 26,
     "metadata": {},
     "output_type": "execute_result"
    },
    {
     "data": {
      "text/plain": [
       "240"
      ]
     },
     "execution_count": 26,
     "metadata": {},
     "output_type": "execute_result"
    },
    {
     "data": {
      "text/plain": [
       "475"
      ]
     },
     "execution_count": 26,
     "metadata": {},
     "output_type": "execute_result"
    },
    {
     "data": {
      "text/plain": [
       "248"
      ]
     },
     "execution_count": 26,
     "metadata": {},
     "output_type": "execute_result"
    },
    {
     "data": {
      "text/plain": [
       "479"
      ]
     },
     "execution_count": 26,
     "metadata": {},
     "output_type": "execute_result"
    },
    {
     "data": {
      "text/plain": [
       "336"
      ]
     },
     "execution_count": 26,
     "metadata": {},
     "output_type": "execute_result"
    },
    {
     "data": {
      "text/plain": [
       "290"
      ]
     },
     "execution_count": 26,
     "metadata": {},
     "output_type": "execute_result"
    },
    {
     "data": {
      "text/plain": [
       "259"
      ]
     },
     "execution_count": 26,
     "metadata": {},
     "output_type": "execute_result"
    },
    {
     "data": {
      "text/plain": [
       "476"
      ]
     },
     "execution_count": 26,
     "metadata": {},
     "output_type": "execute_result"
    },
    {
     "data": {
      "text/plain": [
       "175"
      ]
     },
     "execution_count": 26,
     "metadata": {},
     "output_type": "execute_result"
    },
    {
     "data": {
      "text/plain": [
       "740"
      ]
     },
     "execution_count": 26,
     "metadata": {},
     "output_type": "execute_result"
    },
    {
     "data": {
      "text/plain": [
       "121"
      ]
     },
     "execution_count": 26,
     "metadata": {},
     "output_type": "execute_result"
    },
    {
     "data": {
      "text/plain": [
       "843"
      ]
     },
     "execution_count": 26,
     "metadata": {},
     "output_type": "execute_result"
    },
    {
     "data": {
      "text/plain": [
       "370"
      ]
     },
     "execution_count": 26,
     "metadata": {},
     "output_type": "execute_result"
    },
    {
     "data": {
      "text/plain": [
       "880"
      ]
     },
     "execution_count": 26,
     "metadata": {},
     "output_type": "execute_result"
    },
    {
     "data": {
      "text/plain": [
       "340"
      ]
     },
     "execution_count": 26,
     "metadata": {},
     "output_type": "execute_result"
    },
    {
     "data": {
      "text/plain": [
       "310"
      ]
     },
     "execution_count": 26,
     "metadata": {},
     "output_type": "execute_result"
    },
    {
     "data": {
      "text/plain": [
       "172"
      ]
     },
     "execution_count": 26,
     "metadata": {},
     "output_type": "execute_result"
    },
    {
     "data": {
      "text/plain": [
       "102"
      ]
     },
     "execution_count": 26,
     "metadata": {},
     "output_type": "execute_result"
    },
    {
     "data": {
      "text/plain": [
       "394"
      ]
     },
     "execution_count": 26,
     "metadata": {},
     "output_type": "execute_result"
    },
    {
     "data": {
      "text/plain": [
       "437"
      ]
     },
     "execution_count": 26,
     "metadata": {},
     "output_type": "execute_result"
    },
    {
     "data": {
      "text/plain": [
       "355"
      ]
     },
     "execution_count": 26,
     "metadata": {},
     "output_type": "execute_result"
    },
    {
     "data": {
      "text/plain": [
       "149"
      ]
     },
     "execution_count": 26,
     "metadata": {},
     "output_type": "execute_result"
    },
    {
     "data": {
      "text/plain": [
       "567"
      ]
     },
     "execution_count": 26,
     "metadata": {},
     "output_type": "execute_result"
    },
    {
     "data": {
      "text/plain": [
       "191"
      ]
     },
     "execution_count": 26,
     "metadata": {},
     "output_type": "execute_result"
    },
    {
     "data": {
      "text/plain": [
       "355"
      ]
     },
     "execution_count": 26,
     "metadata": {},
     "output_type": "execute_result"
    },
    {
     "data": {
      "text/plain": [
       "206"
      ]
     },
     "execution_count": 26,
     "metadata": {},
     "output_type": "execute_result"
    },
    {
     "data": {
      "text/plain": [
       "213"
      ]
     },
     "execution_count": 26,
     "metadata": {},
     "output_type": "execute_result"
    },
    {
     "data": {
      "text/plain": [
       "203"
      ]
     },
     "execution_count": 26,
     "metadata": {},
     "output_type": "execute_result"
    },
    {
     "data": {
      "text/plain": [
       "1419"
      ]
     },
     "execution_count": 26,
     "metadata": {},
     "output_type": "execute_result"
    },
    {
     "data": {
      "text/plain": [
       "308"
      ]
     },
     "execution_count": 26,
     "metadata": {},
     "output_type": "execute_result"
    },
    {
     "data": {
      "text/plain": [
       "188"
      ]
     },
     "execution_count": 26,
     "metadata": {},
     "output_type": "execute_result"
    },
    {
     "data": {
      "text/plain": [
       "118"
      ]
     },
     "execution_count": 26,
     "metadata": {},
     "output_type": "execute_result"
    },
    {
     "data": {
      "text/plain": [
       "90"
      ]
     },
     "execution_count": 26,
     "metadata": {},
     "output_type": "execute_result"
    },
    {
     "data": {
      "text/plain": [
       "110"
      ]
     },
     "execution_count": 26,
     "metadata": {},
     "output_type": "execute_result"
    },
    {
     "data": {
      "text/plain": [
       "476"
      ]
     },
     "execution_count": 26,
     "metadata": {},
     "output_type": "execute_result"
    },
    {
     "data": {
      "text/plain": [
       "319"
      ]
     },
     "execution_count": 26,
     "metadata": {},
     "output_type": "execute_result"
    },
    {
     "data": {
      "text/plain": [
       "108"
      ]
     },
     "execution_count": 26,
     "metadata": {},
     "output_type": "execute_result"
    },
    {
     "data": {
      "text/plain": [
       "355"
      ]
     },
     "execution_count": 26,
     "metadata": {},
     "output_type": "execute_result"
    },
    {
     "data": {
      "text/plain": [
       "98"
      ]
     },
     "execution_count": 26,
     "metadata": {},
     "output_type": "execute_result"
    },
    {
     "data": {
      "text/plain": [
       "249"
      ]
     },
     "execution_count": 26,
     "metadata": {},
     "output_type": "execute_result"
    },
    {
     "data": {
      "text/plain": [
       "137"
      ]
     },
     "execution_count": 26,
     "metadata": {},
     "output_type": "execute_result"
    },
    {
     "data": {
      "text/plain": [
       "166"
      ]
     },
     "execution_count": 26,
     "metadata": {},
     "output_type": "execute_result"
    },
    {
     "data": {
      "text/plain": [
       "207"
      ]
     },
     "execution_count": 26,
     "metadata": {},
     "output_type": "execute_result"
    },
    {
     "data": {
      "text/plain": [
       "107"
      ]
     },
     "execution_count": 26,
     "metadata": {},
     "output_type": "execute_result"
    },
    {
     "data": {
      "text/plain": [
       "98"
      ]
     },
     "execution_count": 26,
     "metadata": {},
     "output_type": "execute_result"
    },
    {
     "data": {
      "text/plain": [
       "329"
      ]
     },
     "execution_count": 26,
     "metadata": {},
     "output_type": "execute_result"
    },
    {
     "data": {
      "text/plain": [
       "391"
      ]
     },
     "execution_count": 26,
     "metadata": {},
     "output_type": "execute_result"
    },
    {
     "data": {
      "text/plain": [
       "229"
      ]
     },
     "execution_count": 26,
     "metadata": {},
     "output_type": "execute_result"
    },
    {
     "data": {
      "text/plain": [
       "128"
      ]
     },
     "execution_count": 26,
     "metadata": {},
     "output_type": "execute_result"
    },
    {
     "data": {
      "text/plain": [
       "307"
      ]
     },
     "execution_count": 26,
     "metadata": {},
     "output_type": "execute_result"
    },
    {
     "data": {
      "text/plain": [
       "399"
      ]
     },
     "execution_count": 26,
     "metadata": {},
     "output_type": "execute_result"
    },
    {
     "data": {
      "text/plain": [
       "277"
      ]
     },
     "execution_count": 26,
     "metadata": {},
     "output_type": "execute_result"
    },
    {
     "data": {
      "text/plain": [
       "350"
      ]
     },
     "execution_count": 26,
     "metadata": {},
     "output_type": "execute_result"
    },
    {
     "data": {
      "text/plain": [
       "124"
      ]
     },
     "execution_count": 26,
     "metadata": {},
     "output_type": "execute_result"
    },
    {
     "data": {
      "text/plain": [
       "181"
      ]
     },
     "execution_count": 26,
     "metadata": {},
     "output_type": "execute_result"
    },
    {
     "data": {
      "text/plain": [
       "186"
      ]
     },
     "execution_count": 26,
     "metadata": {},
     "output_type": "execute_result"
    },
    {
     "data": {
      "text/plain": [
       "280"
      ]
     },
     "execution_count": 26,
     "metadata": {},
     "output_type": "execute_result"
    },
    {
     "data": {
      "text/plain": [
       "251"
      ]
     },
     "execution_count": 26,
     "metadata": {},
     "output_type": "execute_result"
    },
    {
     "data": {
      "text/plain": [
       "382"
      ]
     },
     "execution_count": 26,
     "metadata": {},
     "output_type": "execute_result"
    },
    {
     "data": {
      "text/plain": [
       "340"
      ]
     },
     "execution_count": 26,
     "metadata": {},
     "output_type": "execute_result"
    },
    {
     "data": {
      "text/plain": [
       "247"
      ]
     },
     "execution_count": 26,
     "metadata": {},
     "output_type": "execute_result"
    },
    {
     "data": {
      "text/plain": [
       "282"
      ]
     },
     "execution_count": 26,
     "metadata": {},
     "output_type": "execute_result"
    },
    {
     "data": {
      "text/plain": [
       "235"
      ]
     },
     "execution_count": 26,
     "metadata": {},
     "output_type": "execute_result"
    },
    {
     "data": {
      "text/plain": [
       "119"
      ]
     },
     "execution_count": 26,
     "metadata": {},
     "output_type": "execute_result"
    },
    {
     "data": {
      "text/plain": [
       "205"
      ]
     },
     "execution_count": 26,
     "metadata": {},
     "output_type": "execute_result"
    },
    {
     "data": {
      "text/plain": [
       "232"
      ]
     },
     "execution_count": 26,
     "metadata": {},
     "output_type": "execute_result"
    },
    {
     "data": {
      "text/plain": [
       "589"
      ]
     },
     "execution_count": 26,
     "metadata": {},
     "output_type": "execute_result"
    },
    {
     "data": {
      "text/plain": [
       "165"
      ]
     },
     "execution_count": 26,
     "metadata": {},
     "output_type": "execute_result"
    },
    {
     "data": {
      "text/plain": [
       "207"
      ]
     },
     "execution_count": 26,
     "metadata": {},
     "output_type": "execute_result"
    },
    {
     "data": {
      "text/plain": [
       "107"
      ]
     },
     "execution_count": 26,
     "metadata": {},
     "output_type": "execute_result"
    },
    {
     "data": {
      "text/plain": [
       "210"
      ]
     },
     "execution_count": 26,
     "metadata": {},
     "output_type": "execute_result"
    },
    {
     "data": {
      "text/plain": [
       "197"
      ]
     },
     "execution_count": 26,
     "metadata": {},
     "output_type": "execute_result"
    },
    {
     "data": {
      "text/plain": [
       "268"
      ]
     },
     "execution_count": 26,
     "metadata": {},
     "output_type": "execute_result"
    },
    {
     "data": {
      "text/plain": [
       "175"
      ]
     },
     "execution_count": 26,
     "metadata": {},
     "output_type": "execute_result"
    },
    {
     "data": {
      "text/plain": [
       "99"
      ]
     },
     "execution_count": 26,
     "metadata": {},
     "output_type": "execute_result"
    },
    {
     "data": {
      "text/plain": [
       "156"
      ]
     },
     "execution_count": 26,
     "metadata": {},
     "output_type": "execute_result"
    },
    {
     "data": {
      "text/plain": [
       "187"
      ]
     },
     "execution_count": 26,
     "metadata": {},
     "output_type": "execute_result"
    },
    {
     "data": {
      "text/plain": [
       "194"
      ]
     },
     "execution_count": 26,
     "metadata": {},
     "output_type": "execute_result"
    },
    {
     "data": {
      "text/plain": [
       "128"
      ]
     },
     "execution_count": 26,
     "metadata": {},
     "output_type": "execute_result"
    },
    {
     "data": {
      "text/plain": [
       "120"
      ]
     },
     "execution_count": 26,
     "metadata": {},
     "output_type": "execute_result"
    },
    {
     "data": {
      "text/plain": [
       "621"
      ]
     },
     "execution_count": 26,
     "metadata": {},
     "output_type": "execute_result"
    },
    {
     "data": {
      "text/plain": [
       "199"
      ]
     },
     "execution_count": 26,
     "metadata": {},
     "output_type": "execute_result"
    },
    {
     "data": {
      "text/plain": [
       "718"
      ]
     },
     "execution_count": 26,
     "metadata": {},
     "output_type": "execute_result"
    },
    {
     "data": {
      "text/plain": [
       "504"
      ]
     },
     "execution_count": 26,
     "metadata": {},
     "output_type": "execute_result"
    },
    {
     "data": {
      "text/plain": [
       "426"
      ]
     },
     "execution_count": 26,
     "metadata": {},
     "output_type": "execute_result"
    },
    {
     "data": {
      "text/plain": [
       "466"
      ]
     },
     "execution_count": 26,
     "metadata": {},
     "output_type": "execute_result"
    },
    {
     "data": {
      "text/plain": [
       "386"
      ]
     },
     "execution_count": 26,
     "metadata": {},
     "output_type": "execute_result"
    },
    {
     "data": {
      "text/plain": [
       "253"
      ]
     },
     "execution_count": 26,
     "metadata": {},
     "output_type": "execute_result"
    },
    {
     "data": {
      "text/plain": [
       "458"
      ]
     },
     "execution_count": 26,
     "metadata": {},
     "output_type": "execute_result"
    },
    {
     "data": {
      "text/plain": [
       "201"
      ]
     },
     "execution_count": 26,
     "metadata": {},
     "output_type": "execute_result"
    },
    {
     "data": {
      "text/plain": [
       "291"
      ]
     },
     "execution_count": 26,
     "metadata": {},
     "output_type": "execute_result"
    },
    {
     "data": {
      "text/plain": [
       "441"
      ]
     },
     "execution_count": 26,
     "metadata": {},
     "output_type": "execute_result"
    },
    {
     "data": {
      "text/plain": [
       "490"
      ]
     },
     "execution_count": 26,
     "metadata": {},
     "output_type": "execute_result"
    },
    {
     "data": {
      "text/plain": [
       "411"
      ]
     },
     "execution_count": 26,
     "metadata": {},
     "output_type": "execute_result"
    },
    {
     "data": {
      "text/plain": [
       "515"
      ]
     },
     "execution_count": 26,
     "metadata": {},
     "output_type": "execute_result"
    },
    {
     "data": {
      "text/plain": [
       "434"
      ]
     },
     "execution_count": 26,
     "metadata": {},
     "output_type": "execute_result"
    },
    {
     "data": {
      "text/plain": [
       "102"
      ]
     },
     "execution_count": 26,
     "metadata": {},
     "output_type": "execute_result"
    },
    {
     "data": {
      "text/plain": [
       "265"
      ]
     },
     "execution_count": 26,
     "metadata": {},
     "output_type": "execute_result"
    },
    {
     "data": {
      "text/plain": [
       "186"
      ]
     },
     "execution_count": 26,
     "metadata": {},
     "output_type": "execute_result"
    },
    {
     "data": {
      "text/plain": [
       "261"
      ]
     },
     "execution_count": 26,
     "metadata": {},
     "output_type": "execute_result"
    },
    {
     "data": {
      "text/plain": [
       "118"
      ]
     },
     "execution_count": 26,
     "metadata": {},
     "output_type": "execute_result"
    },
    {
     "data": {
      "text/plain": [
       "283"
      ]
     },
     "execution_count": 26,
     "metadata": {},
     "output_type": "execute_result"
    },
    {
     "data": {
      "text/plain": [
       "123"
      ]
     },
     "execution_count": 26,
     "metadata": {},
     "output_type": "execute_result"
    },
    {
     "data": {
      "text/plain": [
       "279"
      ]
     },
     "execution_count": 26,
     "metadata": {},
     "output_type": "execute_result"
    },
    {
     "data": {
      "text/plain": [
       "322"
      ]
     },
     "execution_count": 26,
     "metadata": {},
     "output_type": "execute_result"
    },
    {
     "data": {
      "text/plain": [
       "114"
      ]
     },
     "execution_count": 26,
     "metadata": {},
     "output_type": "execute_result"
    },
    {
     "data": {
      "text/plain": [
       "71"
      ]
     },
     "execution_count": 26,
     "metadata": {},
     "output_type": "execute_result"
    },
    {
     "data": {
      "text/plain": [
       "668"
      ]
     },
     "execution_count": 26,
     "metadata": {},
     "output_type": "execute_result"
    },
    {
     "data": {
      "text/plain": [
       "108"
      ]
     },
     "execution_count": 26,
     "metadata": {},
     "output_type": "execute_result"
    },
    {
     "data": {
      "text/plain": [
       "1092"
      ]
     },
     "execution_count": 26,
     "metadata": {},
     "output_type": "execute_result"
    },
    {
     "data": {
      "text/plain": [
       "416"
      ]
     },
     "execution_count": 26,
     "metadata": {},
     "output_type": "execute_result"
    },
    {
     "data": {
      "text/plain": [
       "247"
      ]
     },
     "execution_count": 26,
     "metadata": {},
     "output_type": "execute_result"
    },
    {
     "data": {
      "text/plain": [
       "539"
      ]
     },
     "execution_count": 26,
     "metadata": {},
     "output_type": "execute_result"
    },
    {
     "data": {
      "text/plain": [
       "420"
      ]
     },
     "execution_count": 26,
     "metadata": {},
     "output_type": "execute_result"
    },
    {
     "data": {
      "text/plain": [
       "366"
      ]
     },
     "execution_count": 26,
     "metadata": {},
     "output_type": "execute_result"
    },
    {
     "data": {
      "text/plain": [
       "145"
      ]
     },
     "execution_count": 26,
     "metadata": {},
     "output_type": "execute_result"
    },
    {
     "data": {
      "text/plain": [
       "107"
      ]
     },
     "execution_count": 26,
     "metadata": {},
     "output_type": "execute_result"
    },
    {
     "data": {
      "text/plain": [
       "662"
      ]
     },
     "execution_count": 26,
     "metadata": {},
     "output_type": "execute_result"
    },
    {
     "data": {
      "text/plain": [
       "98"
      ]
     },
     "execution_count": 26,
     "metadata": {},
     "output_type": "execute_result"
    },
    {
     "data": {
      "text/plain": [
       "215"
      ]
     },
     "execution_count": 26,
     "metadata": {},
     "output_type": "execute_result"
    },
    {
     "data": {
      "text/plain": [
       "145"
      ]
     },
     "execution_count": 26,
     "metadata": {},
     "output_type": "execute_result"
    },
    {
     "data": {
      "text/plain": [
       "157"
      ]
     },
     "execution_count": 26,
     "metadata": {},
     "output_type": "execute_result"
    },
    {
     "data": {
      "text/plain": [
       "157"
      ]
     },
     "execution_count": 26,
     "metadata": {},
     "output_type": "execute_result"
    },
    {
     "data": {
      "text/plain": [
       "1368"
      ]
     },
     "execution_count": 26,
     "metadata": {},
     "output_type": "execute_result"
    },
    {
     "data": {
      "text/plain": [
       "67"
      ]
     },
     "execution_count": 26,
     "metadata": {},
     "output_type": "execute_result"
    },
    {
     "data": {
      "text/plain": [
       "342"
      ]
     },
     "execution_count": 26,
     "metadata": {},
     "output_type": "execute_result"
    },
    {
     "data": {
      "text/plain": [
       "422"
      ]
     },
     "execution_count": 26,
     "metadata": {},
     "output_type": "execute_result"
    },
    {
     "data": {
      "text/plain": [
       "457"
      ]
     },
     "execution_count": 26,
     "metadata": {},
     "output_type": "execute_result"
    },
    {
     "data": {
      "text/plain": [
       "214"
      ]
     },
     "execution_count": 26,
     "metadata": {},
     "output_type": "execute_result"
    },
    {
     "data": {
      "text/plain": [
       "325"
      ]
     },
     "execution_count": 26,
     "metadata": {},
     "output_type": "execute_result"
    },
    {
     "data": {
      "text/plain": [
       "169"
      ]
     },
     "execution_count": 26,
     "metadata": {},
     "output_type": "execute_result"
    },
    {
     "data": {
      "text/plain": [
       "654"
      ]
     },
     "execution_count": 26,
     "metadata": {},
     "output_type": "execute_result"
    },
    {
     "data": {
      "text/plain": [
       "305"
      ]
     },
     "execution_count": 26,
     "metadata": {},
     "output_type": "execute_result"
    },
    {
     "data": {
      "text/plain": [
       "212"
      ]
     },
     "execution_count": 26,
     "metadata": {},
     "output_type": "execute_result"
    },
    {
     "data": {
      "text/plain": [
       "672"
      ]
     },
     "execution_count": 26,
     "metadata": {},
     "output_type": "execute_result"
    },
    {
     "data": {
      "text/plain": [
       "433"
      ]
     },
     "execution_count": 26,
     "metadata": {},
     "output_type": "execute_result"
    },
    {
     "data": {
      "text/plain": [
       "235"
      ]
     },
     "execution_count": 26,
     "metadata": {},
     "output_type": "execute_result"
    },
    {
     "data": {
      "text/plain": [
       "256"
      ]
     },
     "execution_count": 26,
     "metadata": {},
     "output_type": "execute_result"
    },
    {
     "data": {
      "text/plain": [
       "161"
      ]
     },
     "execution_count": 26,
     "metadata": {},
     "output_type": "execute_result"
    },
    {
     "data": {
      "text/plain": [
       "247"
      ]
     },
     "execution_count": 26,
     "metadata": {},
     "output_type": "execute_result"
    },
    {
     "data": {
      "text/plain": [
       "112"
      ]
     },
     "execution_count": 26,
     "metadata": {},
     "output_type": "execute_result"
    },
    {
     "data": {
      "text/plain": [
       "303"
      ]
     },
     "execution_count": 26,
     "metadata": {},
     "output_type": "execute_result"
    },
    {
     "data": {
      "text/plain": [
       "416"
      ]
     },
     "execution_count": 26,
     "metadata": {},
     "output_type": "execute_result"
    },
    {
     "data": {
      "text/plain": [
       "1031"
      ]
     },
     "execution_count": 26,
     "metadata": {},
     "output_type": "execute_result"
    },
    {
     "data": {
      "text/plain": [
       "1223"
      ]
     },
     "execution_count": 26,
     "metadata": {},
     "output_type": "execute_result"
    },
    {
     "data": {
      "text/plain": [
       "139"
      ]
     },
     "execution_count": 26,
     "metadata": {},
     "output_type": "execute_result"
    },
    {
     "data": {
      "text/plain": [
       "288"
      ]
     },
     "execution_count": 26,
     "metadata": {},
     "output_type": "execute_result"
    },
    {
     "data": {
      "text/plain": [
       "143"
      ]
     },
     "execution_count": 26,
     "metadata": {},
     "output_type": "execute_result"
    },
    {
     "data": {
      "text/plain": [
       "104"
      ]
     },
     "execution_count": 26,
     "metadata": {},
     "output_type": "execute_result"
    },
    {
     "data": {
      "text/plain": [
       "169"
      ]
     },
     "execution_count": 26,
     "metadata": {},
     "output_type": "execute_result"
    },
    {
     "data": {
      "text/plain": [
       "2113"
      ]
     },
     "execution_count": 26,
     "metadata": {},
     "output_type": "execute_result"
    },
    {
     "data": {
      "text/plain": [
       "374"
      ]
     },
     "execution_count": 26,
     "metadata": {},
     "output_type": "execute_result"
    },
    {
     "data": {
      "text/plain": [
       "405"
      ]
     },
     "execution_count": 26,
     "metadata": {},
     "output_type": "execute_result"
    },
    {
     "data": {
      "text/plain": [
       "359"
      ]
     },
     "execution_count": 26,
     "metadata": {},
     "output_type": "execute_result"
    },
    {
     "data": {
      "text/plain": [
       "223"
      ]
     },
     "execution_count": 26,
     "metadata": {},
     "output_type": "execute_result"
    },
    {
     "data": {
      "text/plain": [
       "535"
      ]
     },
     "execution_count": 26,
     "metadata": {},
     "output_type": "execute_result"
    },
    {
     "data": {
      "text/plain": [
       "259"
      ]
     },
     "execution_count": 26,
     "metadata": {},
     "output_type": "execute_result"
    },
    {
     "data": {
      "text/plain": [
       "330"
      ]
     },
     "execution_count": 26,
     "metadata": {},
     "output_type": "execute_result"
    },
    {
     "data": {
      "text/plain": [
       "134"
      ]
     },
     "execution_count": 26,
     "metadata": {},
     "output_type": "execute_result"
    },
    {
     "data": {
      "text/plain": [
       "339"
      ]
     },
     "execution_count": 26,
     "metadata": {},
     "output_type": "execute_result"
    },
    {
     "data": {
      "text/plain": [
       "187"
      ]
     },
     "execution_count": 26,
     "metadata": {},
     "output_type": "execute_result"
    },
    {
     "data": {
      "text/plain": [
       "249"
      ]
     },
     "execution_count": 26,
     "metadata": {},
     "output_type": "execute_result"
    },
    {
     "data": {
      "text/plain": [
       "247"
      ]
     },
     "execution_count": 26,
     "metadata": {},
     "output_type": "execute_result"
    },
    {
     "data": {
      "text/plain": [
       "513"
      ]
     },
     "execution_count": 26,
     "metadata": {},
     "output_type": "execute_result"
    },
    {
     "data": {
      "text/plain": [
       "1059"
      ]
     },
     "execution_count": 26,
     "metadata": {},
     "output_type": "execute_result"
    },
    {
     "data": {
      "text/plain": [
       "144"
      ]
     },
     "execution_count": 26,
     "metadata": {},
     "output_type": "execute_result"
    },
    {
     "data": {
      "text/plain": [
       "108"
      ]
     },
     "execution_count": 26,
     "metadata": {},
     "output_type": "execute_result"
    },
    {
     "data": {
      "text/plain": [
       "357"
      ]
     },
     "execution_count": 26,
     "metadata": {},
     "output_type": "execute_result"
    },
    {
     "data": {
      "text/plain": [
       "470"
      ]
     },
     "execution_count": 26,
     "metadata": {},
     "output_type": "execute_result"
    },
    {
     "data": {
      "text/plain": [
       "324"
      ]
     },
     "execution_count": 26,
     "metadata": {},
     "output_type": "execute_result"
    },
    {
     "data": {
      "text/plain": [
       "285"
      ]
     },
     "execution_count": 26,
     "metadata": {},
     "output_type": "execute_result"
    },
    {
     "data": {
      "text/plain": [
       "103"
      ]
     },
     "execution_count": 26,
     "metadata": {},
     "output_type": "execute_result"
    },
    {
     "data": {
      "text/plain": [
       "280"
      ]
     },
     "execution_count": 26,
     "metadata": {},
     "output_type": "execute_result"
    },
    {
     "data": {
      "text/plain": [
       "111"
      ]
     },
     "execution_count": 26,
     "metadata": {},
     "output_type": "execute_result"
    },
    {
     "data": {
      "text/plain": [
       "313"
      ]
     },
     "execution_count": 26,
     "metadata": {},
     "output_type": "execute_result"
    },
    {
     "data": {
      "text/plain": [
       "411"
      ]
     },
     "execution_count": 26,
     "metadata": {},
     "output_type": "execute_result"
    },
    {
     "data": {
      "text/plain": [
       "102"
      ]
     },
     "execution_count": 26,
     "metadata": {},
     "output_type": "execute_result"
    },
    {
     "data": {
      "text/plain": [
       "264"
      ]
     },
     "execution_count": 26,
     "metadata": {},
     "output_type": "execute_result"
    },
    {
     "data": {
      "text/plain": [
       "359"
      ]
     },
     "execution_count": 26,
     "metadata": {},
     "output_type": "execute_result"
    },
    {
     "data": {
      "text/plain": [
       "236"
      ]
     },
     "execution_count": 26,
     "metadata": {},
     "output_type": "execute_result"
    },
    {
     "data": {
      "text/plain": [
       "184"
      ]
     },
     "execution_count": 26,
     "metadata": {},
     "output_type": "execute_result"
    },
    {
     "data": {
      "text/plain": [
       "305"
      ]
     },
     "execution_count": 26,
     "metadata": {},
     "output_type": "execute_result"
    },
    {
     "data": {
      "text/plain": [
       "101"
      ]
     },
     "execution_count": 26,
     "metadata": {},
     "output_type": "execute_result"
    },
    {
     "data": {
      "text/plain": [
       "311"
      ]
     },
     "execution_count": 26,
     "metadata": {},
     "output_type": "execute_result"
    },
    {
     "data": {
      "text/plain": [
       "107"
      ]
     },
     "execution_count": 26,
     "metadata": {},
     "output_type": "execute_result"
    },
    {
     "data": {
      "text/plain": [
       "227"
      ]
     },
     "execution_count": 26,
     "metadata": {},
     "output_type": "execute_result"
    },
    {
     "data": {
      "text/plain": [
       "840"
      ]
     },
     "execution_count": 26,
     "metadata": {},
     "output_type": "execute_result"
    },
    {
     "data": {
      "text/plain": [
       "185"
      ]
     },
     "execution_count": 26,
     "metadata": {},
     "output_type": "execute_result"
    },
    {
     "data": {
      "text/plain": [
       "227"
      ]
     },
     "execution_count": 26,
     "metadata": {},
     "output_type": "execute_result"
    },
    {
     "data": {
      "text/plain": [
       "342"
      ]
     },
     "execution_count": 26,
     "metadata": {},
     "output_type": "execute_result"
    },
    {
     "data": {
      "text/plain": [
       "130"
      ]
     },
     "execution_count": 26,
     "metadata": {},
     "output_type": "execute_result"
    },
    {
     "data": {
      "text/plain": [
       "464"
      ]
     },
     "execution_count": 26,
     "metadata": {},
     "output_type": "execute_result"
    },
    {
     "data": {
      "text/plain": [
       "202"
      ]
     },
     "execution_count": 26,
     "metadata": {},
     "output_type": "execute_result"
    },
    {
     "data": {
      "text/plain": [
       "194"
      ]
     },
     "execution_count": 26,
     "metadata": {},
     "output_type": "execute_result"
    },
    {
     "data": {
      "text/plain": [
       "115"
      ]
     },
     "execution_count": 26,
     "metadata": {},
     "output_type": "execute_result"
    },
    {
     "data": {
      "text/plain": [
       "43"
      ]
     },
     "execution_count": 26,
     "metadata": {},
     "output_type": "execute_result"
    },
    {
     "data": {
      "text/plain": [
       "164"
      ]
     },
     "execution_count": 26,
     "metadata": {},
     "output_type": "execute_result"
    },
    {
     "data": {
      "text/plain": [
       "43"
      ]
     },
     "execution_count": 26,
     "metadata": {},
     "output_type": "execute_result"
    },
    {
     "data": {
      "text/plain": [
       "226"
      ]
     },
     "execution_count": 26,
     "metadata": {},
     "output_type": "execute_result"
    },
    {
     "data": {
      "text/plain": [
       "527"
      ]
     },
     "execution_count": 26,
     "metadata": {},
     "output_type": "execute_result"
    },
    {
     "data": {
      "text/plain": [
       "150"
      ]
     },
     "execution_count": 26,
     "metadata": {},
     "output_type": "execute_result"
    },
    {
     "data": {
      "text/plain": [
       "201"
      ]
     },
     "execution_count": 26,
     "metadata": {},
     "output_type": "execute_result"
    },
    {
     "data": {
      "text/plain": [
       "102"
      ]
     },
     "execution_count": 26,
     "metadata": {},
     "output_type": "execute_result"
    },
    {
     "data": {
      "text/plain": [
       "203"
      ]
     },
     "execution_count": 26,
     "metadata": {},
     "output_type": "execute_result"
    },
    {
     "data": {
      "text/plain": [
       "316"
      ]
     },
     "execution_count": 26,
     "metadata": {},
     "output_type": "execute_result"
    },
    {
     "data": {
      "text/plain": [
       "235"
      ]
     },
     "execution_count": 26,
     "metadata": {},
     "output_type": "execute_result"
    },
    {
     "data": {
      "text/plain": [
       "429"
      ]
     },
     "execution_count": 26,
     "metadata": {},
     "output_type": "execute_result"
    },
    {
     "data": {
      "text/plain": [
       "679"
      ]
     },
     "execution_count": 26,
     "metadata": {},
     "output_type": "execute_result"
    },
    {
     "data": {
      "text/plain": [
       "112"
      ]
     },
     "execution_count": 26,
     "metadata": {},
     "output_type": "execute_result"
    },
    {
     "data": {
      "text/plain": [
       "242"
      ]
     },
     "execution_count": 26,
     "metadata": {},
     "output_type": "execute_result"
    },
    {
     "data": {
      "text/plain": [
       "177"
      ]
     },
     "execution_count": 26,
     "metadata": {},
     "output_type": "execute_result"
    },
    {
     "data": {
      "text/plain": [
       "179"
      ]
     },
     "execution_count": 26,
     "metadata": {},
     "output_type": "execute_result"
    },
    {
     "data": {
      "text/plain": [
       "435"
      ]
     },
     "execution_count": 26,
     "metadata": {},
     "output_type": "execute_result"
    },
    {
     "data": {
      "text/plain": [
       "91"
      ]
     },
     "execution_count": 26,
     "metadata": {},
     "output_type": "execute_result"
    },
    {
     "data": {
      "text/plain": [
       "355"
      ]
     },
     "execution_count": 26,
     "metadata": {},
     "output_type": "execute_result"
    },
    {
     "data": {
      "text/plain": [
       "127"
      ]
     },
     "execution_count": 26,
     "metadata": {},
     "output_type": "execute_result"
    },
    {
     "data": {
      "text/plain": [
       "317"
      ]
     },
     "execution_count": 26,
     "metadata": {},
     "output_type": "execute_result"
    },
    {
     "data": {
      "text/plain": [
       "338"
      ]
     },
     "execution_count": 26,
     "metadata": {},
     "output_type": "execute_result"
    },
    {
     "data": {
      "text/plain": [
       "126"
      ]
     },
     "execution_count": 26,
     "metadata": {},
     "output_type": "execute_result"
    },
    {
     "data": {
      "text/plain": [
       "429"
      ]
     },
     "execution_count": 26,
     "metadata": {},
     "output_type": "execute_result"
    },
    {
     "data": {
      "text/plain": [
       "314"
      ]
     },
     "execution_count": 26,
     "metadata": {},
     "output_type": "execute_result"
    },
    {
     "data": {
      "text/plain": [
       "137"
      ]
     },
     "execution_count": 26,
     "metadata": {},
     "output_type": "execute_result"
    },
    {
     "data": {
      "text/plain": [
       "421"
      ]
     },
     "execution_count": 26,
     "metadata": {},
     "output_type": "execute_result"
    },
    {
     "data": {
      "text/plain": [
       "165"
      ]
     },
     "execution_count": 26,
     "metadata": {},
     "output_type": "execute_result"
    },
    {
     "data": {
      "text/plain": [
       "237"
      ]
     },
     "execution_count": 26,
     "metadata": {},
     "output_type": "execute_result"
    },
    {
     "data": {
      "text/plain": [
       "121"
      ]
     },
     "execution_count": 26,
     "metadata": {},
     "output_type": "execute_result"
    },
    {
     "data": {
      "text/plain": [
       "136"
      ]
     },
     "execution_count": 26,
     "metadata": {},
     "output_type": "execute_result"
    },
    {
     "data": {
      "text/plain": [
       "106"
      ]
     },
     "execution_count": 26,
     "metadata": {},
     "output_type": "execute_result"
    },
    {
     "data": {
      "text/plain": [
       "179"
      ]
     },
     "execution_count": 26,
     "metadata": {},
     "output_type": "execute_result"
    },
    {
     "data": {
      "text/plain": [
       "396"
      ]
     },
     "execution_count": 26,
     "metadata": {},
     "output_type": "execute_result"
    },
    {
     "data": {
      "text/plain": [
       "424"
      ]
     },
     "execution_count": 26,
     "metadata": {},
     "output_type": "execute_result"
    },
    {
     "data": {
      "text/plain": [
       "278"
      ]
     },
     "execution_count": 26,
     "metadata": {},
     "output_type": "execute_result"
    },
    {
     "data": {
      "text/plain": [
       "278"
      ]
     },
     "execution_count": 26,
     "metadata": {},
     "output_type": "execute_result"
    },
    {
     "data": {
      "text/plain": [
       "285"
      ]
     },
     "execution_count": 26,
     "metadata": {},
     "output_type": "execute_result"
    },
    {
     "data": {
      "text/plain": [
       "559"
      ]
     },
     "execution_count": 26,
     "metadata": {},
     "output_type": "execute_result"
    },
    {
     "data": {
      "text/plain": [
       "654"
      ]
     },
     "execution_count": 26,
     "metadata": {},
     "output_type": "execute_result"
    },
    {
     "data": {
      "text/plain": [
       "122"
      ]
     },
     "execution_count": 26,
     "metadata": {},
     "output_type": "execute_result"
    },
    {
     "data": {
      "text/plain": [
       "226"
      ]
     },
     "execution_count": 26,
     "metadata": {},
     "output_type": "execute_result"
    },
    {
     "data": {
      "text/plain": [
       "190"
      ]
     },
     "execution_count": 26,
     "metadata": {},
     "output_type": "execute_result"
    },
    {
     "data": {
      "text/plain": [
       "367"
      ]
     },
     "execution_count": 26,
     "metadata": {},
     "output_type": "execute_result"
    },
    {
     "data": {
      "text/plain": [
       "352"
      ]
     },
     "execution_count": 26,
     "metadata": {},
     "output_type": "execute_result"
    },
    {
     "data": {
      "text/plain": [
       "189"
      ]
     },
     "execution_count": 26,
     "metadata": {},
     "output_type": "execute_result"
    },
    {
     "data": {
      "text/plain": [
       "116"
      ]
     },
     "execution_count": 26,
     "metadata": {},
     "output_type": "execute_result"
    },
    {
     "data": {
      "text/plain": [
       "263"
      ]
     },
     "execution_count": 26,
     "metadata": {},
     "output_type": "execute_result"
    },
    {
     "data": {
      "text/plain": [
       "321"
      ]
     },
     "execution_count": 26,
     "metadata": {},
     "output_type": "execute_result"
    },
    {
     "data": {
      "text/plain": [
       "142"
      ]
     },
     "execution_count": 26,
     "metadata": {},
     "output_type": "execute_result"
    },
    {
     "data": {
      "text/plain": [
       "599"
      ]
     },
     "execution_count": 26,
     "metadata": {},
     "output_type": "execute_result"
    },
    {
     "data": {
      "text/plain": [
       "157"
      ]
     },
     "execution_count": 26,
     "metadata": {},
     "output_type": "execute_result"
    },
    {
     "data": {
      "text/plain": [
       "722"
      ]
     },
     "execution_count": 26,
     "metadata": {},
     "output_type": "execute_result"
    },
    {
     "data": {
      "text/plain": [
       "164"
      ]
     },
     "execution_count": 26,
     "metadata": {},
     "output_type": "execute_result"
    },
    {
     "data": {
      "text/plain": [
       "110"
      ]
     },
     "execution_count": 26,
     "metadata": {},
     "output_type": "execute_result"
    },
    {
     "data": {
      "text/plain": [
       "313"
      ]
     },
     "execution_count": 26,
     "metadata": {},
     "output_type": "execute_result"
    },
    {
     "data": {
      "text/plain": [
       "380"
      ]
     },
     "execution_count": 26,
     "metadata": {},
     "output_type": "execute_result"
    },
    {
     "data": {
      "text/plain": [
       "160"
      ]
     },
     "execution_count": 26,
     "metadata": {},
     "output_type": "execute_result"
    },
    {
     "data": {
      "text/plain": [
       "509"
      ]
     },
     "execution_count": 26,
     "metadata": {},
     "output_type": "execute_result"
    },
    {
     "data": {
      "text/plain": [
       "121"
      ]
     },
     "execution_count": 26,
     "metadata": {},
     "output_type": "execute_result"
    },
    {
     "data": {
      "text/plain": [
       "222"
      ]
     },
     "execution_count": 26,
     "metadata": {},
     "output_type": "execute_result"
    },
    {
     "data": {
      "text/plain": [
       "465"
      ]
     },
     "execution_count": 26,
     "metadata": {},
     "output_type": "execute_result"
    },
    {
     "data": {
      "text/plain": [
       "138"
      ]
     },
     "execution_count": 26,
     "metadata": {},
     "output_type": "execute_result"
    },
    {
     "data": {
      "text/plain": [
       "220"
      ]
     },
     "execution_count": 26,
     "metadata": {},
     "output_type": "execute_result"
    },
    {
     "data": {
      "text/plain": [
       "167"
      ]
     },
     "execution_count": 26,
     "metadata": {},
     "output_type": "execute_result"
    },
    {
     "data": {
      "text/plain": [
       "169"
      ]
     },
     "execution_count": 26,
     "metadata": {},
     "output_type": "execute_result"
    },
    {
     "data": {
      "text/plain": [
       "340"
      ]
     },
     "execution_count": 26,
     "metadata": {},
     "output_type": "execute_result"
    },
    {
     "data": {
      "text/plain": [
       "120"
      ]
     },
     "execution_count": 26,
     "metadata": {},
     "output_type": "execute_result"
    },
    {
     "data": {
      "text/plain": [
       "644"
      ]
     },
     "execution_count": 26,
     "metadata": {},
     "output_type": "execute_result"
    },
    {
     "data": {
      "text/plain": [
       "391"
      ]
     },
     "execution_count": 26,
     "metadata": {},
     "output_type": "execute_result"
    },
    {
     "data": {
      "text/plain": [
       "116"
      ]
     },
     "execution_count": 26,
     "metadata": {},
     "output_type": "execute_result"
    },
    {
     "data": {
      "text/plain": [
       "619"
      ]
     },
     "execution_count": 26,
     "metadata": {},
     "output_type": "execute_result"
    },
    {
     "data": {
      "text/plain": [
       "380"
      ]
     },
     "execution_count": 26,
     "metadata": {},
     "output_type": "execute_result"
    },
    {
     "data": {
      "text/plain": [
       "94"
      ]
     },
     "execution_count": 26,
     "metadata": {},
     "output_type": "execute_result"
    },
    {
     "data": {
      "text/plain": [
       "153"
      ]
     },
     "execution_count": 26,
     "metadata": {},
     "output_type": "execute_result"
    },
    {
     "data": {
      "text/plain": [
       "227"
      ]
     },
     "execution_count": 26,
     "metadata": {},
     "output_type": "execute_result"
    },
    {
     "data": {
      "text/plain": [
       "225"
      ]
     },
     "execution_count": 26,
     "metadata": {},
     "output_type": "execute_result"
    },
    {
     "data": {
      "text/plain": [
       "128"
      ]
     },
     "execution_count": 26,
     "metadata": {},
     "output_type": "execute_result"
    },
    {
     "data": {
      "text/plain": [
       "91"
      ]
     },
     "execution_count": 26,
     "metadata": {},
     "output_type": "execute_result"
    },
    {
     "data": {
      "text/plain": [
       "105"
      ]
     },
     "execution_count": 26,
     "metadata": {},
     "output_type": "execute_result"
    },
    {
     "data": {
      "text/plain": [
       "193"
      ]
     },
     "execution_count": 26,
     "metadata": {},
     "output_type": "execute_result"
    },
    {
     "data": {
      "text/plain": [
       "255"
      ]
     },
     "execution_count": 26,
     "metadata": {},
     "output_type": "execute_result"
    },
    {
     "data": {
      "text/plain": [
       "170"
      ]
     },
     "execution_count": 26,
     "metadata": {},
     "output_type": "execute_result"
    },
    {
     "data": {
      "text/plain": [
       "431"
      ]
     },
     "execution_count": 26,
     "metadata": {},
     "output_type": "execute_result"
    },
    {
     "data": {
      "text/plain": [
       "96"
      ]
     },
     "execution_count": 26,
     "metadata": {},
     "output_type": "execute_result"
    },
    {
     "data": {
      "text/plain": [
       "297"
      ]
     },
     "execution_count": 26,
     "metadata": {},
     "output_type": "execute_result"
    },
    {
     "data": {
      "text/plain": [
       "219"
      ]
     },
     "execution_count": 26,
     "metadata": {},
     "output_type": "execute_result"
    },
    {
     "data": {
      "text/plain": [
       "234"
      ]
     },
     "execution_count": 26,
     "metadata": {},
     "output_type": "execute_result"
    },
    {
     "data": {
      "text/plain": [
       "429"
      ]
     },
     "execution_count": 26,
     "metadata": {},
     "output_type": "execute_result"
    },
    {
     "data": {
      "text/plain": [
       "306"
      ]
     },
     "execution_count": 26,
     "metadata": {},
     "output_type": "execute_result"
    },
    {
     "data": {
      "text/plain": [
       "123"
      ]
     },
     "execution_count": 26,
     "metadata": {},
     "output_type": "execute_result"
    },
    {
     "data": {
      "text/plain": [
       "98"
      ]
     },
     "execution_count": 26,
     "metadata": {},
     "output_type": "execute_result"
    },
    {
     "data": {
      "text/plain": [
       "98"
      ]
     },
     "execution_count": 26,
     "metadata": {},
     "output_type": "execute_result"
    },
    {
     "data": {
      "text/plain": [
       "758"
      ]
     },
     "execution_count": 26,
     "metadata": {},
     "output_type": "execute_result"
    },
    {
     "data": {
      "text/plain": [
       "301"
      ]
     },
     "execution_count": 26,
     "metadata": {},
     "output_type": "execute_result"
    },
    {
     "data": {
      "text/plain": [
       "114"
      ]
     },
     "execution_count": 26,
     "metadata": {},
     "output_type": "execute_result"
    },
    {
     "data": {
      "text/plain": [
       "224"
      ]
     },
     "execution_count": 26,
     "metadata": {},
     "output_type": "execute_result"
    },
    {
     "data": {
      "text/plain": [
       "414"
      ]
     },
     "execution_count": 26,
     "metadata": {},
     "output_type": "execute_result"
    },
    {
     "data": {
      "text/plain": [
       "245"
      ]
     },
     "execution_count": 26,
     "metadata": {},
     "output_type": "execute_result"
    },
    {
     "data": {
      "text/plain": [
       "324"
      ]
     },
     "execution_count": 26,
     "metadata": {},
     "output_type": "execute_result"
    },
    {
     "data": {
      "text/plain": [
       "173"
      ]
     },
     "execution_count": 26,
     "metadata": {},
     "output_type": "execute_result"
    },
    {
     "data": {
      "text/plain": [
       "868"
      ]
     },
     "execution_count": 26,
     "metadata": {},
     "output_type": "execute_result"
    },
    {
     "data": {
      "text/plain": [
       "98"
      ]
     },
     "execution_count": 26,
     "metadata": {},
     "output_type": "execute_result"
    },
    {
     "data": {
      "text/plain": [
       "111"
      ]
     },
     "execution_count": 26,
     "metadata": {},
     "output_type": "execute_result"
    },
    {
     "data": {
      "text/plain": [
       "890"
      ]
     },
     "execution_count": 26,
     "metadata": {},
     "output_type": "execute_result"
    },
    {
     "data": {
      "text/plain": [
       "385"
      ]
     },
     "execution_count": 26,
     "metadata": {},
     "output_type": "execute_result"
    },
    {
     "data": {
      "text/plain": [
       "212"
      ]
     },
     "execution_count": 26,
     "metadata": {},
     "output_type": "execute_result"
    },
    {
     "data": {
      "text/plain": [
       "309"
      ]
     },
     "execution_count": 26,
     "metadata": {},
     "output_type": "execute_result"
    },
    {
     "data": {
      "text/plain": [
       "491"
      ]
     },
     "execution_count": 26,
     "metadata": {},
     "output_type": "execute_result"
    },
    {
     "data": {
      "text/plain": [
       "524"
      ]
     },
     "execution_count": 26,
     "metadata": {},
     "output_type": "execute_result"
    },
    {
     "data": {
      "text/plain": [
       "304"
      ]
     },
     "execution_count": 26,
     "metadata": {},
     "output_type": "execute_result"
    },
    {
     "data": {
      "text/plain": [
       "353"
      ]
     },
     "execution_count": 26,
     "metadata": {},
     "output_type": "execute_result"
    },
    {
     "data": {
      "text/plain": [
       "67"
      ]
     },
     "execution_count": 26,
     "metadata": {},
     "output_type": "execute_result"
    },
    {
     "data": {
      "text/plain": [
       "473"
      ]
     },
     "execution_count": 26,
     "metadata": {},
     "output_type": "execute_result"
    },
    {
     "data": {
      "text/plain": [
       "134"
      ]
     },
     "execution_count": 26,
     "metadata": {},
     "output_type": "execute_result"
    },
    {
     "data": {
      "text/plain": [
       "718"
      ]
     },
     "execution_count": 26,
     "metadata": {},
     "output_type": "execute_result"
    },
    {
     "data": {
      "text/plain": [
       "312"
      ]
     },
     "execution_count": 26,
     "metadata": {},
     "output_type": "execute_result"
    },
    {
     "data": {
      "text/plain": [
       "184"
      ]
     },
     "execution_count": 26,
     "metadata": {},
     "output_type": "execute_result"
    },
    {
     "data": {
      "text/plain": [
       "173"
      ]
     },
     "execution_count": 26,
     "metadata": {},
     "output_type": "execute_result"
    },
    {
     "data": {
      "text/plain": [
       "523"
      ]
     },
     "execution_count": 26,
     "metadata": {},
     "output_type": "execute_result"
    },
    {
     "data": {
      "text/plain": [
       "150"
      ]
     },
     "execution_count": 26,
     "metadata": {},
     "output_type": "execute_result"
    },
    {
     "data": {
      "text/plain": [
       "121"
      ]
     },
     "execution_count": 26,
     "metadata": {},
     "output_type": "execute_result"
    },
    {
     "data": {
      "text/plain": [
       "157"
      ]
     },
     "execution_count": 26,
     "metadata": {},
     "output_type": "execute_result"
    },
    {
     "data": {
      "text/plain": [
       "295"
      ]
     },
     "execution_count": 26,
     "metadata": {},
     "output_type": "execute_result"
    },
    {
     "data": {
      "text/plain": [
       "161"
      ]
     },
     "execution_count": 26,
     "metadata": {},
     "output_type": "execute_result"
    },
    {
     "data": {
      "text/plain": [
       "92"
      ]
     },
     "execution_count": 26,
     "metadata": {},
     "output_type": "execute_result"
    },
    {
     "data": {
      "text/plain": [
       "102"
      ]
     },
     "execution_count": 26,
     "metadata": {},
     "output_type": "execute_result"
    },
    {
     "data": {
      "text/plain": [
       "228"
      ]
     },
     "execution_count": 26,
     "metadata": {},
     "output_type": "execute_result"
    },
    {
     "data": {
      "text/plain": [
       "188"
      ]
     },
     "execution_count": 26,
     "metadata": {},
     "output_type": "execute_result"
    },
    {
     "data": {
      "text/plain": [
       "133"
      ]
     },
     "execution_count": 26,
     "metadata": {},
     "output_type": "execute_result"
    },
    {
     "data": {
      "text/plain": [
       "415"
      ]
     },
     "execution_count": 26,
     "metadata": {},
     "output_type": "execute_result"
    },
    {
     "data": {
      "text/plain": [
       "226"
      ]
     },
     "execution_count": 26,
     "metadata": {},
     "output_type": "execute_result"
    },
    {
     "data": {
      "text/plain": [
       "284"
      ]
     },
     "execution_count": 26,
     "metadata": {},
     "output_type": "execute_result"
    },
    {
     "data": {
      "text/plain": [
       "98"
      ]
     },
     "execution_count": 26,
     "metadata": {},
     "output_type": "execute_result"
    },
    {
     "data": {
      "text/plain": [
       "216"
      ]
     },
     "execution_count": 26,
     "metadata": {},
     "output_type": "execute_result"
    },
    {
     "data": {
      "text/plain": [
       "189"
      ]
     },
     "execution_count": 26,
     "metadata": {},
     "output_type": "execute_result"
    },
    {
     "data": {
      "text/plain": [
       "120"
      ]
     },
     "execution_count": 26,
     "metadata": {},
     "output_type": "execute_result"
    },
    {
     "data": {
      "text/plain": [
       "108"
      ]
     },
     "execution_count": 26,
     "metadata": {},
     "output_type": "execute_result"
    },
    {
     "data": {
      "text/plain": [
       "211"
      ]
     },
     "execution_count": 26,
     "metadata": {},
     "output_type": "execute_result"
    },
    {
     "data": {
      "text/plain": [
       "189"
      ]
     },
     "execution_count": 26,
     "metadata": {},
     "output_type": "execute_result"
    },
    {
     "data": {
      "text/plain": [
       "1021"
      ]
     },
     "execution_count": 26,
     "metadata": {},
     "output_type": "execute_result"
    },
    {
     "data": {
      "text/plain": [
       "142"
      ]
     },
     "execution_count": 26,
     "metadata": {},
     "output_type": "execute_result"
    },
    {
     "data": {
      "text/plain": [
       "211"
      ]
     },
     "execution_count": 26,
     "metadata": {},
     "output_type": "execute_result"
    },
    {
     "data": {
      "text/plain": [
       "308"
      ]
     },
     "execution_count": 26,
     "metadata": {},
     "output_type": "execute_result"
    },
    {
     "data": {
      "text/plain": [
       "336"
      ]
     },
     "execution_count": 26,
     "metadata": {},
     "output_type": "execute_result"
    },
    {
     "data": {
      "text/plain": [
       "113"
      ]
     },
     "execution_count": 26,
     "metadata": {},
     "output_type": "execute_result"
    },
    {
     "data": {
      "text/plain": [
       "109"
      ]
     },
     "execution_count": 26,
     "metadata": {},
     "output_type": "execute_result"
    },
    {
     "data": {
      "text/plain": [
       "699"
      ]
     },
     "execution_count": 26,
     "metadata": {},
     "output_type": "execute_result"
    },
    {
     "data": {
      "text/plain": [
       "147"
      ]
     },
     "execution_count": 26,
     "metadata": {},
     "output_type": "execute_result"
    },
    {
     "data": {
      "text/plain": [
       "100"
      ]
     },
     "execution_count": 26,
     "metadata": {},
     "output_type": "execute_result"
    },
    {
     "data": {
      "text/plain": [
       "575"
      ]
     },
     "execution_count": 26,
     "metadata": {},
     "output_type": "execute_result"
    },
    {
     "data": {
      "text/plain": [
       "238"
      ]
     },
     "execution_count": 26,
     "metadata": {},
     "output_type": "execute_result"
    },
    {
     "data": {
      "text/plain": [
       "105"
      ]
     },
     "execution_count": 26,
     "metadata": {},
     "output_type": "execute_result"
    },
    {
     "data": {
      "text/plain": [
       "193"
      ]
     },
     "execution_count": 26,
     "metadata": {},
     "output_type": "execute_result"
    },
    {
     "data": {
      "text/plain": [
       "210"
      ]
     },
     "execution_count": 26,
     "metadata": {},
     "output_type": "execute_result"
    },
    {
     "data": {
      "text/plain": [
       "243"
      ]
     },
     "execution_count": 26,
     "metadata": {},
     "output_type": "execute_result"
    },
    {
     "data": {
      "text/plain": [
       "135"
      ]
     },
     "execution_count": 26,
     "metadata": {},
     "output_type": "execute_result"
    },
    {
     "data": {
      "text/plain": [
       "110"
      ]
     },
     "execution_count": 26,
     "metadata": {},
     "output_type": "execute_result"
    },
    {
     "data": {
      "text/plain": [
       "203"
      ]
     },
     "execution_count": 26,
     "metadata": {},
     "output_type": "execute_result"
    },
    {
     "data": {
      "text/plain": [
       "208"
      ]
     },
     "execution_count": 26,
     "metadata": {},
     "output_type": "execute_result"
    },
    {
     "data": {
      "text/plain": [
       "219"
      ]
     },
     "execution_count": 26,
     "metadata": {},
     "output_type": "execute_result"
    },
    {
     "data": {
      "text/plain": [
       "181"
      ]
     },
     "execution_count": 26,
     "metadata": {},
     "output_type": "execute_result"
    },
    {
     "data": {
      "text/plain": [
       "372"
      ]
     },
     "execution_count": 26,
     "metadata": {},
     "output_type": "execute_result"
    },
    {
     "data": {
      "text/plain": [
       "401"
      ]
     },
     "execution_count": 26,
     "metadata": {},
     "output_type": "execute_result"
    },
    {
     "data": {
      "text/plain": [
       "140"
      ]
     },
     "execution_count": 26,
     "metadata": {},
     "output_type": "execute_result"
    },
    {
     "data": {
      "text/plain": [
       "455"
      ]
     },
     "execution_count": 26,
     "metadata": {},
     "output_type": "execute_result"
    },
    {
     "data": {
      "text/plain": [
       "235"
      ]
     },
     "execution_count": 26,
     "metadata": {},
     "output_type": "execute_result"
    },
    {
     "data": {
      "text/plain": [
       "145"
      ]
     },
     "execution_count": 26,
     "metadata": {},
     "output_type": "execute_result"
    },
    {
     "data": {
      "text/plain": [
       "478"
      ]
     },
     "execution_count": 26,
     "metadata": {},
     "output_type": "execute_result"
    },
    {
     "data": {
      "text/plain": [
       "54"
      ]
     },
     "execution_count": 26,
     "metadata": {},
     "output_type": "execute_result"
    },
    {
     "data": {
      "text/plain": [
       "268"
      ]
     },
     "execution_count": 26,
     "metadata": {},
     "output_type": "execute_result"
    },
    {
     "data": {
      "text/plain": [
       "114"
      ]
     },
     "execution_count": 26,
     "metadata": {},
     "output_type": "execute_result"
    },
    {
     "data": {
      "text/plain": [
       "108"
      ]
     },
     "execution_count": 26,
     "metadata": {},
     "output_type": "execute_result"
    },
    {
     "data": {
      "text/plain": [
       "148"
      ]
     },
     "execution_count": 26,
     "metadata": {},
     "output_type": "execute_result"
    },
    {
     "data": {
      "text/plain": [
       "1734"
      ]
     },
     "execution_count": 26,
     "metadata": {},
     "output_type": "execute_result"
    },
    {
     "data": {
      "text/plain": [
       "67"
      ]
     },
     "execution_count": 26,
     "metadata": {},
     "output_type": "execute_result"
    },
    {
     "data": {
      "text/plain": [
       "251"
      ]
     },
     "execution_count": 26,
     "metadata": {},
     "output_type": "execute_result"
    },
    {
     "data": {
      "text/plain": [
       "102"
      ]
     },
     "execution_count": 26,
     "metadata": {},
     "output_type": "execute_result"
    },
    {
     "data": {
      "text/plain": [
       "601"
      ]
     },
     "execution_count": 26,
     "metadata": {},
     "output_type": "execute_result"
    },
    {
     "data": {
      "text/plain": [
       "406"
      ]
     },
     "execution_count": 26,
     "metadata": {},
     "output_type": "execute_result"
    },
    {
     "data": {
      "text/plain": [
       "118"
      ]
     },
     "execution_count": 26,
     "metadata": {},
     "output_type": "execute_result"
    },
    {
     "data": {
      "text/plain": [
       "291"
      ]
     },
     "execution_count": 26,
     "metadata": {},
     "output_type": "execute_result"
    },
    {
     "data": {
      "text/plain": [
       "411"
      ]
     },
     "execution_count": 26,
     "metadata": {},
     "output_type": "execute_result"
    },
    {
     "data": {
      "text/plain": [
       "275"
      ]
     },
     "execution_count": 26,
     "metadata": {},
     "output_type": "execute_result"
    },
    {
     "data": {
      "text/plain": [
       "183"
      ]
     },
     "execution_count": 26,
     "metadata": {},
     "output_type": "execute_result"
    },
    {
     "data": {
      "text/plain": [
       "128"
      ]
     },
     "execution_count": 26,
     "metadata": {},
     "output_type": "execute_result"
    },
    {
     "data": {
      "text/plain": [
       "105"
      ]
     },
     "execution_count": 26,
     "metadata": {},
     "output_type": "execute_result"
    },
    {
     "data": {
      "text/plain": [
       "647"
      ]
     },
     "execution_count": 26,
     "metadata": {},
     "output_type": "execute_result"
    },
    {
     "data": {
      "text/plain": [
       "206"
      ]
     },
     "execution_count": 26,
     "metadata": {},
     "output_type": "execute_result"
    },
    {
     "data": {
      "text/plain": [
       "182"
      ]
     },
     "execution_count": 26,
     "metadata": {},
     "output_type": "execute_result"
    },
    {
     "data": {
      "text/plain": [
       "98"
      ]
     },
     "execution_count": 26,
     "metadata": {},
     "output_type": "execute_result"
    },
    {
     "data": {
      "text/plain": [
       "332"
      ]
     },
     "execution_count": 26,
     "metadata": {},
     "output_type": "execute_result"
    },
    {
     "data": {
      "text/plain": [
       "322"
      ]
     },
     "execution_count": 26,
     "metadata": {},
     "output_type": "execute_result"
    },
    {
     "data": {
      "text/plain": [
       "388"
      ]
     },
     "execution_count": 26,
     "metadata": {},
     "output_type": "execute_result"
    },
    {
     "data": {
      "text/plain": [
       "261"
      ]
     },
     "execution_count": 26,
     "metadata": {},
     "output_type": "execute_result"
    },
    {
     "data": {
      "text/plain": [
       "846"
      ]
     },
     "execution_count": 26,
     "metadata": {},
     "output_type": "execute_result"
    },
    {
     "data": {
      "text/plain": [
       "105"
      ]
     },
     "execution_count": 26,
     "metadata": {},
     "output_type": "execute_result"
    },
    {
     "data": {
      "text/plain": [
       "340"
      ]
     },
     "execution_count": 26,
     "metadata": {},
     "output_type": "execute_result"
    },
    {
     "data": {
      "text/plain": [
       "373"
      ]
     },
     "execution_count": 26,
     "metadata": {},
     "output_type": "execute_result"
    },
    {
     "data": {
      "text/plain": [
       "115"
      ]
     },
     "execution_count": 26,
     "metadata": {},
     "output_type": "execute_result"
    },
    {
     "data": {
      "text/plain": [
       "593"
      ]
     },
     "execution_count": 26,
     "metadata": {},
     "output_type": "execute_result"
    },
    {
     "data": {
      "text/plain": [
       "275"
      ]
     },
     "execution_count": 26,
     "metadata": {},
     "output_type": "execute_result"
    },
    {
     "data": {
      "text/plain": [
       "335"
      ]
     },
     "execution_count": 26,
     "metadata": {},
     "output_type": "execute_result"
    },
    {
     "data": {
      "text/plain": [
       "506"
      ]
     },
     "execution_count": 26,
     "metadata": {},
     "output_type": "execute_result"
    },
    {
     "data": {
      "text/plain": [
       "123"
      ]
     },
     "execution_count": 26,
     "metadata": {},
     "output_type": "execute_result"
    },
    {
     "data": {
      "text/plain": [
       "111"
      ]
     },
     "execution_count": 26,
     "metadata": {},
     "output_type": "execute_result"
    },
    {
     "data": {
      "text/plain": [
       "288"
      ]
     },
     "execution_count": 26,
     "metadata": {},
     "output_type": "execute_result"
    },
    {
     "data": {
      "text/plain": [
       "127"
      ]
     },
     "execution_count": 26,
     "metadata": {},
     "output_type": "execute_result"
    },
    {
     "data": {
      "text/plain": [
       "300"
      ]
     },
     "execution_count": 26,
     "metadata": {},
     "output_type": "execute_result"
    },
    {
     "data": {
      "text/plain": [
       "297"
      ]
     },
     "execution_count": 26,
     "metadata": {},
     "output_type": "execute_result"
    },
    {
     "data": {
      "text/plain": [
       "163"
      ]
     },
     "execution_count": 26,
     "metadata": {},
     "output_type": "execute_result"
    },
    {
     "data": {
      "text/plain": [
       "252"
      ]
     },
     "execution_count": 26,
     "metadata": {},
     "output_type": "execute_result"
    },
    {
     "data": {
      "text/plain": [
       "96"
      ]
     },
     "execution_count": 26,
     "metadata": {},
     "output_type": "execute_result"
    },
    {
     "data": {
      "text/plain": [
       "239"
      ]
     },
     "execution_count": 26,
     "metadata": {},
     "output_type": "execute_result"
    },
    {
     "data": {
      "text/plain": [
       "249"
      ]
     },
     "execution_count": 26,
     "metadata": {},
     "output_type": "execute_result"
    },
    {
     "data": {
      "text/plain": [
       "222"
      ]
     },
     "execution_count": 26,
     "metadata": {},
     "output_type": "execute_result"
    },
    {
     "data": {
      "text/plain": [
       "118"
      ]
     },
     "execution_count": 26,
     "metadata": {},
     "output_type": "execute_result"
    },
    {
     "data": {
      "text/plain": [
       "656"
      ]
     },
     "execution_count": 26,
     "metadata": {},
     "output_type": "execute_result"
    },
    {
     "data": {
      "text/plain": [
       "115"
      ]
     },
     "execution_count": 26,
     "metadata": {},
     "output_type": "execute_result"
    },
    {
     "data": {
      "text/plain": [
       "284"
      ]
     },
     "execution_count": 26,
     "metadata": {},
     "output_type": "execute_result"
    },
    {
     "data": {
      "text/plain": [
       "153"
      ]
     },
     "execution_count": 26,
     "metadata": {},
     "output_type": "execute_result"
    },
    {
     "data": {
      "text/plain": [
       "135"
      ]
     },
     "execution_count": 26,
     "metadata": {},
     "output_type": "execute_result"
    },
    {
     "data": {
      "text/plain": [
       "135"
      ]
     },
     "execution_count": 26,
     "metadata": {},
     "output_type": "execute_result"
    },
    {
     "data": {
      "text/plain": [
       "120"
      ]
     },
     "execution_count": 26,
     "metadata": {},
     "output_type": "execute_result"
    },
    {
     "data": {
      "text/plain": [
       "432"
      ]
     },
     "execution_count": 26,
     "metadata": {},
     "output_type": "execute_result"
    },
    {
     "data": {
      "text/plain": [
       "111"
      ]
     },
     "execution_count": 26,
     "metadata": {},
     "output_type": "execute_result"
    },
    {
     "data": {
      "text/plain": [
       "121"
      ]
     },
     "execution_count": 26,
     "metadata": {},
     "output_type": "execute_result"
    },
    {
     "data": {
      "text/plain": [
       "176"
      ]
     },
     "execution_count": 26,
     "metadata": {},
     "output_type": "execute_result"
    },
    {
     "data": {
      "text/plain": [
       "157"
      ]
     },
     "execution_count": 26,
     "metadata": {},
     "output_type": "execute_result"
    },
    {
     "data": {
      "text/plain": [
       "236"
      ]
     },
     "execution_count": 26,
     "metadata": {},
     "output_type": "execute_result"
    },
    {
     "data": {
      "text/plain": [
       "415"
      ]
     },
     "execution_count": 26,
     "metadata": {},
     "output_type": "execute_result"
    },
    {
     "data": {
      "text/plain": [
       "226"
      ]
     },
     "execution_count": 26,
     "metadata": {},
     "output_type": "execute_result"
    },
    {
     "data": {
      "text/plain": [
       "204"
      ]
     },
     "execution_count": 26,
     "metadata": {},
     "output_type": "execute_result"
    },
    {
     "data": {
      "text/plain": [
       "608"
      ]
     },
     "execution_count": 26,
     "metadata": {},
     "output_type": "execute_result"
    },
    {
     "data": {
      "text/plain": [
       "317"
      ]
     },
     "execution_count": 26,
     "metadata": {},
     "output_type": "execute_result"
    },
    {
     "data": {
      "text/plain": [
       "918"
      ]
     },
     "execution_count": 26,
     "metadata": {},
     "output_type": "execute_result"
    },
    {
     "data": {
      "text/plain": [
       "327"
      ]
     },
     "execution_count": 26,
     "metadata": {},
     "output_type": "execute_result"
    },
    {
     "data": {
      "text/plain": [
       "182"
      ]
     },
     "execution_count": 26,
     "metadata": {},
     "output_type": "execute_result"
    },
    {
     "data": {
      "text/plain": [
       "419"
      ]
     },
     "execution_count": 26,
     "metadata": {},
     "output_type": "execute_result"
    },
    {
     "data": {
      "text/plain": [
       "182"
      ]
     },
     "execution_count": 26,
     "metadata": {},
     "output_type": "execute_result"
    },
    {
     "data": {
      "text/plain": [
       "111"
      ]
     },
     "execution_count": 26,
     "metadata": {},
     "output_type": "execute_result"
    },
    {
     "data": {
      "text/plain": [
       "650"
      ]
     },
     "execution_count": 26,
     "metadata": {},
     "output_type": "execute_result"
    },
    {
     "data": {
      "text/plain": [
       "177"
      ]
     },
     "execution_count": 26,
     "metadata": {},
     "output_type": "execute_result"
    },
    {
     "data": {
      "text/plain": [
       "241"
      ]
     },
     "execution_count": 26,
     "metadata": {},
     "output_type": "execute_result"
    },
    {
     "data": {
      "text/plain": [
       "117"
      ]
     },
     "execution_count": 26,
     "metadata": {},
     "output_type": "execute_result"
    },
    {
     "data": {
      "text/plain": [
       "291"
      ]
     },
     "execution_count": 26,
     "metadata": {},
     "output_type": "execute_result"
    },
    {
     "data": {
      "text/plain": [
       "106"
      ]
     },
     "execution_count": 26,
     "metadata": {},
     "output_type": "execute_result"
    },
    {
     "data": {
      "text/plain": [
       "419"
      ]
     },
     "execution_count": 26,
     "metadata": {},
     "output_type": "execute_result"
    },
    {
     "data": {
      "text/plain": [
       "278"
      ]
     },
     "execution_count": 26,
     "metadata": {},
     "output_type": "execute_result"
    },
    {
     "data": {
      "text/plain": [
       "100"
      ]
     },
     "execution_count": 26,
     "metadata": {},
     "output_type": "execute_result"
    },
    {
     "data": {
      "text/plain": [
       "323"
      ]
     },
     "execution_count": 26,
     "metadata": {},
     "output_type": "execute_result"
    },
    {
     "data": {
      "text/plain": [
       "246"
      ]
     },
     "execution_count": 26,
     "metadata": {},
     "output_type": "execute_result"
    },
    {
     "data": {
      "text/plain": [
       "154"
      ]
     },
     "execution_count": 26,
     "metadata": {},
     "output_type": "execute_result"
    },
    {
     "data": {
      "text/plain": [
       "505"
      ]
     },
     "execution_count": 26,
     "metadata": {},
     "output_type": "execute_result"
    },
    {
     "data": {
      "text/plain": [
       "505"
      ]
     },
     "execution_count": 26,
     "metadata": {},
     "output_type": "execute_result"
    },
    {
     "data": {
      "text/plain": [
       "120"
      ]
     },
     "execution_count": 26,
     "metadata": {},
     "output_type": "execute_result"
    },
    {
     "data": {
      "text/plain": [
       "213"
      ]
     },
     "execution_count": 26,
     "metadata": {},
     "output_type": "execute_result"
    },
    {
     "data": {
      "text/plain": [
       "552"
      ]
     },
     "execution_count": 26,
     "metadata": {},
     "output_type": "execute_result"
    },
    {
     "data": {
      "text/plain": [
       "513"
      ]
     },
     "execution_count": 26,
     "metadata": {},
     "output_type": "execute_result"
    },
    {
     "data": {
      "text/plain": [
       "160"
      ]
     },
     "execution_count": 26,
     "metadata": {},
     "output_type": "execute_result"
    },
    {
     "data": {
      "text/plain": [
       "423"
      ]
     },
     "execution_count": 26,
     "metadata": {},
     "output_type": "execute_result"
    },
    {
     "data": {
      "text/plain": [
       "107"
      ]
     },
     "execution_count": 26,
     "metadata": {},
     "output_type": "execute_result"
    },
    {
     "data": {
      "text/plain": [
       "166"
      ]
     },
     "execution_count": 26,
     "metadata": {},
     "output_type": "execute_result"
    },
    {
     "data": {
      "text/plain": [
       "102"
      ]
     },
     "execution_count": 26,
     "metadata": {},
     "output_type": "execute_result"
    },
    {
     "data": {
      "text/plain": [
       "241"
      ]
     },
     "execution_count": 26,
     "metadata": {},
     "output_type": "execute_result"
    },
    {
     "data": {
      "text/plain": [
       "194"
      ]
     },
     "execution_count": 26,
     "metadata": {},
     "output_type": "execute_result"
    },
    {
     "data": {
      "text/plain": [
       "218"
      ]
     },
     "execution_count": 26,
     "metadata": {},
     "output_type": "execute_result"
    },
    {
     "data": {
      "text/plain": [
       "144"
      ]
     },
     "execution_count": 26,
     "metadata": {},
     "output_type": "execute_result"
    },
    {
     "data": {
      "text/plain": [
       "199"
      ]
     },
     "execution_count": 26,
     "metadata": {},
     "output_type": "execute_result"
    },
    {
     "data": {
      "text/plain": [
       "211"
      ]
     },
     "execution_count": 26,
     "metadata": {},
     "output_type": "execute_result"
    },
    {
     "data": {
      "text/plain": [
       "359"
      ]
     },
     "execution_count": 26,
     "metadata": {},
     "output_type": "execute_result"
    },
    {
     "data": {
      "text/plain": [
       "180"
      ]
     },
     "execution_count": 26,
     "metadata": {},
     "output_type": "execute_result"
    },
    {
     "data": {
      "text/plain": [
       "102"
      ]
     },
     "execution_count": 26,
     "metadata": {},
     "output_type": "execute_result"
    },
    {
     "data": {
      "text/plain": [
       "294"
      ]
     },
     "execution_count": 26,
     "metadata": {},
     "output_type": "execute_result"
    },
    {
     "data": {
      "text/plain": [
       "403"
      ]
     },
     "execution_count": 26,
     "metadata": {},
     "output_type": "execute_result"
    },
    {
     "data": {
      "text/plain": [
       "547"
      ]
     },
     "execution_count": 26,
     "metadata": {},
     "output_type": "execute_result"
    },
    {
     "data": {
      "text/plain": [
       "321"
      ]
     },
     "execution_count": 26,
     "metadata": {},
     "output_type": "execute_result"
    },
    {
     "data": {
      "text/plain": [
       "299"
      ]
     },
     "execution_count": 26,
     "metadata": {},
     "output_type": "execute_result"
    },
    {
     "data": {
      "text/plain": [
       "118"
      ]
     },
     "execution_count": 26,
     "metadata": {},
     "output_type": "execute_result"
    },
    {
     "data": {
      "text/plain": [
       "193"
      ]
     },
     "execution_count": 26,
     "metadata": {},
     "output_type": "execute_result"
    },
    {
     "data": {
      "text/plain": [
       "292"
      ]
     },
     "execution_count": 26,
     "metadata": {},
     "output_type": "execute_result"
    },
    {
     "data": {
      "text/plain": [
       "102"
      ]
     },
     "execution_count": 26,
     "metadata": {},
     "output_type": "execute_result"
    },
    {
     "data": {
      "text/plain": [
       "135"
      ]
     },
     "execution_count": 26,
     "metadata": {},
     "output_type": "execute_result"
    },
    {
     "data": {
      "text/plain": [
       "682"
      ]
     },
     "execution_count": 26,
     "metadata": {},
     "output_type": "execute_result"
    },
    {
     "data": {
      "text/plain": [
       "159"
      ]
     },
     "execution_count": 26,
     "metadata": {},
     "output_type": "execute_result"
    },
    {
     "data": {
      "text/plain": [
       "351"
      ]
     },
     "execution_count": 26,
     "metadata": {},
     "output_type": "execute_result"
    },
    {
     "data": {
      "text/plain": [
       "272"
      ]
     },
     "execution_count": 26,
     "metadata": {},
     "output_type": "execute_result"
    },
    {
     "data": {
      "text/plain": [
       "157"
      ]
     },
     "execution_count": 26,
     "metadata": {},
     "output_type": "execute_result"
    },
    {
     "data": {
      "text/plain": [
       "444"
      ]
     },
     "execution_count": 26,
     "metadata": {},
     "output_type": "execute_result"
    },
    {
     "data": {
      "text/plain": [
       "357"
      ]
     },
     "execution_count": 26,
     "metadata": {},
     "output_type": "execute_result"
    },
    {
     "data": {
      "text/plain": [
       "202"
      ]
     },
     "execution_count": 26,
     "metadata": {},
     "output_type": "execute_result"
    },
    {
     "data": {
      "text/plain": [
       "479"
      ]
     },
     "execution_count": 26,
     "metadata": {},
     "output_type": "execute_result"
    },
    {
     "data": {
      "text/plain": [
       "410"
      ]
     },
     "execution_count": 26,
     "metadata": {},
     "output_type": "execute_result"
    },
    {
     "data": {
      "text/plain": [
       "429"
      ]
     },
     "execution_count": 26,
     "metadata": {},
     "output_type": "execute_result"
    },
    {
     "data": {
      "text/plain": [
       "348"
      ]
     },
     "execution_count": 26,
     "metadata": {},
     "output_type": "execute_result"
    },
    {
     "data": {
      "text/plain": [
       "255"
      ]
     },
     "execution_count": 26,
     "metadata": {},
     "output_type": "execute_result"
    },
    {
     "data": {
      "text/plain": [
       "153"
      ]
     },
     "execution_count": 26,
     "metadata": {},
     "output_type": "execute_result"
    },
    {
     "data": {
      "text/plain": [
       "143"
      ]
     },
     "execution_count": 26,
     "metadata": {},
     "output_type": "execute_result"
    },
    {
     "data": {
      "text/plain": [
       "382"
      ]
     },
     "execution_count": 26,
     "metadata": {},
     "output_type": "execute_result"
    },
    {
     "data": {
      "text/plain": [
       "128"
      ]
     },
     "execution_count": 26,
     "metadata": {},
     "output_type": "execute_result"
    },
    {
     "data": {
      "text/plain": [
       "198"
      ]
     },
     "execution_count": 26,
     "metadata": {},
     "output_type": "execute_result"
    },
    {
     "data": {
      "text/plain": [
       "380"
      ]
     },
     "execution_count": 26,
     "metadata": {},
     "output_type": "execute_result"
    },
    {
     "data": {
      "text/plain": [
       "445"
      ]
     },
     "execution_count": 26,
     "metadata": {},
     "output_type": "execute_result"
    },
    {
     "data": {
      "text/plain": [
       "445"
      ]
     },
     "execution_count": 26,
     "metadata": {},
     "output_type": "execute_result"
    },
    {
     "data": {
      "text/plain": [
       "132"
      ]
     },
     "execution_count": 26,
     "metadata": {},
     "output_type": "execute_result"
    },
    {
     "data": {
      "text/plain": [
       "112"
      ]
     },
     "execution_count": 26,
     "metadata": {},
     "output_type": "execute_result"
    },
    {
     "data": {
      "text/plain": [
       "398"
      ]
     },
     "execution_count": 26,
     "metadata": {},
     "output_type": "execute_result"
    },
    {
     "data": {
      "text/plain": [
       "258"
      ]
     },
     "execution_count": 26,
     "metadata": {},
     "output_type": "execute_result"
    },
    {
     "data": {
      "text/plain": [
       "166"
      ]
     },
     "execution_count": 26,
     "metadata": {},
     "output_type": "execute_result"
    },
    {
     "data": {
      "text/plain": [
       "100"
      ]
     },
     "execution_count": 26,
     "metadata": {},
     "output_type": "execute_result"
    },
    {
     "data": {
      "text/plain": [
       "220"
      ]
     },
     "execution_count": 26,
     "metadata": {},
     "output_type": "execute_result"
    },
    {
     "data": {
      "text/plain": [
       "186"
      ]
     },
     "execution_count": 26,
     "metadata": {},
     "output_type": "execute_result"
    },
    {
     "data": {
      "text/plain": [
       "259"
      ]
     },
     "execution_count": 26,
     "metadata": {},
     "output_type": "execute_result"
    },
    {
     "data": {
      "text/plain": [
       "67"
      ]
     },
     "execution_count": 26,
     "metadata": {},
     "output_type": "execute_result"
    },
    {
     "data": {
      "text/plain": [
       "1053"
      ]
     },
     "execution_count": 26,
     "metadata": {},
     "output_type": "execute_result"
    },
    {
     "data": {
      "text/plain": [
       "368"
      ]
     },
     "execution_count": 26,
     "metadata": {},
     "output_type": "execute_result"
    },
    {
     "data": {
      "text/plain": [
       "356"
      ]
     },
     "execution_count": 26,
     "metadata": {},
     "output_type": "execute_result"
    },
    {
     "data": {
      "text/plain": [
       "364"
      ]
     },
     "execution_count": 26,
     "metadata": {},
     "output_type": "execute_result"
    },
    {
     "data": {
      "text/plain": [
       "239"
      ]
     },
     "execution_count": 26,
     "metadata": {},
     "output_type": "execute_result"
    },
    {
     "data": {
      "text/plain": [
       "489"
      ]
     },
     "execution_count": 26,
     "metadata": {},
     "output_type": "execute_result"
    },
    {
     "data": {
      "text/plain": [
       "184"
      ]
     },
     "execution_count": 26,
     "metadata": {},
     "output_type": "execute_result"
    },
    {
     "data": {
      "text/plain": [
       "404"
      ]
     },
     "execution_count": 26,
     "metadata": {},
     "output_type": "execute_result"
    },
    {
     "data": {
      "text/plain": [
       "250"
      ]
     },
     "execution_count": 26,
     "metadata": {},
     "output_type": "execute_result"
    },
    {
     "data": {
      "text/plain": [
       "107"
      ]
     },
     "execution_count": 26,
     "metadata": {},
     "output_type": "execute_result"
    },
    {
     "data": {
      "text/plain": [
       "246"
      ]
     },
     "execution_count": 26,
     "metadata": {},
     "output_type": "execute_result"
    },
    {
     "data": {
      "text/plain": [
       "54"
      ]
     },
     "execution_count": 26,
     "metadata": {},
     "output_type": "execute_result"
    },
    {
     "data": {
      "text/plain": [
       "105"
      ]
     },
     "execution_count": 26,
     "metadata": {},
     "output_type": "execute_result"
    },
    {
     "data": {
      "text/plain": [
       "678"
      ]
     },
     "execution_count": 26,
     "metadata": {},
     "output_type": "execute_result"
    },
    {
     "data": {
      "text/plain": [
       "461"
      ]
     },
     "execution_count": 26,
     "metadata": {},
     "output_type": "execute_result"
    },
    {
     "data": {
      "text/plain": [
       "115"
      ]
     },
     "execution_count": 26,
     "metadata": {},
     "output_type": "execute_result"
    },
    {
     "data": {
      "text/plain": [
       "305"
      ]
     },
     "execution_count": 26,
     "metadata": {},
     "output_type": "execute_result"
    },
    {
     "data": {
      "text/plain": [
       "107"
      ]
     },
     "execution_count": 26,
     "metadata": {},
     "output_type": "execute_result"
    },
    {
     "data": {
      "text/plain": [
       "343"
      ]
     },
     "execution_count": 26,
     "metadata": {},
     "output_type": "execute_result"
    },
    {
     "data": {
      "text/plain": [
       "525"
      ]
     },
     "execution_count": 26,
     "metadata": {},
     "output_type": "execute_result"
    },
    {
     "data": {
      "text/plain": [
       "500"
      ]
     },
     "execution_count": 26,
     "metadata": {},
     "output_type": "execute_result"
    },
    {
     "data": {
      "text/plain": [
       "352"
      ]
     },
     "execution_count": 26,
     "metadata": {},
     "output_type": "execute_result"
    },
    {
     "data": {
      "text/plain": [
       "113"
      ]
     },
     "execution_count": 26,
     "metadata": {},
     "output_type": "execute_result"
    },
    {
     "data": {
      "text/plain": [
       "495"
      ]
     },
     "execution_count": 26,
     "metadata": {},
     "output_type": "execute_result"
    },
    {
     "data": {
      "text/plain": [
       "392"
      ]
     },
     "execution_count": 26,
     "metadata": {},
     "output_type": "execute_result"
    },
    {
     "data": {
      "text/plain": [
       "889"
      ]
     },
     "execution_count": 26,
     "metadata": {},
     "output_type": "execute_result"
    },
    {
     "data": {
      "text/plain": [
       "620"
      ]
     },
     "execution_count": 26,
     "metadata": {},
     "output_type": "execute_result"
    },
    {
     "data": {
      "text/plain": [
       "60"
      ]
     },
     "execution_count": 26,
     "metadata": {},
     "output_type": "execute_result"
    },
    {
     "data": {
      "text/plain": [
       "561"
      ]
     },
     "execution_count": 26,
     "metadata": {},
     "output_type": "execute_result"
    },
    {
     "data": {
      "text/plain": [
       "251"
      ]
     },
     "execution_count": 26,
     "metadata": {},
     "output_type": "execute_result"
    },
    {
     "data": {
      "text/plain": [
       "463"
      ]
     },
     "execution_count": 26,
     "metadata": {},
     "output_type": "execute_result"
    },
    {
     "data": {
      "text/plain": [
       "120"
      ]
     },
     "execution_count": 26,
     "metadata": {},
     "output_type": "execute_result"
    },
    {
     "data": {
      "text/plain": [
       "500"
      ]
     },
     "execution_count": 26,
     "metadata": {},
     "output_type": "execute_result"
    },
    {
     "data": {
      "text/plain": [
       "538"
      ]
     },
     "execution_count": 26,
     "metadata": {},
     "output_type": "execute_result"
    },
    {
     "data": {
      "text/plain": [
       "193"
      ]
     },
     "execution_count": 26,
     "metadata": {},
     "output_type": "execute_result"
    },
    {
     "data": {
      "text/plain": [
       "534"
      ]
     },
     "execution_count": 26,
     "metadata": {},
     "output_type": "execute_result"
    },
    {
     "data": {
      "text/plain": [
       "108"
      ]
     },
     "execution_count": 26,
     "metadata": {},
     "output_type": "execute_result"
    },
    {
     "data": {
      "text/plain": [
       "242"
      ]
     },
     "execution_count": 26,
     "metadata": {},
     "output_type": "execute_result"
    },
    {
     "data": {
      "text/plain": [
       "324"
      ]
     },
     "execution_count": 26,
     "metadata": {},
     "output_type": "execute_result"
    },
    {
     "data": {
      "text/plain": [
       "910"
      ]
     },
     "execution_count": 26,
     "metadata": {},
     "output_type": "execute_result"
    },
    {
     "data": {
      "text/plain": [
       "106"
      ]
     },
     "execution_count": 26,
     "metadata": {},
     "output_type": "execute_result"
    },
    {
     "data": {
      "text/plain": [
       "633"
      ]
     },
     "execution_count": 26,
     "metadata": {},
     "output_type": "execute_result"
    },
    {
     "data": {
      "text/plain": [
       "111"
      ]
     },
     "execution_count": 26,
     "metadata": {},
     "output_type": "execute_result"
    },
    {
     "data": {
      "text/plain": [
       "107"
      ]
     },
     "execution_count": 26,
     "metadata": {},
     "output_type": "execute_result"
    },
    {
     "data": {
      "text/plain": [
       "456"
      ]
     },
     "execution_count": 26,
     "metadata": {},
     "output_type": "execute_result"
    },
    {
     "data": {
      "text/plain": [
       "229"
      ]
     },
     "execution_count": 26,
     "metadata": {},
     "output_type": "execute_result"
    },
    {
     "data": {
      "text/plain": [
       "275"
      ]
     },
     "execution_count": 26,
     "metadata": {},
     "output_type": "execute_result"
    },
    {
     "data": {
      "text/plain": [
       "43"
      ]
     },
     "execution_count": 26,
     "metadata": {},
     "output_type": "execute_result"
    },
    {
     "data": {
      "text/plain": [
       "104"
      ]
     },
     "execution_count": 26,
     "metadata": {},
     "output_type": "execute_result"
    },
    {
     "data": {
      "text/plain": [
       "116"
      ]
     },
     "execution_count": 26,
     "metadata": {},
     "output_type": "execute_result"
    },
    {
     "data": {
      "text/plain": [
       "335"
      ]
     },
     "execution_count": 26,
     "metadata": {},
     "output_type": "execute_result"
    },
    {
     "data": {
      "text/plain": [
       "552"
      ]
     },
     "execution_count": 26,
     "metadata": {},
     "output_type": "execute_result"
    },
    {
     "data": {
      "text/plain": [
       "140"
      ]
     },
     "execution_count": 26,
     "metadata": {},
     "output_type": "execute_result"
    },
    {
     "data": {
      "text/plain": [
       "192"
      ]
     },
     "execution_count": 26,
     "metadata": {},
     "output_type": "execute_result"
    },
    {
     "data": {
      "text/plain": [
       "111"
      ]
     },
     "execution_count": 26,
     "metadata": {},
     "output_type": "execute_result"
    },
    {
     "data": {
      "text/plain": [
       "258"
      ]
     },
     "execution_count": 26,
     "metadata": {},
     "output_type": "execute_result"
    },
    {
     "data": {
      "text/plain": [
       "287"
      ]
     },
     "execution_count": 26,
     "metadata": {},
     "output_type": "execute_result"
    },
    {
     "data": {
      "text/plain": [
       "352"
      ]
     },
     "execution_count": 26,
     "metadata": {},
     "output_type": "execute_result"
    },
    {
     "data": {
      "text/plain": [
       "227"
      ]
     },
     "execution_count": 26,
     "metadata": {},
     "output_type": "execute_result"
    },
    {
     "data": {
      "text/plain": [
       "443"
      ]
     },
     "execution_count": 26,
     "metadata": {},
     "output_type": "execute_result"
    },
    {
     "data": {
      "text/plain": [
       "335"
      ]
     },
     "execution_count": 26,
     "metadata": {},
     "output_type": "execute_result"
    },
    {
     "data": {
      "text/plain": [
       "135"
      ]
     },
     "execution_count": 26,
     "metadata": {},
     "output_type": "execute_result"
    },
    {
     "data": {
      "text/plain": [
       "209"
      ]
     },
     "execution_count": 26,
     "metadata": {},
     "output_type": "execute_result"
    },
    {
     "data": {
      "text/plain": [
       "140"
      ]
     },
     "execution_count": 26,
     "metadata": {},
     "output_type": "execute_result"
    },
    {
     "data": {
      "text/plain": [
       "174"
      ]
     },
     "execution_count": 26,
     "metadata": {},
     "output_type": "execute_result"
    },
    {
     "data": {
      "text/plain": [
       "417"
      ]
     },
     "execution_count": 26,
     "metadata": {},
     "output_type": "execute_result"
    },
    {
     "data": {
      "text/plain": [
       "398"
      ]
     },
     "execution_count": 26,
     "metadata": {},
     "output_type": "execute_result"
    },
    {
     "data": {
      "text/plain": [
       "368"
      ]
     },
     "execution_count": 26,
     "metadata": {},
     "output_type": "execute_result"
    },
    {
     "data": {
      "text/plain": [
       "772"
      ]
     },
     "execution_count": 26,
     "metadata": {},
     "output_type": "execute_result"
    },
    {
     "data": {
      "text/plain": [
       "216"
      ]
     },
     "execution_count": 26,
     "metadata": {},
     "output_type": "execute_result"
    },
    {
     "data": {
      "text/plain": [
       "114"
      ]
     },
     "execution_count": 26,
     "metadata": {},
     "output_type": "execute_result"
    },
    {
     "data": {
      "text/plain": [
       "584"
      ]
     },
     "execution_count": 26,
     "metadata": {},
     "output_type": "execute_result"
    },
    {
     "data": {
      "text/plain": [
       "342"
      ]
     },
     "execution_count": 26,
     "metadata": {},
     "output_type": "execute_result"
    },
    {
     "data": {
      "text/plain": [
       "307"
      ]
     },
     "execution_count": 26,
     "metadata": {},
     "output_type": "execute_result"
    },
    {
     "data": {
      "text/plain": [
       "330"
      ]
     },
     "execution_count": 26,
     "metadata": {},
     "output_type": "execute_result"
    },
    {
     "data": {
      "text/plain": [
       "235"
      ]
     },
     "execution_count": 26,
     "metadata": {},
     "output_type": "execute_result"
    },
    {
     "data": {
      "text/plain": [
       "479"
      ]
     },
     "execution_count": 26,
     "metadata": {},
     "output_type": "execute_result"
    },
    {
     "data": {
      "text/plain": [
       "303"
      ]
     },
     "execution_count": 26,
     "metadata": {},
     "output_type": "execute_result"
    },
    {
     "data": {
      "text/plain": [
       "291"
      ]
     },
     "execution_count": 26,
     "metadata": {},
     "output_type": "execute_result"
    },
    {
     "data": {
      "text/plain": [
       "105"
      ]
     },
     "execution_count": 26,
     "metadata": {},
     "output_type": "execute_result"
    },
    {
     "data": {
      "text/plain": [
       "43"
      ]
     },
     "execution_count": 26,
     "metadata": {},
     "output_type": "execute_result"
    },
    {
     "data": {
      "text/plain": [
       "112"
      ]
     },
     "execution_count": 26,
     "metadata": {},
     "output_type": "execute_result"
    },
    {
     "data": {
      "text/plain": [
       "126"
      ]
     },
     "execution_count": 26,
     "metadata": {},
     "output_type": "execute_result"
    },
    {
     "data": {
      "text/plain": [
       "192"
      ]
     },
     "execution_count": 26,
     "metadata": {},
     "output_type": "execute_result"
    },
    {
     "data": {
      "text/plain": [
       "185"
      ]
     },
     "execution_count": 26,
     "metadata": {},
     "output_type": "execute_result"
    },
    {
     "data": {
      "text/plain": [
       "378"
      ]
     },
     "execution_count": 26,
     "metadata": {},
     "output_type": "execute_result"
    },
    {
     "data": {
      "text/plain": [
       "254"
      ]
     },
     "execution_count": 26,
     "metadata": {},
     "output_type": "execute_result"
    },
    {
     "data": {
      "text/plain": [
       "268"
      ]
     },
     "execution_count": 26,
     "metadata": {},
     "output_type": "execute_result"
    },
    {
     "data": {
      "text/plain": [
       "782"
      ]
     },
     "execution_count": 26,
     "metadata": {},
     "output_type": "execute_result"
    },
    {
     "data": {
      "text/plain": [
       "248"
      ]
     },
     "execution_count": 26,
     "metadata": {},
     "output_type": "execute_result"
    },
    {
     "data": {
      "text/plain": [
       "212"
      ]
     },
     "execution_count": 26,
     "metadata": {},
     "output_type": "execute_result"
    },
    {
     "data": {
      "text/plain": [
       "647"
      ]
     },
     "execution_count": 26,
     "metadata": {},
     "output_type": "execute_result"
    },
    {
     "data": {
      "text/plain": [
       "498"
      ]
     },
     "execution_count": 26,
     "metadata": {},
     "output_type": "execute_result"
    },
    {
     "data": {
      "text/plain": [
       "656"
      ]
     },
     "execution_count": 26,
     "metadata": {},
     "output_type": "execute_result"
    },
    {
     "data": {
      "text/plain": [
       "144"
      ]
     },
     "execution_count": 26,
     "metadata": {},
     "output_type": "execute_result"
    },
    {
     "data": {
      "text/plain": [
       "387"
      ]
     },
     "execution_count": 26,
     "metadata": {},
     "output_type": "execute_result"
    },
    {
     "data": {
      "text/plain": [
       "160"
      ]
     },
     "execution_count": 26,
     "metadata": {},
     "output_type": "execute_result"
    },
    {
     "data": {
      "text/plain": [
       "275"
      ]
     },
     "execution_count": 26,
     "metadata": {},
     "output_type": "execute_result"
    },
    {
     "data": {
      "text/plain": [
       "179"
      ]
     },
     "execution_count": 26,
     "metadata": {},
     "output_type": "execute_result"
    },
    {
     "data": {
      "text/plain": [
       "142"
      ]
     },
     "execution_count": 26,
     "metadata": {},
     "output_type": "execute_result"
    },
    {
     "data": {
      "text/plain": [
       "119"
      ]
     },
     "execution_count": 26,
     "metadata": {},
     "output_type": "execute_result"
    },
    {
     "data": {
      "text/plain": [
       "112"
      ]
     },
     "execution_count": 26,
     "metadata": {},
     "output_type": "execute_result"
    },
    {
     "data": {
      "text/plain": [
       "96"
      ]
     },
     "execution_count": 26,
     "metadata": {},
     "output_type": "execute_result"
    },
    {
     "data": {
      "text/plain": [
       "100"
      ]
     },
     "execution_count": 26,
     "metadata": {},
     "output_type": "execute_result"
    },
    {
     "data": {
      "text/plain": [
       "307"
      ]
     },
     "execution_count": 26,
     "metadata": {},
     "output_type": "execute_result"
    },
    {
     "data": {
      "text/plain": [
       "930"
      ]
     },
     "execution_count": 26,
     "metadata": {},
     "output_type": "execute_result"
    },
    {
     "data": {
      "text/plain": [
       "297"
      ]
     },
     "execution_count": 26,
     "metadata": {},
     "output_type": "execute_result"
    },
    {
     "data": {
      "text/plain": [
       "682"
      ]
     },
     "execution_count": 26,
     "metadata": {},
     "output_type": "execute_result"
    },
    {
     "data": {
      "text/plain": [
       "212"
      ]
     },
     "execution_count": 26,
     "metadata": {},
     "output_type": "execute_result"
    },
    {
     "data": {
      "text/plain": [
       "151"
      ]
     },
     "execution_count": 26,
     "metadata": {},
     "output_type": "execute_result"
    },
    {
     "data": {
      "text/plain": [
       "595"
      ]
     },
     "execution_count": 26,
     "metadata": {},
     "output_type": "execute_result"
    },
    {
     "data": {
      "text/plain": [
       "235"
      ]
     },
     "execution_count": 26,
     "metadata": {},
     "output_type": "execute_result"
    },
    {
     "data": {
      "text/plain": [
       "163"
      ]
     },
     "execution_count": 26,
     "metadata": {},
     "output_type": "execute_result"
    },
    {
     "data": {
      "text/plain": [
       "362"
      ]
     },
     "execution_count": 26,
     "metadata": {},
     "output_type": "execute_result"
    },
    {
     "data": {
      "text/plain": [
       "183"
      ]
     },
     "execution_count": 26,
     "metadata": {},
     "output_type": "execute_result"
    },
    {
     "data": {
      "text/plain": [
       "105"
      ]
     },
     "execution_count": 26,
     "metadata": {},
     "output_type": "execute_result"
    },
    {
     "data": {
      "text/plain": [
       "477"
      ]
     },
     "execution_count": 26,
     "metadata": {},
     "output_type": "execute_result"
    },
    {
     "data": {
      "text/plain": [
       "188"
      ]
     },
     "execution_count": 26,
     "metadata": {},
     "output_type": "execute_result"
    },
    {
     "data": {
      "text/plain": [
       "101"
      ]
     },
     "execution_count": 26,
     "metadata": {},
     "output_type": "execute_result"
    },
    {
     "data": {
      "text/plain": [
       "459"
      ]
     },
     "execution_count": 26,
     "metadata": {},
     "output_type": "execute_result"
    },
    {
     "data": {
      "text/plain": [
       "102"
      ]
     },
     "execution_count": 26,
     "metadata": {},
     "output_type": "execute_result"
    },
    {
     "data": {
      "text/plain": [
       "205"
      ]
     },
     "execution_count": 26,
     "metadata": {},
     "output_type": "execute_result"
    },
    {
     "data": {
      "text/plain": [
       "350"
      ]
     },
     "execution_count": 26,
     "metadata": {},
     "output_type": "execute_result"
    },
    {
     "data": {
      "text/plain": [
       "390"
      ]
     },
     "execution_count": 26,
     "metadata": {},
     "output_type": "execute_result"
    },
    {
     "data": {
      "text/plain": [
       "478"
      ]
     },
     "execution_count": 26,
     "metadata": {},
     "output_type": "execute_result"
    },
    {
     "data": {
      "text/plain": [
       "264"
      ]
     },
     "execution_count": 26,
     "metadata": {},
     "output_type": "execute_result"
    },
    {
     "data": {
      "text/plain": [
       "203"
      ]
     },
     "execution_count": 26,
     "metadata": {},
     "output_type": "execute_result"
    },
    {
     "data": {
      "text/plain": [
       "184"
      ]
     },
     "execution_count": 26,
     "metadata": {},
     "output_type": "execute_result"
    },
    {
     "data": {
      "text/plain": [
       "1539"
      ]
     },
     "execution_count": 26,
     "metadata": {},
     "output_type": "execute_result"
    },
    {
     "data": {
      "text/plain": [
       "492"
      ]
     },
     "execution_count": 26,
     "metadata": {},
     "output_type": "execute_result"
    },
    {
     "data": {
      "text/plain": [
       "309"
      ]
     },
     "execution_count": 26,
     "metadata": {},
     "output_type": "execute_result"
    },
    {
     "data": {
      "text/plain": [
       "117"
      ]
     },
     "execution_count": 26,
     "metadata": {},
     "output_type": "execute_result"
    },
    {
     "data": {
      "text/plain": [
       "105"
      ]
     },
     "execution_count": 26,
     "metadata": {},
     "output_type": "execute_result"
    },
    {
     "data": {
      "text/plain": [
       "143"
      ]
     },
     "execution_count": 26,
     "metadata": {},
     "output_type": "execute_result"
    },
    {
     "data": {
      "text/plain": [
       "807"
      ]
     },
     "execution_count": 26,
     "metadata": {},
     "output_type": "execute_result"
    },
    {
     "data": {
      "text/plain": [
       "176"
      ]
     },
     "execution_count": 26,
     "metadata": {},
     "output_type": "execute_result"
    },
    {
     "data": {
      "text/plain": [
       "423"
      ]
     },
     "execution_count": 26,
     "metadata": {},
     "output_type": "execute_result"
    },
    {
     "data": {
      "text/plain": [
       "423"
      ]
     },
     "execution_count": 26,
     "metadata": {},
     "output_type": "execute_result"
    },
    {
     "data": {
      "text/plain": [
       "423"
      ]
     },
     "execution_count": 26,
     "metadata": {},
     "output_type": "execute_result"
    },
    {
     "data": {
      "text/plain": [
       "466"
      ]
     },
     "execution_count": 26,
     "metadata": {},
     "output_type": "execute_result"
    },
    {
     "data": {
      "text/plain": [
       "267"
      ]
     },
     "execution_count": 26,
     "metadata": {},
     "output_type": "execute_result"
    },
    {
     "data": {
      "text/plain": [
       "608"
      ]
     },
     "execution_count": 26,
     "metadata": {},
     "output_type": "execute_result"
    },
    {
     "data": {
      "text/plain": [
       "1623"
      ]
     },
     "execution_count": 26,
     "metadata": {},
     "output_type": "execute_result"
    },
    {
     "data": {
      "text/plain": [
       "452"
      ]
     },
     "execution_count": 26,
     "metadata": {},
     "output_type": "execute_result"
    },
    {
     "data": {
      "text/plain": [
       "182"
      ]
     },
     "execution_count": 26,
     "metadata": {},
     "output_type": "execute_result"
    },
    {
     "data": {
      "text/plain": [
       "108"
      ]
     },
     "execution_count": 26,
     "metadata": {},
     "output_type": "execute_result"
    },
    {
     "data": {
      "text/plain": [
       "498"
      ]
     },
     "execution_count": 26,
     "metadata": {},
     "output_type": "execute_result"
    },
    {
     "data": {
      "text/plain": [
       "175"
      ]
     },
     "execution_count": 26,
     "metadata": {},
     "output_type": "execute_result"
    },
    {
     "data": {
      "text/plain": [
       "178"
      ]
     },
     "execution_count": 26,
     "metadata": {},
     "output_type": "execute_result"
    },
    {
     "data": {
      "text/plain": [
       "168"
      ]
     },
     "execution_count": 26,
     "metadata": {},
     "output_type": "execute_result"
    },
    {
     "data": {
      "text/plain": [
       "875"
      ]
     },
     "execution_count": 26,
     "metadata": {},
     "output_type": "execute_result"
    },
    {
     "data": {
      "text/plain": [
       "140"
      ]
     },
     "execution_count": 26,
     "metadata": {},
     "output_type": "execute_result"
    },
    {
     "data": {
      "text/plain": [
       "420"
      ]
     },
     "execution_count": 26,
     "metadata": {},
     "output_type": "execute_result"
    },
    {
     "data": {
      "text/plain": [
       "196"
      ]
     },
     "execution_count": 26,
     "metadata": {},
     "output_type": "execute_result"
    },
    {
     "data": {
      "text/plain": [
       "108"
      ]
     },
     "execution_count": 26,
     "metadata": {},
     "output_type": "execute_result"
    },
    {
     "data": {
      "text/plain": [
       "719"
      ]
     },
     "execution_count": 26,
     "metadata": {},
     "output_type": "execute_result"
    },
    {
     "data": {
      "text/plain": [
       "424"
      ]
     },
     "execution_count": 26,
     "metadata": {},
     "output_type": "execute_result"
    },
    {
     "data": {
      "text/plain": [
       "967"
      ]
     },
     "execution_count": 26,
     "metadata": {},
     "output_type": "execute_result"
    },
    {
     "data": {
      "text/plain": [
       "218"
      ]
     },
     "execution_count": 26,
     "metadata": {},
     "output_type": "execute_result"
    },
    {
     "data": {
      "text/plain": [
       "186"
      ]
     },
     "execution_count": 26,
     "metadata": {},
     "output_type": "execute_result"
    },
    {
     "data": {
      "text/plain": [
       "314"
      ]
     },
     "execution_count": 26,
     "metadata": {},
     "output_type": "execute_result"
    },
    {
     "data": {
      "text/plain": [
       "139"
      ]
     },
     "execution_count": 26,
     "metadata": {},
     "output_type": "execute_result"
    },
    {
     "data": {
      "text/plain": [
       "191"
      ]
     },
     "execution_count": 26,
     "metadata": {},
     "output_type": "execute_result"
    },
    {
     "data": {
      "text/plain": [
       "119"
      ]
     },
     "execution_count": 26,
     "metadata": {},
     "output_type": "execute_result"
    },
    {
     "data": {
      "text/plain": [
       "152"
      ]
     },
     "execution_count": 26,
     "metadata": {},
     "output_type": "execute_result"
    },
    {
     "data": {
      "text/plain": [
       "118"
      ]
     },
     "execution_count": 26,
     "metadata": {},
     "output_type": "execute_result"
    },
    {
     "data": {
      "text/plain": [
       "376"
      ]
     },
     "execution_count": 26,
     "metadata": {},
     "output_type": "execute_result"
    },
    {
     "data": {
      "text/plain": [
       "110"
      ]
     },
     "execution_count": 26,
     "metadata": {},
     "output_type": "execute_result"
    },
    {
     "data": {
      "text/plain": [
       "267"
      ]
     },
     "execution_count": 26,
     "metadata": {},
     "output_type": "execute_result"
    },
    {
     "data": {
      "text/plain": [
       "209"
      ]
     },
     "execution_count": 26,
     "metadata": {},
     "output_type": "execute_result"
    },
    {
     "data": {
      "text/plain": [
       "155"
      ]
     },
     "execution_count": 26,
     "metadata": {},
     "output_type": "execute_result"
    },
    {
     "data": {
      "text/plain": [
       "752"
      ]
     },
     "execution_count": 26,
     "metadata": {},
     "output_type": "execute_result"
    },
    {
     "data": {
      "text/plain": [
       "203"
      ]
     },
     "execution_count": 26,
     "metadata": {},
     "output_type": "execute_result"
    },
    {
     "data": {
      "text/plain": [
       "476"
      ]
     },
     "execution_count": 26,
     "metadata": {},
     "output_type": "execute_result"
    },
    {
     "data": {
      "text/plain": [
       "102"
      ]
     },
     "execution_count": 26,
     "metadata": {},
     "output_type": "execute_result"
    },
    {
     "data": {
      "text/plain": [
       "158"
      ]
     },
     "execution_count": 26,
     "metadata": {},
     "output_type": "execute_result"
    },
    {
     "data": {
      "text/plain": [
       "572"
      ]
     },
     "execution_count": 26,
     "metadata": {},
     "output_type": "execute_result"
    },
    {
     "data": {
      "text/plain": [
       "449"
      ]
     },
     "execution_count": 26,
     "metadata": {},
     "output_type": "execute_result"
    },
    {
     "data": {
      "text/plain": [
       "126"
      ]
     },
     "execution_count": 26,
     "metadata": {},
     "output_type": "execute_result"
    },
    {
     "data": {
      "text/plain": [
       "398"
      ]
     },
     "execution_count": 26,
     "metadata": {},
     "output_type": "execute_result"
    },
    {
     "data": {
      "text/plain": [
       "575"
      ]
     },
     "execution_count": 26,
     "metadata": {},
     "output_type": "execute_result"
    },
    {
     "data": {
      "text/plain": [
       "322"
      ]
     },
     "execution_count": 26,
     "metadata": {},
     "output_type": "execute_result"
    },
    {
     "data": {
      "text/plain": [
       "394"
      ]
     },
     "execution_count": 26,
     "metadata": {},
     "output_type": "execute_result"
    },
    {
     "data": {
      "text/plain": [
       "537"
      ]
     },
     "execution_count": 26,
     "metadata": {},
     "output_type": "execute_result"
    },
    {
     "data": {
      "text/plain": [
       "217"
      ]
     },
     "execution_count": 26,
     "metadata": {},
     "output_type": "execute_result"
    },
    {
     "data": {
      "text/plain": [
       "114"
      ]
     },
     "execution_count": 26,
     "metadata": {},
     "output_type": "execute_result"
    },
    {
     "data": {
      "text/plain": [
       "128"
      ]
     },
     "execution_count": 26,
     "metadata": {},
     "output_type": "execute_result"
    },
    {
     "data": {
      "text/plain": [
       "359"
      ]
     },
     "execution_count": 26,
     "metadata": {},
     "output_type": "execute_result"
    },
    {
     "data": {
      "text/plain": [
       "352"
      ]
     },
     "execution_count": 26,
     "metadata": {},
     "output_type": "execute_result"
    },
    {
     "data": {
      "text/plain": [
       "185"
      ]
     },
     "execution_count": 26,
     "metadata": {},
     "output_type": "execute_result"
    },
    {
     "data": {
      "text/plain": [
       "1387"
      ]
     },
     "execution_count": 26,
     "metadata": {},
     "output_type": "execute_result"
    },
    {
     "data": {
      "text/plain": [
       "1387"
      ]
     },
     "execution_count": 26,
     "metadata": {},
     "output_type": "execute_result"
    },
    {
     "data": {
      "text/plain": [
       "366"
      ]
     },
     "execution_count": 26,
     "metadata": {},
     "output_type": "execute_result"
    },
    {
     "data": {
      "text/plain": [
       "1167"
      ]
     },
     "execution_count": 26,
     "metadata": {},
     "output_type": "execute_result"
    },
    {
     "data": {
      "text/plain": [
       "157"
      ]
     },
     "execution_count": 26,
     "metadata": {},
     "output_type": "execute_result"
    },
    {
     "data": {
      "text/plain": [
       "43"
      ]
     },
     "execution_count": 26,
     "metadata": {},
     "output_type": "execute_result"
    },
    {
     "data": {
      "text/plain": [
       "154"
      ]
     },
     "execution_count": 26,
     "metadata": {},
     "output_type": "execute_result"
    },
    {
     "data": {
      "text/plain": [
       "359"
      ]
     },
     "execution_count": 26,
     "metadata": {},
     "output_type": "execute_result"
    },
    {
     "data": {
      "text/plain": [
       "242"
      ]
     },
     "execution_count": 26,
     "metadata": {},
     "output_type": "execute_result"
    },
    {
     "data": {
      "text/plain": [
       "432"
      ]
     },
     "execution_count": 26,
     "metadata": {},
     "output_type": "execute_result"
    },
    {
     "data": {
      "text/plain": [
       "199"
      ]
     },
     "execution_count": 26,
     "metadata": {},
     "output_type": "execute_result"
    },
    {
     "data": {
      "text/plain": [
       "158"
      ]
     },
     "execution_count": 26,
     "metadata": {},
     "output_type": "execute_result"
    },
    {
     "data": {
      "text/plain": [
       "188"
      ]
     },
     "execution_count": 26,
     "metadata": {},
     "output_type": "execute_result"
    },
    {
     "data": {
      "text/plain": [
       "254"
      ]
     },
     "execution_count": 26,
     "metadata": {},
     "output_type": "execute_result"
    },
    {
     "data": {
      "text/plain": [
       "277"
      ]
     },
     "execution_count": 26,
     "metadata": {},
     "output_type": "execute_result"
    },
    {
     "data": {
      "text/plain": [
       "276"
      ]
     },
     "execution_count": 26,
     "metadata": {},
     "output_type": "execute_result"
    },
    {
     "data": {
      "text/plain": [
       "1197"
      ]
     },
     "execution_count": 26,
     "metadata": {},
     "output_type": "execute_result"
    },
    {
     "data": {
      "text/plain": [
       "166"
      ]
     },
     "execution_count": 26,
     "metadata": {},
     "output_type": "execute_result"
    },
    {
     "data": {
      "text/plain": [
       "81"
      ]
     },
     "execution_count": 26,
     "metadata": {},
     "output_type": "execute_result"
    },
    {
     "data": {
      "text/plain": [
       "99"
      ]
     },
     "execution_count": 26,
     "metadata": {},
     "output_type": "execute_result"
    },
    {
     "data": {
      "text/plain": [
       "202"
      ]
     },
     "execution_count": 26,
     "metadata": {},
     "output_type": "execute_result"
    },
    {
     "data": {
      "text/plain": [
       "329"
      ]
     },
     "execution_count": 26,
     "metadata": {},
     "output_type": "execute_result"
    },
    {
     "data": {
      "text/plain": [
       "180"
      ]
     },
     "execution_count": 26,
     "metadata": {},
     "output_type": "execute_result"
    },
    {
     "data": {
      "text/plain": [
       "176"
      ]
     },
     "execution_count": 26,
     "metadata": {},
     "output_type": "execute_result"
    },
    {
     "data": {
      "text/plain": [
       "591"
      ]
     },
     "execution_count": 26,
     "metadata": {},
     "output_type": "execute_result"
    },
    {
     "data": {
      "text/plain": [
       "119"
      ]
     },
     "execution_count": 26,
     "metadata": {},
     "output_type": "execute_result"
    },
    {
     "data": {
      "text/plain": [
       "501"
      ]
     },
     "execution_count": 26,
     "metadata": {},
     "output_type": "execute_result"
    },
    {
     "data": {
      "text/plain": [
       "381"
      ]
     },
     "execution_count": 26,
     "metadata": {},
     "output_type": "execute_result"
    },
    {
     "data": {
      "text/plain": [
       "265"
      ]
     },
     "execution_count": 26,
     "metadata": {},
     "output_type": "execute_result"
    },
    {
     "data": {
      "text/plain": [
       "107"
      ]
     },
     "execution_count": 26,
     "metadata": {},
     "output_type": "execute_result"
    },
    {
     "data": {
      "text/plain": [
       "217"
      ]
     },
     "execution_count": 26,
     "metadata": {},
     "output_type": "execute_result"
    },
    {
     "data": {
      "text/plain": [
       "145"
      ]
     },
     "execution_count": 26,
     "metadata": {},
     "output_type": "execute_result"
    },
    {
     "data": {
      "text/plain": [
       "357"
      ]
     },
     "execution_count": 26,
     "metadata": {},
     "output_type": "execute_result"
    },
    {
     "data": {
      "text/plain": [
       "292"
      ]
     },
     "execution_count": 26,
     "metadata": {},
     "output_type": "execute_result"
    },
    {
     "data": {
      "text/plain": [
       "193"
      ]
     },
     "execution_count": 26,
     "metadata": {},
     "output_type": "execute_result"
    },
    {
     "data": {
      "text/plain": [
       "292"
      ]
     },
     "execution_count": 26,
     "metadata": {},
     "output_type": "execute_result"
    },
    {
     "data": {
      "text/plain": [
       "1501"
      ]
     },
     "execution_count": 26,
     "metadata": {},
     "output_type": "execute_result"
    },
    {
     "data": {
      "text/plain": [
       "413"
      ]
     },
     "execution_count": 26,
     "metadata": {},
     "output_type": "execute_result"
    },
    {
     "data": {
      "text/plain": [
       "199"
      ]
     },
     "execution_count": 26,
     "metadata": {},
     "output_type": "execute_result"
    },
    {
     "data": {
      "text/plain": [
       "776"
      ]
     },
     "execution_count": 26,
     "metadata": {},
     "output_type": "execute_result"
    },
    {
     "data": {
      "text/plain": [
       "475"
      ]
     },
     "execution_count": 26,
     "metadata": {},
     "output_type": "execute_result"
    },
    {
     "data": {
      "text/plain": [
       "475"
      ]
     },
     "execution_count": 26,
     "metadata": {},
     "output_type": "execute_result"
    },
    {
     "data": {
      "text/plain": [
       "98"
      ]
     },
     "execution_count": 26,
     "metadata": {},
     "output_type": "execute_result"
    },
    {
     "data": {
      "text/plain": [
       "356"
      ]
     },
     "execution_count": 26,
     "metadata": {},
     "output_type": "execute_result"
    },
    {
     "data": {
      "text/plain": [
       "187"
      ]
     },
     "execution_count": 26,
     "metadata": {},
     "output_type": "execute_result"
    },
    {
     "data": {
      "text/plain": [
       "248"
      ]
     },
     "execution_count": 26,
     "metadata": {},
     "output_type": "execute_result"
    },
    {
     "data": {
      "text/plain": [
       "153"
      ]
     },
     "execution_count": 26,
     "metadata": {},
     "output_type": "execute_result"
    },
    {
     "data": {
      "text/plain": [
       "157"
      ]
     },
     "execution_count": 26,
     "metadata": {},
     "output_type": "execute_result"
    },
    {
     "data": {
      "text/plain": [
       "166"
      ]
     },
     "execution_count": 26,
     "metadata": {},
     "output_type": "execute_result"
    },
    {
     "data": {
      "text/plain": [
       "671"
      ]
     },
     "execution_count": 26,
     "metadata": {},
     "output_type": "execute_result"
    },
    {
     "data": {
      "text/plain": [
       "764"
      ]
     },
     "execution_count": 26,
     "metadata": {},
     "output_type": "execute_result"
    },
    {
     "data": {
      "text/plain": [
       "105"
      ]
     },
     "execution_count": 26,
     "metadata": {},
     "output_type": "execute_result"
    },
    {
     "data": {
      "text/plain": [
       "423"
      ]
     },
     "execution_count": 26,
     "metadata": {},
     "output_type": "execute_result"
    },
    {
     "data": {
      "text/plain": [
       "923"
      ]
     },
     "execution_count": 26,
     "metadata": {},
     "output_type": "execute_result"
    },
    {
     "data": {
      "text/plain": [
       "162"
      ]
     },
     "execution_count": 26,
     "metadata": {},
     "output_type": "execute_result"
    },
    {
     "data": {
      "text/plain": [
       "300"
      ]
     },
     "execution_count": 26,
     "metadata": {},
     "output_type": "execute_result"
    },
    {
     "data": {
      "text/plain": [
       "287"
      ]
     },
     "execution_count": 26,
     "metadata": {},
     "output_type": "execute_result"
    },
    {
     "data": {
      "text/plain": [
       "527"
      ]
     },
     "execution_count": 26,
     "metadata": {},
     "output_type": "execute_result"
    },
    {
     "data": {
      "text/plain": [
       "112"
      ]
     },
     "execution_count": 26,
     "metadata": {},
     "output_type": "execute_result"
    },
    {
     "data": {
      "text/plain": [
       "469"
      ]
     },
     "execution_count": 26,
     "metadata": {},
     "output_type": "execute_result"
    },
    {
     "data": {
      "text/plain": [
       "102"
      ]
     },
     "execution_count": 26,
     "metadata": {},
     "output_type": "execute_result"
    },
    {
     "data": {
      "text/plain": [
       "102"
      ]
     },
     "execution_count": 26,
     "metadata": {},
     "output_type": "execute_result"
    },
    {
     "data": {
      "text/plain": [
       "368"
      ]
     },
     "execution_count": 26,
     "metadata": {},
     "output_type": "execute_result"
    },
    {
     "data": {
      "text/plain": [
       "173"
      ]
     },
     "execution_count": 26,
     "metadata": {},
     "output_type": "execute_result"
    },
    {
     "data": {
      "text/plain": [
       "492"
      ]
     },
     "execution_count": 26,
     "metadata": {},
     "output_type": "execute_result"
    },
    {
     "data": {
      "text/plain": [
       "358"
      ]
     },
     "execution_count": 26,
     "metadata": {},
     "output_type": "execute_result"
    },
    {
     "data": {
      "text/plain": [
       "246"
      ]
     },
     "execution_count": 26,
     "metadata": {},
     "output_type": "execute_result"
    },
    {
     "data": {
      "text/plain": [
       "159"
      ]
     },
     "execution_count": 26,
     "metadata": {},
     "output_type": "execute_result"
    },
    {
     "data": {
      "text/plain": [
       "456"
      ]
     },
     "execution_count": 26,
     "metadata": {},
     "output_type": "execute_result"
    },
    {
     "data": {
      "text/plain": [
       "368"
      ]
     },
     "execution_count": 26,
     "metadata": {},
     "output_type": "execute_result"
    },
    {
     "data": {
      "text/plain": [
       "141"
      ]
     },
     "execution_count": 26,
     "metadata": {},
     "output_type": "execute_result"
    },
    {
     "data": {
      "text/plain": [
       "99"
      ]
     },
     "execution_count": 26,
     "metadata": {},
     "output_type": "execute_result"
    },
    {
     "data": {
      "text/plain": [
       "111"
      ]
     },
     "execution_count": 26,
     "metadata": {},
     "output_type": "execute_result"
    },
    {
     "data": {
      "text/plain": [
       "331"
      ]
     },
     "execution_count": 26,
     "metadata": {},
     "output_type": "execute_result"
    },
    {
     "data": {
      "text/plain": [
       "341"
      ]
     },
     "execution_count": 26,
     "metadata": {},
     "output_type": "execute_result"
    },
    {
     "data": {
      "text/plain": [
       "220"
      ]
     },
     "execution_count": 26,
     "metadata": {},
     "output_type": "execute_result"
    },
    {
     "data": {
      "text/plain": [
       "356"
      ]
     },
     "execution_count": 26,
     "metadata": {},
     "output_type": "execute_result"
    },
    {
     "data": {
      "text/plain": [
       "274"
      ]
     },
     "execution_count": 26,
     "metadata": {},
     "output_type": "execute_result"
    },
    {
     "data": {
      "text/plain": [
       "200"
      ]
     },
     "execution_count": 26,
     "metadata": {},
     "output_type": "execute_result"
    },
    {
     "data": {
      "text/plain": [
       "188"
      ]
     },
     "execution_count": 26,
     "metadata": {},
     "output_type": "execute_result"
    },
    {
     "data": {
      "text/plain": [
       "98"
      ]
     },
     "execution_count": 26,
     "metadata": {},
     "output_type": "execute_result"
    },
    {
     "data": {
      "text/plain": [
       "102"
      ]
     },
     "execution_count": 26,
     "metadata": {},
     "output_type": "execute_result"
    },
    {
     "data": {
      "text/plain": [
       "154"
      ]
     },
     "execution_count": 26,
     "metadata": {},
     "output_type": "execute_result"
    },
    {
     "data": {
      "text/plain": [
       "579"
      ]
     },
     "execution_count": 26,
     "metadata": {},
     "output_type": "execute_result"
    },
    {
     "data": {
      "text/plain": [
       "117"
      ]
     },
     "execution_count": 26,
     "metadata": {},
     "output_type": "execute_result"
    },
    {
     "data": {
      "text/plain": [
       "291"
      ]
     },
     "execution_count": 26,
     "metadata": {},
     "output_type": "execute_result"
    },
    {
     "data": {
      "text/plain": [
       "421"
      ]
     },
     "execution_count": 26,
     "metadata": {},
     "output_type": "execute_result"
    }
   ],
   "source": [
    "pages = [str(i) for i in range(200)]\n",
    "filename= \"reviews6.csv\"\n",
    "f = open(filename, \"w\")\n",
    "headers = \"Reviewer Details,Effectiveness Rating,Ease_of_Use Rating,Satisfaction Rating,Comment\\n\"\n",
    "f.write(headers)\n",
    "for page in pages:\n",
    "    url1 = 'https://www.webmd.com/drugs/drugreview-4398-tramadol+oral.aspx?drugid=4398&drugname=tramadol+oral&pageIndex='+page+'&sortby=3&conditionFilter=-1'\n",
    "    page=requests.get(url1)\n",
    "    soup=BeautifulSoup(page.content, 'html.parser')\n",
    "    con1 = soup.findAll(\"div\", {\"class\": \"userPost\"})\n",
    "    con2 = con1[1]\n",
    "    r_details = con2.p.text\n",
    "    ratings = con2.findAll(\"p\", {\"class\" : \"inlineRating starRating\"})\n",
    "    r_effec = ratings[0].text\n",
    "    r_ease = ratings[1].text\n",
    "    r_satis = ratings[2].text\n",
    "    comment = con2.findAll(\"p\", {\"class\" : \"comment\"})\n",
    "    r_comment = comment[1].text\n",
    "    \n",
    "    filename= \"reviews6.csv\"\n",
    "    f = open(filename, \"a\")\n",
    "    for con2 in con1:\n",
    "        r_details = con2.p.text\n",
    "        ratings = con2.findAll(\"p\", {\"class\" : \"inlineRating starRating\"})\n",
    "        r_effec = ratings[0].text\n",
    "        r_ease = ratings[1].text\n",
    "        r_satis = ratings[2].text\n",
    "        comment = con2.findAll(\"p\", {\"class\" : \"comment\"})\n",
    "        r_comment = comment[1].text\n",
    "        \n",
    "        f.write(r_details.replace(\",\" , \"|\") + \",\" + r_effec[-1] + \",\" + r_ease[-1] + \",\" + r_satis[-1] + \",\"  + \n",
    "                                replaceMultiple(r_comment,['\\r\\n', ','], \"|\") + \"\\n\")\n",
    "        \n",
    "        \n",
    "        \n",
    "f.close()"
   ]
  },
  {
   "cell_type": "markdown",
   "metadata": {},
   "source": [
    "### 7. Cleaning the data.\n",
    "The first column has Gender and Age which will be helpful in further Exploratory Data Anaylsis. Cleaning the 'Comment' and 'Reviewer' part from the columns is carried out to make data more readable and less redudant. Gender is extraced from the Reviewers Details column and saved in new separate column. Extracting Age is a bit of a challenge since we have too many categories to classify (Working on solution)."
   ]
  },
  {
   "cell_type": "code",
   "execution_count": 40,
   "metadata": {},
   "outputs": [],
   "source": [
    "dataf = pd.read_csv(\"C:/Users/admin/Downloads/reviews6.csv\") #Sample data  of 50 entries\n",
    "data = dataf['Reviewer_Details'].tolist()\n",
    "datac = dataf['Comment'].tolist()\n",
    "#data2 = dataf.take([0], axis=1)\n",
    "#data2"
   ]
  },
  {
   "cell_type": "code",
   "execution_count": 42,
   "metadata": {},
   "outputs": [],
   "source": [
    "i = 0\n",
    "idx = 0\n",
    "temp = []\n",
    "withoutGenderString = []\n",
    "withoutGenderStringTemp = []\n",
    "genderSequence = []\n",
    "#for i in range(len(data)):\n",
    "#    temp = re.split(r'\\s', data[i])\n",
    "#    for idx in range(len(temp)):\n",
    "#        if(temp[idx].lower().find('male') != -1 or temp[idx].lower().find('female') != -1):\n",
    "#            print('There\\'s Something here', idx)\n",
    "#            print(\"lower data[i] : \",temp)\n",
    "#        pass\n",
    "\n",
    "for i in range(len(data)):\n",
    "    withoutGenderStringTemp = \"\"\n",
    "    genderInstance = \"\"\n",
    "    if('male' in data[i].lower() or 'female' in data[i].lower()):\n",
    "        temp = re.split(r'\\s', data[i])\n",
    "        #print(\"Something's There : \",i)\n",
    "        for idx in range(len(temp)):\n",
    "            tempStr = temp[idx].lower()\n",
    "            withoutGenderStringTemp = tempStr\n",
    "            if(tempStr.find('male') != -1):\n",
    "                genderInstance = \"Male\"\n",
    "                #print('There\\'s Popping at this index to get the comment without gender', idx)\n",
    "                withoutGenderStringTemp = \"\"                           #Getting the comment without Gender \n",
    "            if(tempStr.find('female') != -1):\n",
    "                genderInstance = \"Female\"\n",
    "                #print('There\\'s Popping at this index to get the comment without gender', idx)\n",
    "                withoutGenderStringTemp = \"\"                           #Getting the comment without Gender\n",
    "                #print(\"lower data[i] : \",temp)\n",
    "            withoutGenderStringTemp = \"\".join(withoutGenderStringTemp)\n",
    "    else:\n",
    "        withoutGenderStringTemp = data[i]\n",
    "        #print(\"Nothings there : \",i,data[i])\n",
    "        genderInstance = \"NA\"\n",
    "    genderSequence.append(genderInstance)                              #Col-wise gender from the comments\n",
    "    \n",
    "    withoutGenderString.append(withoutGenderStringTemp)                #Comments without Gender\n",
    "\n",
    "#print(withoutGenderString)\n",
    "#print(\"-----------------------------------------------------------\")\n",
    "#print(genderSequence)"
   ]
  },
  {
   "cell_type": "code",
   "execution_count": 43,
   "metadata": {
    "scrolled": true
   },
   "outputs": [],
   "source": [
    "x=[]\n",
    "for item in data:\n",
    "    x.append(item.strip(\"Reviewer:\"))\n",
    "#print(x)\n"
   ]
  },
  {
   "cell_type": "code",
   "execution_count": 44,
   "metadata": {},
   "outputs": [],
   "source": [
    "y=[]\n",
    "for item in datac:\n",
    "    yt = (item.strip(\"Comment:\"))\n",
    "    y.append(yt.strip(\"Hide Full Comment\"))\n",
    "#print(y)"
   ]
  },
  {
   "cell_type": "code",
   "execution_count": 45,
   "metadata": {},
   "outputs": [],
   "source": [
    "dataf['Reviewer Details']=x\n",
    "dataf['Comment']=y\n",
    "dataf['Gender'] = genderSequence"
   ]
  },
  {
   "cell_type": "code",
   "execution_count": 46,
   "metadata": {},
   "outputs": [
    {
     "data": {
      "text/html": [
       "<div>\n",
       "<style scoped>\n",
       "    .dataframe tbody tr th:only-of-type {\n",
       "        vertical-align: middle;\n",
       "    }\n",
       "\n",
       "    .dataframe tbody tr th {\n",
       "        vertical-align: top;\n",
       "    }\n",
       "\n",
       "    .dataframe thead th {\n",
       "        text-align: right;\n",
       "    }\n",
       "</style>\n",
       "<table border=\"1\" class=\"dataframe\">\n",
       "  <thead>\n",
       "    <tr style=\"text-align: right;\">\n",
       "      <th></th>\n",
       "      <th>Reviewer_Details</th>\n",
       "      <th>Effectiveness_Rating</th>\n",
       "      <th>Ease_of_Use_Rating</th>\n",
       "      <th>Satisfaction_Rating</th>\n",
       "      <th>Comment</th>\n",
       "      <th>Reviewer Details</th>\n",
       "      <th>Gender</th>\n",
       "    </tr>\n",
       "  </thead>\n",
       "  <tbody>\n",
       "    <tr>\n",
       "      <th>0</th>\n",
       "      <td>Reviewer: Newbie | 35-44 on Treatment for 1 to...</td>\n",
       "      <td>2</td>\n",
       "      <td>2</td>\n",
       "      <td>1</td>\n",
       "      <td>Didnâ??t rich the neevevosin ! Wastef</td>\n",
       "      <td>Newbie | 35-44 on Treatment for 1 to 6 months...</td>\n",
       "      <td>NA</td>\n",
       "    </tr>\n",
       "    <tr>\n",
       "      <th>1</th>\n",
       "      <td>Reviewer: 45-54 on Treatment for less than 1 m...</td>\n",
       "      <td>1</td>\n",
       "      <td>5</td>\n",
       "      <td>1</td>\n",
       "      <td>I was prescribed this for the nerve pain that ...</td>\n",
       "      <td>45-54 on Treatment for less than 1 month (Pat...</td>\n",
       "      <td>NA</td>\n",
       "    </tr>\n",
       "    <tr>\n",
       "      <th>2</th>\n",
       "      <td>Reviewer: Ocetech| 65-74 Male  on Treatment fo...</td>\n",
       "      <td>1</td>\n",
       "      <td>4</td>\n",
       "      <td>2</td>\n",
       "      <td>Tramadol does help a bit with the ghost pain i...</td>\n",
       "      <td>Ocetech| 65-74 Male  on Treatment for 10 year...</td>\n",
       "      <td>Male</td>\n",
       "    </tr>\n",
       "    <tr>\n",
       "      <th>3</th>\n",
       "      <td>Reviewer: virleo| 55-64 Female  on Treatment f...</td>\n",
       "      <td>1</td>\n",
       "      <td>1</td>\n",
       "      <td>1</td>\n",
       "      <td>A few years ago a doctor at an urgent care cli...</td>\n",
       "      <td>virleo| 55-64 Female  on Treatment for less t...</td>\n",
       "      <td>Female</td>\n",
       "    </tr>\n",
       "    <tr>\n",
       "      <th>4</th>\n",
       "      <td>Reviewer: Diane perrin| 65-74 on Treatment for...</td>\n",
       "      <td>5</td>\n",
       "      <td>5</td>\n",
       "      <td>5</td>\n",
       "      <td>I couldn't be happier with this medication. I ...</td>\n",
       "      <td>Diane perrin| 65-74 on Treatment for 2 to les...</td>\n",
       "      <td>NA</td>\n",
       "    </tr>\n",
       "    <tr>\n",
       "      <th>5</th>\n",
       "      <td>Reviewer: Mtdwnurse1| 45-54 Female  on Treatme...</td>\n",
       "      <td>4</td>\n",
       "      <td>4</td>\n",
       "      <td>4</td>\n",
       "      <td>After my neck fusion to my cervical C5|6|7| bo...</td>\n",
       "      <td>Mtdwnurse1| 45-54 Female  on Treatment for 6 ...</td>\n",
       "      <td>Female</td>\n",
       "    </tr>\n",
       "    <tr>\n",
       "      <th>6</th>\n",
       "      <td>Reviewer: meposide|  Male  on Treatment for 5 ...</td>\n",
       "      <td>1</td>\n",
       "      <td>3</td>\n",
       "      <td>2</td>\n",
       "      <td></td>\n",
       "      <td>meposide|  Male  on Treatment for 5 to less t...</td>\n",
       "      <td>Male</td>\n",
       "    </tr>\n",
       "    <tr>\n",
       "      <th>7</th>\n",
       "      <td>Reviewer: FBigPharma| 35-44 on Treatment for 1...</td>\n",
       "      <td>2</td>\n",
       "      <td>2</td>\n",
       "      <td>1</td>\n",
       "      <td>Try being perscribed 120 20MG OxyCodone a mont...</td>\n",
       "      <td>FBigPharma| 35-44 on Treatment for 1 to 6 mon...</td>\n",
       "      <td>NA</td>\n",
       "    </tr>\n",
       "    <tr>\n",
       "      <th>8</th>\n",
       "      <td>Reviewer: Foots55| 65-74 Female  on Treatment ...</td>\n",
       "      <td>3</td>\n",
       "      <td>2</td>\n",
       "      <td>2</td>\n",
       "      <td>It’s been ok but had others that worked better</td>\n",
       "      <td>Foots55| 65-74 Female  on Treatment for 1 to ...</td>\n",
       "      <td>Female</td>\n",
       "    </tr>\n",
       "    <tr>\n",
       "      <th>9</th>\n",
       "      <td>Reviewer: GoneRacin24| 65-74 Female  on Treatm...</td>\n",
       "      <td>1</td>\n",
       "      <td>5</td>\n",
       "      <td>1</td>\n",
       "      <td>Severe neuropathic pain in left leg into my to...</td>\n",
       "      <td>GoneRacin24| 65-74 Female  on Treatment for 1...</td>\n",
       "      <td>Female</td>\n",
       "    </tr>\n",
       "    <tr>\n",
       "      <th>10</th>\n",
       "      <td>Reviewer: 75 or over Male  on Treatment for le...</td>\n",
       "      <td>2</td>\n",
       "      <td>5</td>\n",
       "      <td>1</td>\n",
       "      <td>Pain relief was minimal. I had almost all the ...</td>\n",
       "      <td>75 or over Male  on Treatment for less than 1...</td>\n",
       "      <td>Male</td>\n",
       "    </tr>\n",
       "    <tr>\n",
       "      <th>11</th>\n",
       "      <td>Reviewer: Karen | 45-54 on Treatment for 5 to ...</td>\n",
       "      <td>5</td>\n",
       "      <td>5</td>\n",
       "      <td>5</td>\n",
       "      <td>I have been taking Tramadol for five years for...</td>\n",
       "      <td>Karen | 45-54 on Treatment for 5 to less than...</td>\n",
       "      <td>NA</td>\n",
       "    </tr>\n",
       "    <tr>\n",
       "      <th>12</th>\n",
       "      <td>Reviewer: TXBONNIEBELLE| 65-74 on Treatment fo...</td>\n",
       "      <td>1</td>\n",
       "      <td>1</td>\n",
       "      <td>1</td>\n",
       "      <td>I asked my doctor for pain relief that was str...</td>\n",
       "      <td>TXBONNIEBELLE| 65-74 on Treatment for less th...</td>\n",
       "      <td>NA</td>\n",
       "    </tr>\n",
       "    <tr>\n",
       "      <th>13</th>\n",
       "      <td>Reviewer: 55-64 Female  on Treatment for 2 to ...</td>\n",
       "      <td>5</td>\n",
       "      <td>5</td>\n",
       "      <td>5</td>\n",
       "      <td>I get the ones Mfg Virtus Pharmacey. It is ova...</td>\n",
       "      <td>55-64 Female  on Treatment for 2 to less than...</td>\n",
       "      <td>Female</td>\n",
       "    </tr>\n",
       "    <tr>\n",
       "      <th>14</th>\n",
       "      <td>Reviewer: MamaTato.Org| 25-34 on Treatment for...</td>\n",
       "      <td>5</td>\n",
       "      <td>5</td>\n",
       "      <td>5</td>\n",
       "      <td>In general| the medicine is not bad| it pains ...</td>\n",
       "      <td>MamaTato.Org| 25-34 on Treatment for less tha...</td>\n",
       "      <td>NA</td>\n",
       "    </tr>\n",
       "    <tr>\n",
       "      <th>15</th>\n",
       "      <td>Reviewer: Allison | 55-64 on Treatment for 5 t...</td>\n",
       "      <td>4</td>\n",
       "      <td>4</td>\n",
       "      <td>4</td>\n",
       "      <td>I have been diagnosed with so many issues. Iâ?...</td>\n",
       "      <td>Allison | 55-64 on Treatment for 5 to less th...</td>\n",
       "      <td>NA</td>\n",
       "    </tr>\n",
       "    <tr>\n",
       "      <th>16</th>\n",
       "      <td>Reviewer: Suffering| 45-54 Female  (Patient)</td>\n",
       "      <td>1</td>\n",
       "      <td>3</td>\n",
       "      <td>1</td>\n",
       "      <td>Thanks to Govt im in pain everyday this is lik...</td>\n",
       "      <td>Suffering| 45-54 Female  (Patient)</td>\n",
       "      <td>Female</td>\n",
       "    </tr>\n",
       "    <tr>\n",
       "      <th>17</th>\n",
       "      <td>Reviewer: Ketsie|  Female  on Treatment for 1 ...</td>\n",
       "      <td>5</td>\n",
       "      <td>5</td>\n",
       "      <td>5</td>\n",
       "      <td>Took severe pain away. Hand and neck arthritis...</td>\n",
       "      <td>Ketsie|  Female  on Treatment for 1 to less t...</td>\n",
       "      <td>Female</td>\n",
       "    </tr>\n",
       "    <tr>\n",
       "      <th>18</th>\n",
       "      <td>Reviewer: Ejb1951| 65-74 Female  on Treatment ...</td>\n",
       "      <td>2</td>\n",
       "      <td>1</td>\n",
       "      <td>1</td>\n",
       "      <td>It helped for a couple days than my mouth &amp; to...</td>\n",
       "      <td>Ejb1951| 65-74 Female  on Treatment for less ...</td>\n",
       "      <td>Female</td>\n",
       "    </tr>\n",
       "    <tr>\n",
       "      <th>19</th>\n",
       "      <td>Reviewer: Ann | 65-74 on Treatment for less th...</td>\n",
       "      <td>1</td>\n",
       "      <td>1</td>\n",
       "      <td>1</td>\n",
       "      <td>If you are sensitive and easily have allergic ...</td>\n",
       "      <td>Ann | 65-74 on Treatment for less than 1 mont...</td>\n",
       "      <td>NA</td>\n",
       "    </tr>\n",
       "    <tr>\n",
       "      <th>20</th>\n",
       "      <td>Reviewer: plantGranny| 45-54 Female  on Treatm...</td>\n",
       "      <td>1</td>\n",
       "      <td>3</td>\n",
       "      <td>1</td>\n",
       "      <td>Does not have any effect whatsoever on my pain...</td>\n",
       "      <td>plantGranny| 45-54 Female  on Treatment for 6...</td>\n",
       "      <td>Female</td>\n",
       "    </tr>\n",
       "    <tr>\n",
       "      <th>21</th>\n",
       "      <td>Reviewer: maf166windstream.net| 65-74 Male  on...</td>\n",
       "      <td>5</td>\n",
       "      <td>5</td>\n",
       "      <td>5</td>\n",
       "      <td>I have ankylosing spondylitis and 8 to 10 grad...</td>\n",
       "      <td>maf166windstream.net| 65-74 Male  on Treatmen...</td>\n",
       "      <td>Male</td>\n",
       "    </tr>\n",
       "    <tr>\n",
       "      <th>22</th>\n",
       "      <td>Reviewer: 55-64 Female  on Treatment for less ...</td>\n",
       "      <td>1</td>\n",
       "      <td>5</td>\n",
       "      <td>1</td>\n",
       "      <td>This does not work for me at all.  Ibuprofen i...</td>\n",
       "      <td>55-64 Female  on Treatment for less than 1 mo...</td>\n",
       "      <td>Female</td>\n",
       "    </tr>\n",
       "    <tr>\n",
       "      <th>23</th>\n",
       "      <td>Reviewer: steven| 55-64 Male  on Treatment for...</td>\n",
       "      <td>5</td>\n",
       "      <td>5</td>\n",
       "      <td>5</td>\n",
       "      <td>Been suffering Generalized Anxiety Disorder fo...</td>\n",
       "      <td>steven| 55-64 Male  on Treatment for 1 to 6 m...</td>\n",
       "      <td>Male</td>\n",
       "    </tr>\n",
       "    <tr>\n",
       "      <th>24</th>\n",
       "      <td>Reviewer: fdtopp3| 65-74 Male  on Treatment fo...</td>\n",
       "      <td>5</td>\n",
       "      <td>5</td>\n",
       "      <td>5</td>\n",
       "      <td>Sciatic pain in right leg that without Tramado...</td>\n",
       "      <td>fdtopp3| 65-74 Male  on Treatment for 1 to le...</td>\n",
       "      <td>Male</td>\n",
       "    </tr>\n",
       "    <tr>\n",
       "      <th>25</th>\n",
       "      <td>Reviewer: Tramadol| 55-64 Female  on Treatment...</td>\n",
       "      <td>5</td>\n",
       "      <td>1</td>\n",
       "      <td>1</td>\n",
       "      <td>I have to take this when I get back spasms| bu...</td>\n",
       "      <td>Tramadol| 55-64 Female  on Treatment for 2 to...</td>\n",
       "      <td>Female</td>\n",
       "    </tr>\n",
       "    <tr>\n",
       "      <th>26</th>\n",
       "      <td>Reviewer: Ban Tramadol| 45-54 on Treatment for...</td>\n",
       "      <td>1</td>\n",
       "      <td>1</td>\n",
       "      <td>1</td>\n",
       "      <td>DO NOT USE THIS DANGEROUS MEDICINE!! I can't b...</td>\n",
       "      <td>Ban Tramadol| 45-54 on Treatment for 1 to 6 m...</td>\n",
       "      <td>NA</td>\n",
       "    </tr>\n",
       "    <tr>\n",
       "      <th>27</th>\n",
       "      <td>Reviewer: lee| 65-74 Male  on Treatment for 1 ...</td>\n",
       "      <td>5</td>\n",
       "      <td>5</td>\n",
       "      <td>5</td>\n",
       "      <td>I have pain in my intestines caused by side ef...</td>\n",
       "      <td>lee| 65-74 Male  on Treatment for 1 to 6 mont...</td>\n",
       "      <td>Male</td>\n",
       "    </tr>\n",
       "    <tr>\n",
       "      <th>28</th>\n",
       "      <td>Reviewer: hillbillygirl| 45-54 Female  on Trea...</td>\n",
       "      <td>5</td>\n",
       "      <td>5</td>\n",
       "      <td>5</td>\n",
       "      <td>ad the worst UTI in my life. Er gave me this i...</td>\n",
       "      <td>hillbillygirl| 45-54 Female  on Treatment for...</td>\n",
       "      <td>Female</td>\n",
       "    </tr>\n",
       "    <tr>\n",
       "      <th>29</th>\n",
       "      <td>Reviewer: BASinc| 75 or over Female  on Treatm...</td>\n",
       "      <td>5</td>\n",
       "      <td>5</td>\n",
       "      <td>5</td>\n",
       "      <td>Spondylolisthesis with stenosis. Arthritis in ...</td>\n",
       "      <td>BASinc| 75 or over Female  on Treatment for 2...</td>\n",
       "      <td>Female</td>\n",
       "    </tr>\n",
       "    <tr>\n",
       "      <th>30</th>\n",
       "      <td>Reviewer: 25-34 Female  on Treatment for less ...</td>\n",
       "      <td>1</td>\n",
       "      <td>3</td>\n",
       "      <td>1</td>\n",
       "      <td>Does not ease my pain and causes my stomach to...</td>\n",
       "      <td>25-34 Female  on Treatment for less than 1 mo...</td>\n",
       "      <td>Female</td>\n",
       "    </tr>\n",
       "    <tr>\n",
       "      <th>31</th>\n",
       "      <td>Reviewer:  Tom|1949| 65-74 on Treatment for 10...</td>\n",
       "      <td>5</td>\n",
       "      <td>5</td>\n",
       "      <td>5</td>\n",
       "      <td>I've used codeine sulfate for chronic pain. Fo...</td>\n",
       "      <td>Tom|1949| 65-74 on Treatment for 10 years or...</td>\n",
       "      <td>NA</td>\n",
       "    </tr>\n",
       "    <tr>\n",
       "      <th>32</th>\n",
       "      <td>Reviewer: Quando62| 55-64 Male  on Treatment f...</td>\n",
       "      <td>5</td>\n",
       "      <td>5</td>\n",
       "      <td>5</td>\n",
       "      <td>I was given Tramadol for a toothache. Not grea...</td>\n",
       "      <td>Quando62| 55-64 Male  on Treatment for 5 to l...</td>\n",
       "      <td>Male</td>\n",
       "    </tr>\n",
       "    <tr>\n",
       "      <th>33</th>\n",
       "      <td>Reviewer: Unsatisfied| 55-64 Male  on Treatmen...</td>\n",
       "      <td>1</td>\n",
       "      <td>5</td>\n",
       "      <td>1</td>\n",
       "      <td>This drug actually caused pain in my right abd...</td>\n",
       "      <td>Unsatisfied| 55-64 Male  on Treatment for les...</td>\n",
       "      <td>Male</td>\n",
       "    </tr>\n",
       "    <tr>\n",
       "      <th>34</th>\n",
       "      <td>Reviewer: patientX| 55-64 Male  on Treatment f...</td>\n",
       "      <td>1</td>\n",
       "      <td>5</td>\n",
       "      <td>1</td>\n",
       "      <td>Does nothing to relieve the pain for my condit...</td>\n",
       "      <td>patientX| 55-64 Male  on Treatment for less t...</td>\n",
       "      <td>Male</td>\n",
       "    </tr>\n",
       "    <tr>\n",
       "      <th>35</th>\n",
       "      <td>Reviewer: ShoulderSurgery| 55-64 Female  on Tr...</td>\n",
       "      <td>3</td>\n",
       "      <td>3</td>\n",
       "      <td>3</td>\n",
       "      <td>Used after shoulder surgery. Allergic to codei...</td>\n",
       "      <td>ShoulderSurgery| 55-64 Female  on Treatment f...</td>\n",
       "      <td>Female</td>\n",
       "    </tr>\n",
       "    <tr>\n",
       "      <th>36</th>\n",
       "      <td>Reviewer: Chronic pain| 35-44 Female  on Treat...</td>\n",
       "      <td>1</td>\n",
       "      <td>2</td>\n",
       "      <td>1</td>\n",
       "      <td>Diagnosis is spinal Stenosis and this did it d...</td>\n",
       "      <td>Chronic pain| 35-44 Female  on Treatment for ...</td>\n",
       "      <td>Female</td>\n",
       "    </tr>\n",
       "    <tr>\n",
       "      <th>37</th>\n",
       "      <td>Reviewer: bobo|  Male  on Treatment for 1 to 6...</td>\n",
       "      <td>2</td>\n",
       "      <td>5</td>\n",
       "      <td>1</td>\n",
       "      <td>very mild pain relief.</td>\n",
       "      <td>bobo|  Male  on Treatment for 1 to 6 months (...</td>\n",
       "      <td>Male</td>\n",
       "    </tr>\n",
       "    <tr>\n",
       "      <th>38</th>\n",
       "      <td>Reviewer: lubica| 55-64 Female  on Treatment f...</td>\n",
       "      <td>1</td>\n",
       "      <td>1</td>\n",
       "      <td>1</td>\n",
       "      <td></td>\n",
       "      <td>lubica| 55-64 Female  on Treatment for 2 to l...</td>\n",
       "      <td>Female</td>\n",
       "    </tr>\n",
       "    <tr>\n",
       "      <th>39</th>\n",
       "      <td>Reviewer: Jan| 55-64 on Treatment for 1 to les...</td>\n",
       "      <td>5</td>\n",
       "      <td>5</td>\n",
       "      <td>5</td>\n",
       "      <td>After my injury in 2015| I tried multiple pain...</td>\n",
       "      <td>Jan| 55-64 on Treatment for 1 to less than 2 ...</td>\n",
       "      <td>NA</td>\n",
       "    </tr>\n",
       "    <tr>\n",
       "      <th>40</th>\n",
       "      <td>Reviewer: Mytiggertiger| 45-54 Female  on Trea...</td>\n",
       "      <td>3</td>\n",
       "      <td>5</td>\n",
       "      <td>4</td>\n",
       "      <td>r years ago I injured my hamstring and pretty ...</td>\n",
       "      <td>Mytiggertiger| 45-54 Female  on Treatment for...</td>\n",
       "      <td>Female</td>\n",
       "    </tr>\n",
       "    <tr>\n",
       "      <th>41</th>\n",
       "      <td>Reviewer: Christy| 45-54 Female  on Treatment ...</td>\n",
       "      <td>5</td>\n",
       "      <td>5</td>\n",
       "      <td>5</td>\n",
       "      <td>I have been newly diagnosed with arthritis in ...</td>\n",
       "      <td>Christy| 45-54 Female  on Treatment for less ...</td>\n",
       "      <td>Female</td>\n",
       "    </tr>\n",
       "    <tr>\n",
       "      <th>42</th>\n",
       "      <td>Reviewer: Mytiggertiger| 45-54 Female  on Trea...</td>\n",
       "      <td>4</td>\n",
       "      <td>5</td>\n",
       "      <td>5</td>\n",
       "      <td>r years ago I injured my hamstring and pretty ...</td>\n",
       "      <td>Mytiggertiger| 45-54 Female  on Treatment for...</td>\n",
       "      <td>Female</td>\n",
       "    </tr>\n",
       "    <tr>\n",
       "      <th>43</th>\n",
       "      <td>Reviewer: 55-64 Female  on Treatment for 1 to ...</td>\n",
       "      <td>3</td>\n",
       "      <td>1</td>\n",
       "      <td>1</td>\n",
       "      <td></td>\n",
       "      <td>55-64 Female  on Treatment for 1 to 6 months ...</td>\n",
       "      <td>Female</td>\n",
       "    </tr>\n",
       "    <tr>\n",
       "      <th>44</th>\n",
       "      <td>Reviewer: reglptrt| 55-64 Male  on Treatment f...</td>\n",
       "      <td>2</td>\n",
       "      <td>5</td>\n",
       "      <td>2</td>\n",
       "      <td>Sadly| did not alleviate my pain.</td>\n",
       "      <td>reglptrt| 55-64 Male  on Treatment for less t...</td>\n",
       "      <td>Male</td>\n",
       "    </tr>\n",
       "    <tr>\n",
       "      <th>45</th>\n",
       "      <td>Reviewer: ccoburn| 45-54 Female  on Treatment ...</td>\n",
       "      <td>1</td>\n",
       "      <td>5</td>\n",
       "      <td>1</td>\n",
       "      <td>Did not help my pain very much but did make my...</td>\n",
       "      <td>ccoburn| 45-54 Female  on Treatment for less ...</td>\n",
       "      <td>Female</td>\n",
       "    </tr>\n",
       "    <tr>\n",
       "      <th>46</th>\n",
       "      <td>Reviewer: 65-74 Male  (Patient)</td>\n",
       "      <td>3</td>\n",
       "      <td>4</td>\n",
       "      <td>3</td>\n",
       "      <td></td>\n",
       "      <td>65-74 Male  (Patient)</td>\n",
       "      <td>Male</td>\n",
       "    </tr>\n",
       "    <tr>\n",
       "      <th>47</th>\n",
       "      <td>Reviewer: roguemodel| 55-64 on Treatment for 5...</td>\n",
       "      <td>5</td>\n",
       "      <td>5</td>\n",
       "      <td>5</td>\n",
       "      <td>Every inividual is different in how they respo...</td>\n",
       "      <td>roguemodel| 55-64 on Treatment for 5 to less ...</td>\n",
       "      <td>NA</td>\n",
       "    </tr>\n",
       "    <tr>\n",
       "      <th>48</th>\n",
       "      <td>Reviewer: 25-34 Male  on Treatment for 2 to le...</td>\n",
       "      <td>1</td>\n",
       "      <td>1</td>\n",
       "      <td>1</td>\n",
       "      <td>Been taking for 4 years for ruptured disc and ...</td>\n",
       "      <td>25-34 Male  on Treatment for 2 to less than 5...</td>\n",
       "      <td>Male</td>\n",
       "    </tr>\n",
       "    <tr>\n",
       "      <th>49</th>\n",
       "      <td>Reviewer: 65-74 Female  on Treatment for less ...</td>\n",
       "      <td>3</td>\n",
       "      <td>4</td>\n",
       "      <td>2</td>\n",
       "      <td></td>\n",
       "      <td>65-74 Female  on Treatment for less than 1 mo...</td>\n",
       "      <td>Female</td>\n",
       "    </tr>\n",
       "  </tbody>\n",
       "</table>\n",
       "</div>"
      ],
      "text/plain": [
       "                                     Reviewer_Details   Effectiveness_Rating  \\\n",
       "0   Reviewer: Newbie | 35-44 on Treatment for 1 to...                      2   \n",
       "1   Reviewer: 45-54 on Treatment for less than 1 m...                      1   \n",
       "2   Reviewer: Ocetech| 65-74 Male  on Treatment fo...                      1   \n",
       "3   Reviewer: virleo| 55-64 Female  on Treatment f...                      1   \n",
       "4   Reviewer: Diane perrin| 65-74 on Treatment for...                      5   \n",
       "5   Reviewer: Mtdwnurse1| 45-54 Female  on Treatme...                      4   \n",
       "6   Reviewer: meposide|  Male  on Treatment for 5 ...                      1   \n",
       "7   Reviewer: FBigPharma| 35-44 on Treatment for 1...                      2   \n",
       "8   Reviewer: Foots55| 65-74 Female  on Treatment ...                      3   \n",
       "9   Reviewer: GoneRacin24| 65-74 Female  on Treatm...                      1   \n",
       "10  Reviewer: 75 or over Male  on Treatment for le...                      2   \n",
       "11  Reviewer: Karen | 45-54 on Treatment for 5 to ...                      5   \n",
       "12  Reviewer: TXBONNIEBELLE| 65-74 on Treatment fo...                      1   \n",
       "13  Reviewer: 55-64 Female  on Treatment for 2 to ...                      5   \n",
       "14  Reviewer: MamaTato.Org| 25-34 on Treatment for...                      5   \n",
       "15  Reviewer: Allison | 55-64 on Treatment for 5 t...                      4   \n",
       "16      Reviewer: Suffering| 45-54 Female  (Patient)                       1   \n",
       "17  Reviewer: Ketsie|  Female  on Treatment for 1 ...                      5   \n",
       "18  Reviewer: Ejb1951| 65-74 Female  on Treatment ...                      2   \n",
       "19  Reviewer: Ann | 65-74 on Treatment for less th...                      1   \n",
       "20  Reviewer: plantGranny| 45-54 Female  on Treatm...                      1   \n",
       "21  Reviewer: maf166windstream.net| 65-74 Male  on...                      5   \n",
       "22  Reviewer: 55-64 Female  on Treatment for less ...                      1   \n",
       "23  Reviewer: steven| 55-64 Male  on Treatment for...                      5   \n",
       "24  Reviewer: fdtopp3| 65-74 Male  on Treatment fo...                      5   \n",
       "25  Reviewer: Tramadol| 55-64 Female  on Treatment...                      5   \n",
       "26  Reviewer: Ban Tramadol| 45-54 on Treatment for...                      1   \n",
       "27  Reviewer: lee| 65-74 Male  on Treatment for 1 ...                      5   \n",
       "28  Reviewer: hillbillygirl| 45-54 Female  on Trea...                      5   \n",
       "29  Reviewer: BASinc| 75 or over Female  on Treatm...                      5   \n",
       "30  Reviewer: 25-34 Female  on Treatment for less ...                      1   \n",
       "31  Reviewer:  Tom|1949| 65-74 on Treatment for 10...                      5   \n",
       "32  Reviewer: Quando62| 55-64 Male  on Treatment f...                      5   \n",
       "33  Reviewer: Unsatisfied| 55-64 Male  on Treatmen...                      1   \n",
       "34  Reviewer: patientX| 55-64 Male  on Treatment f...                      1   \n",
       "35  Reviewer: ShoulderSurgery| 55-64 Female  on Tr...                      3   \n",
       "36  Reviewer: Chronic pain| 35-44 Female  on Treat...                      1   \n",
       "37  Reviewer: bobo|  Male  on Treatment for 1 to 6...                      2   \n",
       "38  Reviewer: lubica| 55-64 Female  on Treatment f...                      1   \n",
       "39  Reviewer: Jan| 55-64 on Treatment for 1 to les...                      5   \n",
       "40  Reviewer: Mytiggertiger| 45-54 Female  on Trea...                      3   \n",
       "41  Reviewer: Christy| 45-54 Female  on Treatment ...                      5   \n",
       "42  Reviewer: Mytiggertiger| 45-54 Female  on Trea...                      4   \n",
       "43  Reviewer: 55-64 Female  on Treatment for 1 to ...                      3   \n",
       "44  Reviewer: reglptrt| 55-64 Male  on Treatment f...                      2   \n",
       "45  Reviewer: ccoburn| 45-54 Female  on Treatment ...                      1   \n",
       "46                   Reviewer: 65-74 Male  (Patient)                       3   \n",
       "47  Reviewer: roguemodel| 55-64 on Treatment for 5...                      5   \n",
       "48  Reviewer: 25-34 Male  on Treatment for 2 to le...                      1   \n",
       "49  Reviewer: 65-74 Female  on Treatment for less ...                      3   \n",
       "\n",
       "     Ease_of_Use_Rating  Satisfaction_Rating  \\\n",
       "0                     2                    1   \n",
       "1                     5                    1   \n",
       "2                     4                    2   \n",
       "3                     1                    1   \n",
       "4                     5                    5   \n",
       "5                     4                    4   \n",
       "6                     3                    2   \n",
       "7                     2                    1   \n",
       "8                     2                    2   \n",
       "9                     5                    1   \n",
       "10                    5                    1   \n",
       "11                    5                    5   \n",
       "12                    1                    1   \n",
       "13                    5                    5   \n",
       "14                    5                    5   \n",
       "15                    4                    4   \n",
       "16                    3                    1   \n",
       "17                    5                    5   \n",
       "18                    1                    1   \n",
       "19                    1                    1   \n",
       "20                    3                    1   \n",
       "21                    5                    5   \n",
       "22                    5                    1   \n",
       "23                    5                    5   \n",
       "24                    5                    5   \n",
       "25                    1                    1   \n",
       "26                    1                    1   \n",
       "27                    5                    5   \n",
       "28                    5                    5   \n",
       "29                    5                    5   \n",
       "30                    3                    1   \n",
       "31                    5                    5   \n",
       "32                    5                    5   \n",
       "33                    5                    1   \n",
       "34                    5                    1   \n",
       "35                    3                    3   \n",
       "36                    2                    1   \n",
       "37                    5                    1   \n",
       "38                    1                    1   \n",
       "39                    5                    5   \n",
       "40                    5                    4   \n",
       "41                    5                    5   \n",
       "42                    5                    5   \n",
       "43                    1                    1   \n",
       "44                    5                    2   \n",
       "45                    5                    1   \n",
       "46                    4                    3   \n",
       "47                    5                    5   \n",
       "48                    1                    1   \n",
       "49                    4                    2   \n",
       "\n",
       "                                              Comment  \\\n",
       "0               Didnâ??t rich the neevevosin ! Wastef   \n",
       "1   I was prescribed this for the nerve pain that ...   \n",
       "2   Tramadol does help a bit with the ghost pain i...   \n",
       "3   A few years ago a doctor at an urgent care cli...   \n",
       "4   I couldn't be happier with this medication. I ...   \n",
       "5   After my neck fusion to my cervical C5|6|7| bo...   \n",
       "6                                                       \n",
       "7   Try being perscribed 120 20MG OxyCodone a mont...   \n",
       "8      It’s been ok but had others that worked better   \n",
       "9   Severe neuropathic pain in left leg into my to...   \n",
       "10  Pain relief was minimal. I had almost all the ...   \n",
       "11  I have been taking Tramadol for five years for...   \n",
       "12  I asked my doctor for pain relief that was str...   \n",
       "13  I get the ones Mfg Virtus Pharmacey. It is ova...   \n",
       "14  In general| the medicine is not bad| it pains ...   \n",
       "15  I have been diagnosed with so many issues. Iâ?...   \n",
       "16  Thanks to Govt im in pain everyday this is lik...   \n",
       "17  Took severe pain away. Hand and neck arthritis...   \n",
       "18  It helped for a couple days than my mouth & to...   \n",
       "19  If you are sensitive and easily have allergic ...   \n",
       "20  Does not have any effect whatsoever on my pain...   \n",
       "21  I have ankylosing spondylitis and 8 to 10 grad...   \n",
       "22  This does not work for me at all.  Ibuprofen i...   \n",
       "23  Been suffering Generalized Anxiety Disorder fo...   \n",
       "24  Sciatic pain in right leg that without Tramado...   \n",
       "25  I have to take this when I get back spasms| bu...   \n",
       "26  DO NOT USE THIS DANGEROUS MEDICINE!! I can't b...   \n",
       "27  I have pain in my intestines caused by side ef...   \n",
       "28  ad the worst UTI in my life. Er gave me this i...   \n",
       "29  Spondylolisthesis with stenosis. Arthritis in ...   \n",
       "30  Does not ease my pain and causes my stomach to...   \n",
       "31  I've used codeine sulfate for chronic pain. Fo...   \n",
       "32  I was given Tramadol for a toothache. Not grea...   \n",
       "33  This drug actually caused pain in my right abd...   \n",
       "34  Does nothing to relieve the pain for my condit...   \n",
       "35  Used after shoulder surgery. Allergic to codei...   \n",
       "36  Diagnosis is spinal Stenosis and this did it d...   \n",
       "37                             very mild pain relief.   \n",
       "38                                                      \n",
       "39  After my injury in 2015| I tried multiple pain...   \n",
       "40  r years ago I injured my hamstring and pretty ...   \n",
       "41  I have been newly diagnosed with arthritis in ...   \n",
       "42  r years ago I injured my hamstring and pretty ...   \n",
       "43                                                      \n",
       "44                  Sadly| did not alleviate my pain.   \n",
       "45  Did not help my pain very much but did make my...   \n",
       "46                                                      \n",
       "47  Every inividual is different in how they respo...   \n",
       "48  Been taking for 4 years for ruptured disc and ...   \n",
       "49                                                      \n",
       "\n",
       "                                     Reviewer Details  Gender  \n",
       "0    Newbie | 35-44 on Treatment for 1 to 6 months...      NA  \n",
       "1    45-54 on Treatment for less than 1 month (Pat...      NA  \n",
       "2    Ocetech| 65-74 Male  on Treatment for 10 year...    Male  \n",
       "3    virleo| 55-64 Female  on Treatment for less t...  Female  \n",
       "4    Diane perrin| 65-74 on Treatment for 2 to les...      NA  \n",
       "5    Mtdwnurse1| 45-54 Female  on Treatment for 6 ...  Female  \n",
       "6    meposide|  Male  on Treatment for 5 to less t...    Male  \n",
       "7    FBigPharma| 35-44 on Treatment for 1 to 6 mon...      NA  \n",
       "8    Foots55| 65-74 Female  on Treatment for 1 to ...  Female  \n",
       "9    GoneRacin24| 65-74 Female  on Treatment for 1...  Female  \n",
       "10   75 or over Male  on Treatment for less than 1...    Male  \n",
       "11   Karen | 45-54 on Treatment for 5 to less than...      NA  \n",
       "12   TXBONNIEBELLE| 65-74 on Treatment for less th...      NA  \n",
       "13   55-64 Female  on Treatment for 2 to less than...  Female  \n",
       "14   MamaTato.Org| 25-34 on Treatment for less tha...      NA  \n",
       "15   Allison | 55-64 on Treatment for 5 to less th...      NA  \n",
       "16                Suffering| 45-54 Female  (Patient)   Female  \n",
       "17   Ketsie|  Female  on Treatment for 1 to less t...  Female  \n",
       "18   Ejb1951| 65-74 Female  on Treatment for less ...  Female  \n",
       "19   Ann | 65-74 on Treatment for less than 1 mont...      NA  \n",
       "20   plantGranny| 45-54 Female  on Treatment for 6...  Female  \n",
       "21   maf166windstream.net| 65-74 Male  on Treatmen...    Male  \n",
       "22   55-64 Female  on Treatment for less than 1 mo...  Female  \n",
       "23   steven| 55-64 Male  on Treatment for 1 to 6 m...    Male  \n",
       "24   fdtopp3| 65-74 Male  on Treatment for 1 to le...    Male  \n",
       "25   Tramadol| 55-64 Female  on Treatment for 2 to...  Female  \n",
       "26   Ban Tramadol| 45-54 on Treatment for 1 to 6 m...      NA  \n",
       "27   lee| 65-74 Male  on Treatment for 1 to 6 mont...    Male  \n",
       "28   hillbillygirl| 45-54 Female  on Treatment for...  Female  \n",
       "29   BASinc| 75 or over Female  on Treatment for 2...  Female  \n",
       "30   25-34 Female  on Treatment for less than 1 mo...  Female  \n",
       "31    Tom|1949| 65-74 on Treatment for 10 years or...      NA  \n",
       "32   Quando62| 55-64 Male  on Treatment for 5 to l...    Male  \n",
       "33   Unsatisfied| 55-64 Male  on Treatment for les...    Male  \n",
       "34   patientX| 55-64 Male  on Treatment for less t...    Male  \n",
       "35   ShoulderSurgery| 55-64 Female  on Treatment f...  Female  \n",
       "36   Chronic pain| 35-44 Female  on Treatment for ...  Female  \n",
       "37   bobo|  Male  on Treatment for 1 to 6 months (...    Male  \n",
       "38   lubica| 55-64 Female  on Treatment for 2 to l...  Female  \n",
       "39   Jan| 55-64 on Treatment for 1 to less than 2 ...      NA  \n",
       "40   Mytiggertiger| 45-54 Female  on Treatment for...  Female  \n",
       "41   Christy| 45-54 Female  on Treatment for less ...  Female  \n",
       "42   Mytiggertiger| 45-54 Female  on Treatment for...  Female  \n",
       "43   55-64 Female  on Treatment for 1 to 6 months ...  Female  \n",
       "44   reglptrt| 55-64 Male  on Treatment for less t...    Male  \n",
       "45   ccoburn| 45-54 Female  on Treatment for less ...  Female  \n",
       "46                             65-74 Male  (Patient)     Male  \n",
       "47   roguemodel| 55-64 on Treatment for 5 to less ...      NA  \n",
       "48   25-34 Male  on Treatment for 2 to less than 5...    Male  \n",
       "49   65-74 Female  on Treatment for less than 1 mo...  Female  "
      ]
     },
     "execution_count": 46,
     "metadata": {},
     "output_type": "execute_result"
    }
   ],
   "source": [
    "dataf"
   ]
  },
  {
   "cell_type": "code",
   "execution_count": 48,
   "metadata": {},
   "outputs": [],
   "source": [
    "dataf.to_csv(r'C:/Users/admin/Downloads/sample.csv')      #Writting to a csv file to get a sample file"
   ]
  },
  {
   "cell_type": "markdown",
   "metadata": {},
   "source": [
    "### 8. EDA\n",
    "EDA was just started recently since it took a lot of time to clean data. We still are working on getting more stuctured and clean data to get accurate analysis in our EDA. "
   ]
  },
  {
   "cell_type": "code",
   "execution_count": 49,
   "metadata": {},
   "outputs": [
    {
     "name": "stdout",
     "output_type": "stream",
     "text": [
      "<class 'pandas.core.frame.DataFrame'>\n",
      "RangeIndex: 50 entries, 0 to 49\n",
      "Data columns (total 7 columns):\n",
      "Reviewer_Details         50 non-null object\n",
      " Effectiveness_Rating    50 non-null int64\n",
      " Ease_of_Use_Rating      50 non-null int64\n",
      "Satisfaction_Rating      50 non-null int64\n",
      "Comment                  50 non-null object\n",
      "Reviewer Details         50 non-null object\n",
      "Gender                   50 non-null object\n",
      "dtypes: int64(3), object(4)\n",
      "memory usage: 2.8+ KB\n"
     ]
    }
   ],
   "source": [
    "dataf.info()"
   ]
  },
  {
   "cell_type": "code",
   "execution_count": 50,
   "metadata": {},
   "outputs": [],
   "source": [
    "#t=dataf.plot(kind='line',x='Gender',y=' Effectiveness Rating',color='blue')"
   ]
  },
  {
   "cell_type": "code",
   "execution_count": 51,
   "metadata": {},
   "outputs": [],
   "source": [
    "def count_token(text):                     #Working on Tokenization....(incomplete at the moment)\n",
    "    #Spliting in tokens\n",
    "    \n",
    "    spl=(text.split(\" \"))\n",
    "    \n",
    "    #Converting to lower case\n",
    "    lowc=(text.lower())\n",
    "    \n",
    "    #Creating array to store list\n",
    "    arr = []\n",
    "    \n",
    "    #Creating a dictionary\n",
    "    dic=dict()\n",
    "    \n",
    "    for x in spl: #Removing white spaces and converting to lower case\n",
    "        x.strip()\n",
    "        x=x.replace('\\n','')\n",
    "        if len(x) != 0:\n",
    "            arr.append(x.lower())\n",
    "            \n",
    "    for d in arr:\n",
    "        if d in dic:\n",
    "            dic[d] = dic[d]+1\n",
    "        else:\n",
    "            dic[d]=1  \n",
    "    return dic"
   ]
  },
  {
   "cell_type": "code",
   "execution_count": 52,
   "metadata": {},
   "outputs": [],
   "source": [
    "#EDA Rohan Waghere\n",
    "\n",
    "import numpy as np\n",
    "import pandas as pd"
   ]
  },
  {
   "cell_type": "code",
   "execution_count": 54,
   "metadata": {},
   "outputs": [
    {
     "data": {
      "text/html": [
       "<div>\n",
       "<style scoped>\n",
       "    .dataframe tbody tr th:only-of-type {\n",
       "        vertical-align: middle;\n",
       "    }\n",
       "\n",
       "    .dataframe tbody tr th {\n",
       "        vertical-align: top;\n",
       "    }\n",
       "\n",
       "    .dataframe thead th {\n",
       "        text-align: right;\n",
       "    }\n",
       "</style>\n",
       "<table border=\"1\" class=\"dataframe\">\n",
       "  <thead>\n",
       "    <tr style=\"text-align: right;\">\n",
       "      <th></th>\n",
       "      <th>Unnamed: 0</th>\n",
       "      <th>Reviewer_Details</th>\n",
       "      <th>Effectiveness_Rating</th>\n",
       "      <th>Ease_of_Use_Rating</th>\n",
       "      <th>Satisfaction_Rating</th>\n",
       "      <th>Comment</th>\n",
       "      <th>Gender</th>\n",
       "    </tr>\n",
       "  </thead>\n",
       "  <tbody>\n",
       "    <tr>\n",
       "      <th>0</th>\n",
       "      <td>0</td>\n",
       "      <td>Newbie | 35-44 on Treatment for 1 to 6 months...</td>\n",
       "      <td>2</td>\n",
       "      <td>2</td>\n",
       "      <td>1</td>\n",
       "      <td>Didnâ??t rich the neevevosin ! Wastef</td>\n",
       "      <td>NaN</td>\n",
       "    </tr>\n",
       "    <tr>\n",
       "      <th>1</th>\n",
       "      <td>1</td>\n",
       "      <td>45-54 on Treatment for less than 1 month (Pat...</td>\n",
       "      <td>1</td>\n",
       "      <td>5</td>\n",
       "      <td>1</td>\n",
       "      <td>I was prescribed this for the nerve pain that ...</td>\n",
       "      <td>NaN</td>\n",
       "    </tr>\n",
       "    <tr>\n",
       "      <th>2</th>\n",
       "      <td>2</td>\n",
       "      <td>Ocetech| 65-74 Male  on Treatment for 10 year...</td>\n",
       "      <td>1</td>\n",
       "      <td>4</td>\n",
       "      <td>2</td>\n",
       "      <td>Tramadol does help a bit with the ghost pain i...</td>\n",
       "      <td>Male</td>\n",
       "    </tr>\n",
       "    <tr>\n",
       "      <th>3</th>\n",
       "      <td>3</td>\n",
       "      <td>virleo| 55-64 Female  on Treatment for less t...</td>\n",
       "      <td>1</td>\n",
       "      <td>1</td>\n",
       "      <td>1</td>\n",
       "      <td>A few years ago a doctor at an urgent care cli...</td>\n",
       "      <td>Female</td>\n",
       "    </tr>\n",
       "    <tr>\n",
       "      <th>4</th>\n",
       "      <td>4</td>\n",
       "      <td>Diane perrin| 65-74 on Treatment for 2 to les...</td>\n",
       "      <td>5</td>\n",
       "      <td>5</td>\n",
       "      <td>5</td>\n",
       "      <td>I couldn't be happier with this medication. I ...</td>\n",
       "      <td>NaN</td>\n",
       "    </tr>\n",
       "  </tbody>\n",
       "</table>\n",
       "</div>"
      ],
      "text/plain": [
       "   Unnamed: 0                                   Reviewer_Details  \\\n",
       "0           0   Newbie | 35-44 on Treatment for 1 to 6 months...   \n",
       "1           1   45-54 on Treatment for less than 1 month (Pat...   \n",
       "2           2   Ocetech| 65-74 Male  on Treatment for 10 year...   \n",
       "3           3   virleo| 55-64 Female  on Treatment for less t...   \n",
       "4           4   Diane perrin| 65-74 on Treatment for 2 to les...   \n",
       "\n",
       "    Effectiveness_Rating   Ease_of_Use_Rating   Satisfaction_Rating  \\\n",
       "0                      2                    2                     1   \n",
       "1                      1                    5                     1   \n",
       "2                      1                    4                     2   \n",
       "3                      1                    1                     1   \n",
       "4                      5                    5                     5   \n",
       "\n",
       "                                             Comment  Gender  \n",
       "0              Didnâ??t rich the neevevosin ! Wastef     NaN  \n",
       "1  I was prescribed this for the nerve pain that ...     NaN  \n",
       "2  Tramadol does help a bit with the ghost pain i...    Male  \n",
       "3  A few years ago a doctor at an urgent care cli...  Female  \n",
       "4  I couldn't be happier with this medication. I ...     NaN  "
      ]
     },
     "execution_count": 54,
     "metadata": {},
     "output_type": "execute_result"
    },
    {
     "name": "stdout",
     "output_type": "stream",
     "text": [
      "<class 'pandas.core.frame.DataFrame'>\n",
      "RangeIndex: 1000 entries, 0 to 999\n",
      "Data columns (total 7 columns):\n",
      "Unnamed: 0               1000 non-null int64\n",
      "Reviewer_Details         1000 non-null object\n",
      " Effectiveness_Rating    1000 non-null int64\n",
      " Ease_of_Use_Rating      1000 non-null int64\n",
      " Satisfaction_Rating     1000 non-null int64\n",
      " Comment                 853 non-null object\n",
      "Gender                   915 non-null object\n",
      "dtypes: int64(4), object(3)\n",
      "memory usage: 54.8+ KB\n"
     ]
    }
   ],
   "source": [
    "df = pd.read_csv(\"C:/Users/admin/Downloads/Project/Project/sample.csv\", header=0)\n",
    "df.head()\n",
    "df.info()  # get detailed information of each column"
   ]
  },
  {
   "cell_type": "code",
   "execution_count": 32,
   "metadata": {},
   "outputs": [
    {
     "data": {
      "text/html": [
       "<div>\n",
       "<style scoped>\n",
       "    .dataframe tbody tr th:only-of-type {\n",
       "        vertical-align: middle;\n",
       "    }\n",
       "\n",
       "    .dataframe tbody tr th {\n",
       "        vertical-align: top;\n",
       "    }\n",
       "\n",
       "    .dataframe thead th {\n",
       "        text-align: right;\n",
       "    }\n",
       "</style>\n",
       "<table border=\"1\" class=\"dataframe\">\n",
       "  <thead>\n",
       "    <tr style=\"text-align: right;\">\n",
       "      <th></th>\n",
       "      <th>Unnamed: 0</th>\n",
       "      <th>Reviewer_Details</th>\n",
       "      <th>Effectiveness_Rating</th>\n",
       "      <th>Ease_of_Use_Rating</th>\n",
       "      <th>Satisfaction_Rating</th>\n",
       "      <th>Comment</th>\n",
       "      <th>Gender</th>\n",
       "    </tr>\n",
       "  </thead>\n",
       "  <tbody>\n",
       "    <tr>\n",
       "      <th>0</th>\n",
       "      <td>0</td>\n",
       "      <td>Newbie | 35-44 on Treatment for 1 to 6 months...</td>\n",
       "      <td>2</td>\n",
       "      <td>2</td>\n",
       "      <td>1</td>\n",
       "      <td>Didnâ??t rich the neevevosin ! Wastef</td>\n",
       "      <td>NaN</td>\n",
       "    </tr>\n",
       "    <tr>\n",
       "      <th>1</th>\n",
       "      <td>1</td>\n",
       "      <td>45-54 on Treatment for less than 1 month (Pat...</td>\n",
       "      <td>1</td>\n",
       "      <td>5</td>\n",
       "      <td>1</td>\n",
       "      <td>I was prescribed this for the nerve pain that ...</td>\n",
       "      <td>NaN</td>\n",
       "    </tr>\n",
       "    <tr>\n",
       "      <th>4</th>\n",
       "      <td>4</td>\n",
       "      <td>Diane perrin| 65-74 on Treatment for 2 to les...</td>\n",
       "      <td>5</td>\n",
       "      <td>5</td>\n",
       "      <td>5</td>\n",
       "      <td>I couldn't be happier with this medication. I ...</td>\n",
       "      <td>NaN</td>\n",
       "    </tr>\n",
       "    <tr>\n",
       "      <th>6</th>\n",
       "      <td>6</td>\n",
       "      <td>meposide|  Male  on Treatment for 5 to less t...</td>\n",
       "      <td>1</td>\n",
       "      <td>3</td>\n",
       "      <td>2</td>\n",
       "      <td>NaN</td>\n",
       "      <td>Male</td>\n",
       "    </tr>\n",
       "    <tr>\n",
       "      <th>7</th>\n",
       "      <td>7</td>\n",
       "      <td>FBigPharma| 35-44 on Treatment for 1 to 6 mon...</td>\n",
       "      <td>2</td>\n",
       "      <td>2</td>\n",
       "      <td>1</td>\n",
       "      <td>Try being perscribed 120 20MG OxyCodone a mont...</td>\n",
       "      <td>NaN</td>\n",
       "    </tr>\n",
       "    <tr>\n",
       "      <th>11</th>\n",
       "      <td>11</td>\n",
       "      <td>Karen | 45-54 on Treatment for 5 to less than...</td>\n",
       "      <td>5</td>\n",
       "      <td>5</td>\n",
       "      <td>5</td>\n",
       "      <td>I have been taking Tramadol for five years for...</td>\n",
       "      <td>NaN</td>\n",
       "    </tr>\n",
       "    <tr>\n",
       "      <th>12</th>\n",
       "      <td>12</td>\n",
       "      <td>TXBONNIEBELLE| 65-74 on Treatment for less th...</td>\n",
       "      <td>1</td>\n",
       "      <td>1</td>\n",
       "      <td>1</td>\n",
       "      <td>I asked my doctor for pain relief that was str...</td>\n",
       "      <td>NaN</td>\n",
       "    </tr>\n",
       "    <tr>\n",
       "      <th>14</th>\n",
       "      <td>14</td>\n",
       "      <td>MamaTato.Org| 25-34 on Treatment for less tha...</td>\n",
       "      <td>5</td>\n",
       "      <td>5</td>\n",
       "      <td>5</td>\n",
       "      <td>In general| the medicine is not bad| it pains ...</td>\n",
       "      <td>NaN</td>\n",
       "    </tr>\n",
       "    <tr>\n",
       "      <th>15</th>\n",
       "      <td>15</td>\n",
       "      <td>Allison | 55-64 on Treatment for 5 to less th...</td>\n",
       "      <td>4</td>\n",
       "      <td>4</td>\n",
       "      <td>4</td>\n",
       "      <td>I have been diagnosed with so many issues. Iâ?...</td>\n",
       "      <td>NaN</td>\n",
       "    </tr>\n",
       "    <tr>\n",
       "      <th>19</th>\n",
       "      <td>19</td>\n",
       "      <td>Ann | 65-74 on Treatment for less than 1 mont...</td>\n",
       "      <td>1</td>\n",
       "      <td>1</td>\n",
       "      <td>1</td>\n",
       "      <td>If you are sensitive and easily have allergic ...</td>\n",
       "      <td>NaN</td>\n",
       "    </tr>\n",
       "    <tr>\n",
       "      <th>26</th>\n",
       "      <td>26</td>\n",
       "      <td>Ban Tramadol| 45-54 on Treatment for 1 to 6 m...</td>\n",
       "      <td>1</td>\n",
       "      <td>1</td>\n",
       "      <td>1</td>\n",
       "      <td>DO NOT USE THIS DANGEROUS MEDICINE!! I can't b...</td>\n",
       "      <td>NaN</td>\n",
       "    </tr>\n",
       "    <tr>\n",
       "      <th>31</th>\n",
       "      <td>31</td>\n",
       "      <td>Tom|1949| 65-74 on Treatment for 10 years or...</td>\n",
       "      <td>5</td>\n",
       "      <td>5</td>\n",
       "      <td>5</td>\n",
       "      <td>I've used codeine sulfate for chronic pain. Fo...</td>\n",
       "      <td>NaN</td>\n",
       "    </tr>\n",
       "    <tr>\n",
       "      <th>38</th>\n",
       "      <td>38</td>\n",
       "      <td>lubica| 55-64 Female  on Treatment for 2 to l...</td>\n",
       "      <td>1</td>\n",
       "      <td>1</td>\n",
       "      <td>1</td>\n",
       "      <td>NaN</td>\n",
       "      <td>Female</td>\n",
       "    </tr>\n",
       "    <tr>\n",
       "      <th>39</th>\n",
       "      <td>39</td>\n",
       "      <td>Jan| 55-64 on Treatment for 1 to less than 2 ...</td>\n",
       "      <td>5</td>\n",
       "      <td>5</td>\n",
       "      <td>5</td>\n",
       "      <td>After my injury in 2015| I tried multiple pain...</td>\n",
       "      <td>NaN</td>\n",
       "    </tr>\n",
       "    <tr>\n",
       "      <th>43</th>\n",
       "      <td>43</td>\n",
       "      <td>55-64 Female  on Treatment for 1 to 6 months ...</td>\n",
       "      <td>3</td>\n",
       "      <td>1</td>\n",
       "      <td>1</td>\n",
       "      <td>NaN</td>\n",
       "      <td>Female</td>\n",
       "    </tr>\n",
       "    <tr>\n",
       "      <th>46</th>\n",
       "      <td>46</td>\n",
       "      <td>65-74 Male  (Patient)</td>\n",
       "      <td>3</td>\n",
       "      <td>4</td>\n",
       "      <td>3</td>\n",
       "      <td>NaN</td>\n",
       "      <td>Male</td>\n",
       "    </tr>\n",
       "    <tr>\n",
       "      <th>47</th>\n",
       "      <td>47</td>\n",
       "      <td>roguemodel| 55-64 on Treatment for 5 to less ...</td>\n",
       "      <td>5</td>\n",
       "      <td>5</td>\n",
       "      <td>5</td>\n",
       "      <td>Every inividual is different in how they respo...</td>\n",
       "      <td>NaN</td>\n",
       "    </tr>\n",
       "    <tr>\n",
       "      <th>49</th>\n",
       "      <td>49</td>\n",
       "      <td>65-74 Female  on Treatment for less than 1 mo...</td>\n",
       "      <td>3</td>\n",
       "      <td>4</td>\n",
       "      <td>2</td>\n",
       "      <td>NaN</td>\n",
       "      <td>Female</td>\n",
       "    </tr>\n",
       "    <tr>\n",
       "      <th>51</th>\n",
       "      <td>51</td>\n",
       "      <td>Cfeyecare| 65-74 on Treatment for 1 to less t...</td>\n",
       "      <td>4</td>\n",
       "      <td>4</td>\n",
       "      <td>4</td>\n",
       "      <td>ave been taking Tramadol| 50 mg.| twice a day ...</td>\n",
       "      <td>NaN</td>\n",
       "    </tr>\n",
       "    <tr>\n",
       "      <th>52</th>\n",
       "      <td>52</td>\n",
       "      <td>Selfie| 65-74 on Treatment for 5 to less than...</td>\n",
       "      <td>5</td>\n",
       "      <td>5</td>\n",
       "      <td>5</td>\n",
       "      <td>Lower back arthritis|occasional sciatica.I tak...</td>\n",
       "      <td>NaN</td>\n",
       "    </tr>\n",
       "    <tr>\n",
       "      <th>53</th>\n",
       "      <td>53</td>\n",
       "      <td>A Nony Mouse| 35-44 on Treatment for 6 months...</td>\n",
       "      <td>1</td>\n",
       "      <td>1</td>\n",
       "      <td>1</td>\n",
       "      <td>I was prescribed this medication by my doctor ...</td>\n",
       "      <td>NaN</td>\n",
       "    </tr>\n",
       "    <tr>\n",
       "      <th>54</th>\n",
       "      <td>54</td>\n",
       "      <td>65-74 Male  on Treatment for 5 to less than 1...</td>\n",
       "      <td>2</td>\n",
       "      <td>5</td>\n",
       "      <td>3</td>\n",
       "      <td>NaN</td>\n",
       "      <td>Male</td>\n",
       "    </tr>\n",
       "    <tr>\n",
       "      <th>61</th>\n",
       "      <td>61</td>\n",
       "      <td>(Patient)</td>\n",
       "      <td>1</td>\n",
       "      <td>5</td>\n",
       "      <td>1</td>\n",
       "      <td>NaN</td>\n",
       "      <td>NaN</td>\n",
       "    </tr>\n",
       "    <tr>\n",
       "      <th>62</th>\n",
       "      <td>62</td>\n",
       "      <td>Mitzeye2| 35-44 on Treatment for 10 years or ...</td>\n",
       "      <td>1</td>\n",
       "      <td>5</td>\n",
       "      <td>1</td>\n",
       "      <td>I find 3 Excedrin Tension (acetameniphen 500 m...</td>\n",
       "      <td>NaN</td>\n",
       "    </tr>\n",
       "    <tr>\n",
       "      <th>64</th>\n",
       "      <td>64</td>\n",
       "      <td>madie| 65-74 on Treatment for 5 to less than ...</td>\n",
       "      <td>4</td>\n",
       "      <td>4</td>\n",
       "      <td>4</td>\n",
       "      <td>ave had back pain off</td>\n",
       "      <td>NaN</td>\n",
       "    </tr>\n",
       "    <tr>\n",
       "      <th>65</th>\n",
       "      <td>65</td>\n",
       "      <td>pompchas| 65-74 on Treatment for 1 to 6 month...</td>\n",
       "      <td>3</td>\n",
       "      <td>3</td>\n",
       "      <td>3</td>\n",
       "      <td>I have Degenerative Disc disease for pass 5 ye...</td>\n",
       "      <td>NaN</td>\n",
       "    </tr>\n",
       "    <tr>\n",
       "      <th>66</th>\n",
       "      <td>66</td>\n",
       "      <td>tramadol| 75 or over Male  on Treatment for l...</td>\n",
       "      <td>4</td>\n",
       "      <td>5</td>\n",
       "      <td>5</td>\n",
       "      <td>NaN</td>\n",
       "      <td>Male</td>\n",
       "    </tr>\n",
       "    <tr>\n",
       "      <th>67</th>\n",
       "      <td>67</td>\n",
       "      <td>Sharon| 55-64 on Treatment for less than 1 month</td>\n",
       "      <td>1</td>\n",
       "      <td>1</td>\n",
       "      <td>1</td>\n",
       "      <td>I feel no relief with fifty mg q four hours as...</td>\n",
       "      <td>NaN</td>\n",
       "    </tr>\n",
       "    <tr>\n",
       "      <th>69</th>\n",
       "      <td>69</td>\n",
       "      <td>55-64 Male  on Treatment for less than 1 mont...</td>\n",
       "      <td>4</td>\n",
       "      <td>4</td>\n",
       "      <td>4</td>\n",
       "      <td>NaN</td>\n",
       "      <td>Male</td>\n",
       "    </tr>\n",
       "    <tr>\n",
       "      <th>72</th>\n",
       "      <td>72</td>\n",
       "      <td>Kathleen| 45-54 on Treatment for 1 to 6 month...</td>\n",
       "      <td>5</td>\n",
       "      <td>5</td>\n",
       "      <td>5</td>\n",
       "      <td>I've Been On This Medicine For 2 Months Of Sev...</td>\n",
       "      <td>NaN</td>\n",
       "    </tr>\n",
       "    <tr>\n",
       "      <th>...</th>\n",
       "      <td>...</td>\n",
       "      <td>...</td>\n",
       "      <td>...</td>\n",
       "      <td>...</td>\n",
       "      <td>...</td>\n",
       "      <td>...</td>\n",
       "      <td>...</td>\n",
       "    </tr>\n",
       "    <tr>\n",
       "      <th>825</th>\n",
       "      <td>825</td>\n",
       "      <td>35-44 Male  on Treatment for less than 1 mont...</td>\n",
       "      <td>4</td>\n",
       "      <td>3</td>\n",
       "      <td>3</td>\n",
       "      <td>NaN</td>\n",
       "      <td>Male</td>\n",
       "    </tr>\n",
       "    <tr>\n",
       "      <th>837</th>\n",
       "      <td>837</td>\n",
       "      <td>55-64 Male  on Treatment for 1 to less than 2...</td>\n",
       "      <td>3</td>\n",
       "      <td>3</td>\n",
       "      <td>2</td>\n",
       "      <td>NaN</td>\n",
       "      <td>Male</td>\n",
       "    </tr>\n",
       "    <tr>\n",
       "      <th>840</th>\n",
       "      <td>840</td>\n",
       "      <td>65-74 Female  on Treatment for 10 years or mo...</td>\n",
       "      <td>4</td>\n",
       "      <td>3</td>\n",
       "      <td>4</td>\n",
       "      <td>NaN</td>\n",
       "      <td>Female</td>\n",
       "    </tr>\n",
       "    <tr>\n",
       "      <th>842</th>\n",
       "      <td>842</td>\n",
       "      <td>az| 55-64 Female  on Treatment for 1 to 6 mon...</td>\n",
       "      <td>3</td>\n",
       "      <td>4</td>\n",
       "      <td>2</td>\n",
       "      <td>NaN</td>\n",
       "      <td>Female</td>\n",
       "    </tr>\n",
       "    <tr>\n",
       "      <th>848</th>\n",
       "      <td>848</td>\n",
       "      <td>LindyLou2008| 45-54 on Treatment for 1 to 6 m...</td>\n",
       "      <td>5</td>\n",
       "      <td>5</td>\n",
       "      <td>4</td>\n",
       "      <td>his medication helps my pain a lot|but the one...</td>\n",
       "      <td>NaN</td>\n",
       "    </tr>\n",
       "    <tr>\n",
       "      <th>853</th>\n",
       "      <td>853</td>\n",
       "      <td>ren46us| 65-74 Female  on Treatment for 5 to ...</td>\n",
       "      <td>5</td>\n",
       "      <td>5</td>\n",
       "      <td>5</td>\n",
       "      <td>NaN</td>\n",
       "      <td>Female</td>\n",
       "    </tr>\n",
       "    <tr>\n",
       "      <th>854</th>\n",
       "      <td>854</td>\n",
       "      <td>55-64 Male  on Treatment for 2 to less than 5...</td>\n",
       "      <td>3</td>\n",
       "      <td>5</td>\n",
       "      <td>2</td>\n",
       "      <td>NaN</td>\n",
       "      <td>Male</td>\n",
       "    </tr>\n",
       "    <tr>\n",
       "      <th>871</th>\n",
       "      <td>871</td>\n",
       "      <td>3-6 on Treatment for 10 years or more (Patient)</td>\n",
       "      <td>4</td>\n",
       "      <td>4</td>\n",
       "      <td>4</td>\n",
       "      <td>sed for fibromyalgia and myofacial  pain along...</td>\n",
       "      <td>NaN</td>\n",
       "    </tr>\n",
       "    <tr>\n",
       "      <th>876</th>\n",
       "      <td>876</td>\n",
       "      <td>55-64 Female  on Treatment for 5 to less than...</td>\n",
       "      <td>4</td>\n",
       "      <td>4</td>\n",
       "      <td>4</td>\n",
       "      <td>NaN</td>\n",
       "      <td>Female</td>\n",
       "    </tr>\n",
       "    <tr>\n",
       "      <th>887</th>\n",
       "      <td>887</td>\n",
       "      <td>jerry| 65-74 Male  on Treatment for 6 months ...</td>\n",
       "      <td>5</td>\n",
       "      <td>5</td>\n",
       "      <td>5</td>\n",
       "      <td>NaN</td>\n",
       "      <td>Male</td>\n",
       "    </tr>\n",
       "    <tr>\n",
       "      <th>889</th>\n",
       "      <td>889</td>\n",
       "      <td>rif| 45-54 Male  on Treatment for 2 to less t...</td>\n",
       "      <td>3</td>\n",
       "      <td>4</td>\n",
       "      <td>3</td>\n",
       "      <td>NaN</td>\n",
       "      <td>Male</td>\n",
       "    </tr>\n",
       "    <tr>\n",
       "      <th>896</th>\n",
       "      <td>896</td>\n",
       "      <td>45-54 Female  on Treatment for less than 1 mo...</td>\n",
       "      <td>4</td>\n",
       "      <td>4</td>\n",
       "      <td>4</td>\n",
       "      <td>NaN</td>\n",
       "      <td>Female</td>\n",
       "    </tr>\n",
       "    <tr>\n",
       "      <th>917</th>\n",
       "      <td>917</td>\n",
       "      <td></td>\n",
       "      <td>3</td>\n",
       "      <td>5</td>\n",
       "      <td>3</td>\n",
       "      <td>NaN</td>\n",
       "      <td>NaN</td>\n",
       "    </tr>\n",
       "    <tr>\n",
       "      <th>930</th>\n",
       "      <td>930</td>\n",
       "      <td>[email protected]|  Female  (Patient)</td>\n",
       "      <td>3</td>\n",
       "      <td>4</td>\n",
       "      <td>3</td>\n",
       "      <td>NaN</td>\n",
       "      <td>Female</td>\n",
       "    </tr>\n",
       "    <tr>\n",
       "      <th>931</th>\n",
       "      <td>931</td>\n",
       "      <td>65-74 on Treatment for 2 to less than 5 years...</td>\n",
       "      <td>4</td>\n",
       "      <td>4</td>\n",
       "      <td>4</td>\n",
       "      <td>NaN</td>\n",
       "      <td>NaN</td>\n",
       "    </tr>\n",
       "    <tr>\n",
       "      <th>937</th>\n",
       "      <td>937</td>\n",
       "      <td>teri| 65-74 Female  on Treatment for 6 months...</td>\n",
       "      <td>5</td>\n",
       "      <td>5</td>\n",
       "      <td>5</td>\n",
       "      <td>NaN</td>\n",
       "      <td>Female</td>\n",
       "    </tr>\n",
       "    <tr>\n",
       "      <th>941</th>\n",
       "      <td>941</td>\n",
       "      <td>75 or over Female  on Treatment for less than...</td>\n",
       "      <td>2</td>\n",
       "      <td>4</td>\n",
       "      <td>1</td>\n",
       "      <td>NaN</td>\n",
       "      <td>Female</td>\n",
       "    </tr>\n",
       "    <tr>\n",
       "      <th>950</th>\n",
       "      <td>950</td>\n",
       "      <td>jurroz| 45-54 on Treatment for less than 1 mo...</td>\n",
       "      <td>3</td>\n",
       "      <td>4</td>\n",
       "      <td>3</td>\n",
       "      <td>AT FIRST IT HELPED ME TREMENDOUSLY| BUT NOW 2W...</td>\n",
       "      <td>NaN</td>\n",
       "    </tr>\n",
       "    <tr>\n",
       "      <th>954</th>\n",
       "      <td>954</td>\n",
       "      <td>65-74 Female  on Treatment for 1 to 6 months ...</td>\n",
       "      <td>3</td>\n",
       "      <td>4</td>\n",
       "      <td>3</td>\n",
       "      <td>NaN</td>\n",
       "      <td>Female</td>\n",
       "    </tr>\n",
       "    <tr>\n",
       "      <th>960</th>\n",
       "      <td>960</td>\n",
       "      <td>Barbara| 55-64 (Patient)</td>\n",
       "      <td>4</td>\n",
       "      <td>5</td>\n",
       "      <td>5</td>\n",
       "      <td>It makes me very sleepy| but like the fact|I c...</td>\n",
       "      <td>NaN</td>\n",
       "    </tr>\n",
       "    <tr>\n",
       "      <th>963</th>\n",
       "      <td>963</td>\n",
       "      <td>hernsay| 45-54 Male  on Treatment for 1 to 6 ...</td>\n",
       "      <td>3</td>\n",
       "      <td>4</td>\n",
       "      <td>3</td>\n",
       "      <td>NaN</td>\n",
       "      <td>Male</td>\n",
       "    </tr>\n",
       "    <tr>\n",
       "      <th>970</th>\n",
       "      <td>970</td>\n",
       "      <td>piwacket| 55-64 Female  on Treatment for less...</td>\n",
       "      <td>4</td>\n",
       "      <td>5</td>\n",
       "      <td>5</td>\n",
       "      <td>NaN</td>\n",
       "      <td>Female</td>\n",
       "    </tr>\n",
       "    <tr>\n",
       "      <th>972</th>\n",
       "      <td>972</td>\n",
       "      <td>65-74 Female  on Treatment for less than 1 mo...</td>\n",
       "      <td>3</td>\n",
       "      <td>5</td>\n",
       "      <td>3</td>\n",
       "      <td>NaN</td>\n",
       "      <td>Female</td>\n",
       "    </tr>\n",
       "    <tr>\n",
       "      <th>973</th>\n",
       "      <td>973</td>\n",
       "      <td>45-54 Female  on Treatment for less than 1 mo...</td>\n",
       "      <td>4</td>\n",
       "      <td>5</td>\n",
       "      <td>5</td>\n",
       "      <td>NaN</td>\n",
       "      <td>Female</td>\n",
       "    </tr>\n",
       "    <tr>\n",
       "      <th>983</th>\n",
       "      <td>983</td>\n",
       "      <td>avons77| 75 or over Male  on Treatment for 1 ...</td>\n",
       "      <td>3</td>\n",
       "      <td>3</td>\n",
       "      <td>3</td>\n",
       "      <td>NaN</td>\n",
       "      <td>Male</td>\n",
       "    </tr>\n",
       "    <tr>\n",
       "      <th>984</th>\n",
       "      <td>984</td>\n",
       "      <td>marge10| 65-74 Female  on Treatment for less ...</td>\n",
       "      <td>4</td>\n",
       "      <td>5</td>\n",
       "      <td>4</td>\n",
       "      <td>NaN</td>\n",
       "      <td>Female</td>\n",
       "    </tr>\n",
       "    <tr>\n",
       "      <th>992</th>\n",
       "      <td>992</td>\n",
       "      <td>25-34 Female  on Treatment for 1 to 6 months ...</td>\n",
       "      <td>1</td>\n",
       "      <td>5</td>\n",
       "      <td>1</td>\n",
       "      <td>NaN</td>\n",
       "      <td>Female</td>\n",
       "    </tr>\n",
       "    <tr>\n",
       "      <th>993</th>\n",
       "      <td>993</td>\n",
       "      <td>45-54 Female  on Treatment for less than 1 mo...</td>\n",
       "      <td>3</td>\n",
       "      <td>5</td>\n",
       "      <td>3</td>\n",
       "      <td>NaN</td>\n",
       "      <td>Female</td>\n",
       "    </tr>\n",
       "    <tr>\n",
       "      <th>996</th>\n",
       "      <td>996</td>\n",
       "      <td>[email protected]| 45-54 Female  on Treatment...</td>\n",
       "      <td>4</td>\n",
       "      <td>5</td>\n",
       "      <td>3</td>\n",
       "      <td>NaN</td>\n",
       "      <td>Female</td>\n",
       "    </tr>\n",
       "    <tr>\n",
       "      <th>999</th>\n",
       "      <td>999</td>\n",
       "      <td></td>\n",
       "      <td>3</td>\n",
       "      <td>5</td>\n",
       "      <td>2</td>\n",
       "      <td>I liked the fact that it took away my pain| bu...</td>\n",
       "      <td>NaN</td>\n",
       "    </tr>\n",
       "  </tbody>\n",
       "</table>\n",
       "<p>219 rows × 7 columns</p>\n",
       "</div>"
      ],
      "text/plain": [
       "     Unnamed: 0                                   Reviewer_Details  \\\n",
       "0             0   Newbie | 35-44 on Treatment for 1 to 6 months...   \n",
       "1             1   45-54 on Treatment for less than 1 month (Pat...   \n",
       "4             4   Diane perrin| 65-74 on Treatment for 2 to les...   \n",
       "6             6   meposide|  Male  on Treatment for 5 to less t...   \n",
       "7             7   FBigPharma| 35-44 on Treatment for 1 to 6 mon...   \n",
       "11           11   Karen | 45-54 on Treatment for 5 to less than...   \n",
       "12           12   TXBONNIEBELLE| 65-74 on Treatment for less th...   \n",
       "14           14   MamaTato.Org| 25-34 on Treatment for less tha...   \n",
       "15           15   Allison | 55-64 on Treatment for 5 to less th...   \n",
       "19           19   Ann | 65-74 on Treatment for less than 1 mont...   \n",
       "26           26   Ban Tramadol| 45-54 on Treatment for 1 to 6 m...   \n",
       "31           31    Tom|1949| 65-74 on Treatment for 10 years or...   \n",
       "38           38   lubica| 55-64 Female  on Treatment for 2 to l...   \n",
       "39           39   Jan| 55-64 on Treatment for 1 to less than 2 ...   \n",
       "43           43   55-64 Female  on Treatment for 1 to 6 months ...   \n",
       "46           46                             65-74 Male  (Patient)    \n",
       "47           47   roguemodel| 55-64 on Treatment for 5 to less ...   \n",
       "49           49   65-74 Female  on Treatment for less than 1 mo...   \n",
       "51           51   Cfeyecare| 65-74 on Treatment for 1 to less t...   \n",
       "52           52   Selfie| 65-74 on Treatment for 5 to less than...   \n",
       "53           53   A Nony Mouse| 35-44 on Treatment for 6 months...   \n",
       "54           54   65-74 Male  on Treatment for 5 to less than 1...   \n",
       "61           61                                         (Patient)    \n",
       "62           62   Mitzeye2| 35-44 on Treatment for 10 years or ...   \n",
       "64           64   madie| 65-74 on Treatment for 5 to less than ...   \n",
       "65           65   pompchas| 65-74 on Treatment for 1 to 6 month...   \n",
       "66           66   tramadol| 75 or over Male  on Treatment for l...   \n",
       "67           67   Sharon| 55-64 on Treatment for less than 1 month   \n",
       "69           69   55-64 Male  on Treatment for less than 1 mont...   \n",
       "72           72   Kathleen| 45-54 on Treatment for 1 to 6 month...   \n",
       "..          ...                                                ...   \n",
       "825         825   35-44 Male  on Treatment for less than 1 mont...   \n",
       "837         837   55-64 Male  on Treatment for 1 to less than 2...   \n",
       "840         840   65-74 Female  on Treatment for 10 years or mo...   \n",
       "842         842   az| 55-64 Female  on Treatment for 1 to 6 mon...   \n",
       "848         848   LindyLou2008| 45-54 on Treatment for 1 to 6 m...   \n",
       "853         853   ren46us| 65-74 Female  on Treatment for 5 to ...   \n",
       "854         854   55-64 Male  on Treatment for 2 to less than 5...   \n",
       "871         871   3-6 on Treatment for 10 years or more (Patient)    \n",
       "876         876   55-64 Female  on Treatment for 5 to less than...   \n",
       "887         887   jerry| 65-74 Male  on Treatment for 6 months ...   \n",
       "889         889   rif| 45-54 Male  on Treatment for 2 to less t...   \n",
       "896         896   45-54 Female  on Treatment for less than 1 mo...   \n",
       "917         917                                                      \n",
       "930         930             [email protected]|  Female  (Patient)    \n",
       "931         931   65-74 on Treatment for 2 to less than 5 years...   \n",
       "937         937   teri| 65-74 Female  on Treatment for 6 months...   \n",
       "941         941   75 or over Female  on Treatment for less than...   \n",
       "950         950   jurroz| 45-54 on Treatment for less than 1 mo...   \n",
       "954         954   65-74 Female  on Treatment for 1 to 6 months ...   \n",
       "960         960                          Barbara| 55-64 (Patient)    \n",
       "963         963   hernsay| 45-54 Male  on Treatment for 1 to 6 ...   \n",
       "970         970   piwacket| 55-64 Female  on Treatment for less...   \n",
       "972         972   65-74 Female  on Treatment for less than 1 mo...   \n",
       "973         973   45-54 Female  on Treatment for less than 1 mo...   \n",
       "983         983   avons77| 75 or over Male  on Treatment for 1 ...   \n",
       "984         984   marge10| 65-74 Female  on Treatment for less ...   \n",
       "992         992   25-34 Female  on Treatment for 1 to 6 months ...   \n",
       "993         993   45-54 Female  on Treatment for less than 1 mo...   \n",
       "996         996   [email protected]| 45-54 Female  on Treatment...   \n",
       "999         999                                                      \n",
       "\n",
       "      Effectiveness_Rating   Ease_of_Use_Rating   Satisfaction_Rating  \\\n",
       "0                        2                    2                     1   \n",
       "1                        1                    5                     1   \n",
       "4                        5                    5                     5   \n",
       "6                        1                    3                     2   \n",
       "7                        2                    2                     1   \n",
       "11                       5                    5                     5   \n",
       "12                       1                    1                     1   \n",
       "14                       5                    5                     5   \n",
       "15                       4                    4                     4   \n",
       "19                       1                    1                     1   \n",
       "26                       1                    1                     1   \n",
       "31                       5                    5                     5   \n",
       "38                       1                    1                     1   \n",
       "39                       5                    5                     5   \n",
       "43                       3                    1                     1   \n",
       "46                       3                    4                     3   \n",
       "47                       5                    5                     5   \n",
       "49                       3                    4                     2   \n",
       "51                       4                    4                     4   \n",
       "52                       5                    5                     5   \n",
       "53                       1                    1                     1   \n",
       "54                       2                    5                     3   \n",
       "61                       1                    5                     1   \n",
       "62                       1                    5                     1   \n",
       "64                       4                    4                     4   \n",
       "65                       3                    3                     3   \n",
       "66                       4                    5                     5   \n",
       "67                       1                    1                     1   \n",
       "69                       4                    4                     4   \n",
       "72                       5                    5                     5   \n",
       "..                     ...                  ...                   ...   \n",
       "825                      4                    3                     3   \n",
       "837                      3                    3                     2   \n",
       "840                      4                    3                     4   \n",
       "842                      3                    4                     2   \n",
       "848                      5                    5                     4   \n",
       "853                      5                    5                     5   \n",
       "854                      3                    5                     2   \n",
       "871                      4                    4                     4   \n",
       "876                      4                    4                     4   \n",
       "887                      5                    5                     5   \n",
       "889                      3                    4                     3   \n",
       "896                      4                    4                     4   \n",
       "917                      3                    5                     3   \n",
       "930                      3                    4                     3   \n",
       "931                      4                    4                     4   \n",
       "937                      5                    5                     5   \n",
       "941                      2                    4                     1   \n",
       "950                      3                    4                     3   \n",
       "954                      3                    4                     3   \n",
       "960                      4                    5                     5   \n",
       "963                      3                    4                     3   \n",
       "970                      4                    5                     5   \n",
       "972                      3                    5                     3   \n",
       "973                      4                    5                     5   \n",
       "983                      3                    3                     3   \n",
       "984                      4                    5                     4   \n",
       "992                      1                    5                     1   \n",
       "993                      3                    5                     3   \n",
       "996                      4                    5                     3   \n",
       "999                      3                    5                     2   \n",
       "\n",
       "                                               Comment  Gender  \n",
       "0                Didnâ??t rich the neevevosin ! Wastef     NaN  \n",
       "1    I was prescribed this for the nerve pain that ...     NaN  \n",
       "4    I couldn't be happier with this medication. I ...     NaN  \n",
       "6                                                  NaN    Male  \n",
       "7    Try being perscribed 120 20MG OxyCodone a mont...     NaN  \n",
       "11   I have been taking Tramadol for five years for...     NaN  \n",
       "12   I asked my doctor for pain relief that was str...     NaN  \n",
       "14   In general| the medicine is not bad| it pains ...     NaN  \n",
       "15   I have been diagnosed with so many issues. Iâ?...     NaN  \n",
       "19   If you are sensitive and easily have allergic ...     NaN  \n",
       "26   DO NOT USE THIS DANGEROUS MEDICINE!! I can't b...     NaN  \n",
       "31   I've used codeine sulfate for chronic pain. Fo...     NaN  \n",
       "38                                                 NaN  Female  \n",
       "39   After my injury in 2015| I tried multiple pain...     NaN  \n",
       "43                                                 NaN  Female  \n",
       "46                                                 NaN    Male  \n",
       "47   Every inividual is different in how they respo...     NaN  \n",
       "49                                                 NaN  Female  \n",
       "51   ave been taking Tramadol| 50 mg.| twice a day ...     NaN  \n",
       "52   Lower back arthritis|occasional sciatica.I tak...     NaN  \n",
       "53   I was prescribed this medication by my doctor ...     NaN  \n",
       "54                                                 NaN    Male  \n",
       "61                                                 NaN     NaN  \n",
       "62   I find 3 Excedrin Tension (acetameniphen 500 m...     NaN  \n",
       "64                               ave had back pain off     NaN  \n",
       "65   I have Degenerative Disc disease for pass 5 ye...     NaN  \n",
       "66                                                 NaN    Male  \n",
       "67   I feel no relief with fifty mg q four hours as...     NaN  \n",
       "69                                                 NaN    Male  \n",
       "72   I've Been On This Medicine For 2 Months Of Sev...     NaN  \n",
       "..                                                 ...     ...  \n",
       "825                                                NaN    Male  \n",
       "837                                                NaN    Male  \n",
       "840                                                NaN  Female  \n",
       "842                                                NaN  Female  \n",
       "848  his medication helps my pain a lot|but the one...     NaN  \n",
       "853                                                NaN  Female  \n",
       "854                                                NaN    Male  \n",
       "871  sed for fibromyalgia and myofacial  pain along...     NaN  \n",
       "876                                                NaN  Female  \n",
       "887                                                NaN    Male  \n",
       "889                                                NaN    Male  \n",
       "896                                                NaN  Female  \n",
       "917                                                NaN     NaN  \n",
       "930                                                NaN  Female  \n",
       "931                                                NaN     NaN  \n",
       "937                                                NaN  Female  \n",
       "941                                                NaN  Female  \n",
       "950  AT FIRST IT HELPED ME TREMENDOUSLY| BUT NOW 2W...     NaN  \n",
       "954                                                NaN  Female  \n",
       "960  It makes me very sleepy| but like the fact|I c...     NaN  \n",
       "963                                                NaN    Male  \n",
       "970                                                NaN  Female  \n",
       "972                                                NaN  Female  \n",
       "973                                                NaN  Female  \n",
       "983                                                NaN    Male  \n",
       "984                                                NaN  Female  \n",
       "992                                                NaN  Female  \n",
       "993                                                NaN  Female  \n",
       "996                                                NaN  Female  \n",
       "999  I liked the fact that it took away my pain| bu...     NaN  \n",
       "\n",
       "[219 rows x 7 columns]"
      ]
     },
     "execution_count": 32,
     "metadata": {},
     "output_type": "execute_result"
    },
    {
     "data": {
      "text/plain": [
       "0      1\n",
       "1      1\n",
       "2      0\n",
       "3      0\n",
       "4      1\n",
       "5      0\n",
       "6      1\n",
       "7      1\n",
       "8      0\n",
       "9      0\n",
       "10     0\n",
       "11     1\n",
       "12     1\n",
       "13     0\n",
       "14     1\n",
       "15     1\n",
       "16     0\n",
       "17     0\n",
       "18     0\n",
       "19     1\n",
       "20     0\n",
       "21     0\n",
       "22     0\n",
       "23     0\n",
       "24     0\n",
       "25     0\n",
       "26     1\n",
       "27     0\n",
       "28     0\n",
       "29     0\n",
       "      ..\n",
       "970    1\n",
       "971    0\n",
       "972    1\n",
       "973    1\n",
       "974    0\n",
       "975    0\n",
       "976    0\n",
       "977    0\n",
       "978    0\n",
       "979    0\n",
       "980    0\n",
       "981    0\n",
       "982    0\n",
       "983    1\n",
       "984    1\n",
       "985    0\n",
       "986    0\n",
       "987    0\n",
       "988    0\n",
       "989    0\n",
       "990    0\n",
       "991    0\n",
       "992    1\n",
       "993    1\n",
       "994    0\n",
       "995    0\n",
       "996    1\n",
       "997    0\n",
       "998    0\n",
       "999    1\n",
       "Length: 1000, dtype: int64"
      ]
     },
     "execution_count": 32,
     "metadata": {},
     "output_type": "execute_result"
    }
   ],
   "source": [
    "# determine which value is null\n",
    "#df.isnull()\n",
    "\n",
    "# return any row which has at least one null value\n",
    "df[df.isnull().any(axis=1)]\n",
    "\n",
    "# get number of null values in each column\n",
    "df.isnull().sum(axis=1)"
   ]
  },
  {
   "cell_type": "code",
   "execution_count": 62,
   "metadata": {},
   "outputs": [
    {
     "data": {
      "text/html": [
       "<div>\n",
       "<style scoped>\n",
       "    .dataframe tbody tr th:only-of-type {\n",
       "        vertical-align: middle;\n",
       "    }\n",
       "\n",
       "    .dataframe tbody tr th {\n",
       "        vertical-align: top;\n",
       "    }\n",
       "\n",
       "    .dataframe thead th {\n",
       "        text-align: right;\n",
       "    }\n",
       "</style>\n",
       "<table border=\"1\" class=\"dataframe\">\n",
       "  <thead>\n",
       "    <tr style=\"text-align: right;\">\n",
       "      <th></th>\n",
       "      <th>Unnamed: 0</th>\n",
       "      <th>Reviewer_Details</th>\n",
       "      <th>Effectiveness_Rating</th>\n",
       "      <th>Ease_of_Use_Rating</th>\n",
       "      <th>Satisfaction_Rating</th>\n",
       "    </tr>\n",
       "  </thead>\n",
       "  <tbody>\n",
       "    <tr>\n",
       "      <th>0</th>\n",
       "      <td>0</td>\n",
       "      <td>Newbie | 35-44 on Treatment for 1 to 6 months...</td>\n",
       "      <td>2</td>\n",
       "      <td>2</td>\n",
       "      <td>1</td>\n",
       "    </tr>\n",
       "    <tr>\n",
       "      <th>1</th>\n",
       "      <td>1</td>\n",
       "      <td>45-54 on Treatment for less than 1 month (Pat...</td>\n",
       "      <td>1</td>\n",
       "      <td>5</td>\n",
       "      <td>1</td>\n",
       "    </tr>\n",
       "    <tr>\n",
       "      <th>2</th>\n",
       "      <td>2</td>\n",
       "      <td>Ocetech| 65-74 Male  on Treatment for 10 year...</td>\n",
       "      <td>1</td>\n",
       "      <td>4</td>\n",
       "      <td>2</td>\n",
       "    </tr>\n",
       "    <tr>\n",
       "      <th>3</th>\n",
       "      <td>3</td>\n",
       "      <td>virleo| 55-64 Female  on Treatment for less t...</td>\n",
       "      <td>1</td>\n",
       "      <td>1</td>\n",
       "      <td>1</td>\n",
       "    </tr>\n",
       "    <tr>\n",
       "      <th>4</th>\n",
       "      <td>4</td>\n",
       "      <td>Diane perrin| 65-74 on Treatment for 2 to les...</td>\n",
       "      <td>5</td>\n",
       "      <td>5</td>\n",
       "      <td>5</td>\n",
       "    </tr>\n",
       "    <tr>\n",
       "      <th>5</th>\n",
       "      <td>5</td>\n",
       "      <td>Mtdwnurse1| 45-54 Female  on Treatment for 6 ...</td>\n",
       "      <td>4</td>\n",
       "      <td>4</td>\n",
       "      <td>4</td>\n",
       "    </tr>\n",
       "    <tr>\n",
       "      <th>6</th>\n",
       "      <td>6</td>\n",
       "      <td>meposide|  Male  on Treatment for 5 to less t...</td>\n",
       "      <td>1</td>\n",
       "      <td>3</td>\n",
       "      <td>2</td>\n",
       "    </tr>\n",
       "    <tr>\n",
       "      <th>7</th>\n",
       "      <td>7</td>\n",
       "      <td>FBigPharma| 35-44 on Treatment for 1 to 6 mon...</td>\n",
       "      <td>2</td>\n",
       "      <td>2</td>\n",
       "      <td>1</td>\n",
       "    </tr>\n",
       "    <tr>\n",
       "      <th>8</th>\n",
       "      <td>8</td>\n",
       "      <td>Foots55| 65-74 Female  on Treatment for 1 to ...</td>\n",
       "      <td>3</td>\n",
       "      <td>2</td>\n",
       "      <td>2</td>\n",
       "    </tr>\n",
       "    <tr>\n",
       "      <th>9</th>\n",
       "      <td>9</td>\n",
       "      <td>GoneRacin24| 65-74 Female  on Treatment for 1...</td>\n",
       "      <td>1</td>\n",
       "      <td>5</td>\n",
       "      <td>1</td>\n",
       "    </tr>\n",
       "    <tr>\n",
       "      <th>10</th>\n",
       "      <td>10</td>\n",
       "      <td>75 or over Male  on Treatment for less than 1...</td>\n",
       "      <td>2</td>\n",
       "      <td>5</td>\n",
       "      <td>1</td>\n",
       "    </tr>\n",
       "    <tr>\n",
       "      <th>11</th>\n",
       "      <td>11</td>\n",
       "      <td>Karen | 45-54 on Treatment for 5 to less than...</td>\n",
       "      <td>5</td>\n",
       "      <td>5</td>\n",
       "      <td>5</td>\n",
       "    </tr>\n",
       "    <tr>\n",
       "      <th>12</th>\n",
       "      <td>12</td>\n",
       "      <td>TXBONNIEBELLE| 65-74 on Treatment for less th...</td>\n",
       "      <td>1</td>\n",
       "      <td>1</td>\n",
       "      <td>1</td>\n",
       "    </tr>\n",
       "    <tr>\n",
       "      <th>13</th>\n",
       "      <td>13</td>\n",
       "      <td>55-64 Female  on Treatment for 2 to less than...</td>\n",
       "      <td>5</td>\n",
       "      <td>5</td>\n",
       "      <td>5</td>\n",
       "    </tr>\n",
       "    <tr>\n",
       "      <th>14</th>\n",
       "      <td>14</td>\n",
       "      <td>MamaTato.Org| 25-34 on Treatment for less tha...</td>\n",
       "      <td>5</td>\n",
       "      <td>5</td>\n",
       "      <td>5</td>\n",
       "    </tr>\n",
       "    <tr>\n",
       "      <th>15</th>\n",
       "      <td>15</td>\n",
       "      <td>Allison | 55-64 on Treatment for 5 to less th...</td>\n",
       "      <td>4</td>\n",
       "      <td>4</td>\n",
       "      <td>4</td>\n",
       "    </tr>\n",
       "    <tr>\n",
       "      <th>16</th>\n",
       "      <td>16</td>\n",
       "      <td>Suffering| 45-54 Female  (Patient)</td>\n",
       "      <td>1</td>\n",
       "      <td>3</td>\n",
       "      <td>1</td>\n",
       "    </tr>\n",
       "    <tr>\n",
       "      <th>17</th>\n",
       "      <td>17</td>\n",
       "      <td>Ketsie|  Female  on Treatment for 1 to less t...</td>\n",
       "      <td>5</td>\n",
       "      <td>5</td>\n",
       "      <td>5</td>\n",
       "    </tr>\n",
       "    <tr>\n",
       "      <th>18</th>\n",
       "      <td>18</td>\n",
       "      <td>Ejb1951| 65-74 Female  on Treatment for less ...</td>\n",
       "      <td>2</td>\n",
       "      <td>1</td>\n",
       "      <td>1</td>\n",
       "    </tr>\n",
       "    <tr>\n",
       "      <th>19</th>\n",
       "      <td>19</td>\n",
       "      <td>Ann | 65-74 on Treatment for less than 1 mont...</td>\n",
       "      <td>1</td>\n",
       "      <td>1</td>\n",
       "      <td>1</td>\n",
       "    </tr>\n",
       "    <tr>\n",
       "      <th>20</th>\n",
       "      <td>20</td>\n",
       "      <td>plantGranny| 45-54 Female  on Treatment for 6...</td>\n",
       "      <td>1</td>\n",
       "      <td>3</td>\n",
       "      <td>1</td>\n",
       "    </tr>\n",
       "    <tr>\n",
       "      <th>21</th>\n",
       "      <td>21</td>\n",
       "      <td>maf166windstream.net| 65-74 Male  on Treatmen...</td>\n",
       "      <td>5</td>\n",
       "      <td>5</td>\n",
       "      <td>5</td>\n",
       "    </tr>\n",
       "    <tr>\n",
       "      <th>22</th>\n",
       "      <td>22</td>\n",
       "      <td>55-64 Female  on Treatment for less than 1 mo...</td>\n",
       "      <td>1</td>\n",
       "      <td>5</td>\n",
       "      <td>1</td>\n",
       "    </tr>\n",
       "    <tr>\n",
       "      <th>23</th>\n",
       "      <td>23</td>\n",
       "      <td>steven| 55-64 Male  on Treatment for 1 to 6 m...</td>\n",
       "      <td>5</td>\n",
       "      <td>5</td>\n",
       "      <td>5</td>\n",
       "    </tr>\n",
       "    <tr>\n",
       "      <th>24</th>\n",
       "      <td>24</td>\n",
       "      <td>fdtopp3| 65-74 Male  on Treatment for 1 to le...</td>\n",
       "      <td>5</td>\n",
       "      <td>5</td>\n",
       "      <td>5</td>\n",
       "    </tr>\n",
       "    <tr>\n",
       "      <th>25</th>\n",
       "      <td>25</td>\n",
       "      <td>Tramadol| 55-64 Female  on Treatment for 2 to...</td>\n",
       "      <td>5</td>\n",
       "      <td>1</td>\n",
       "      <td>1</td>\n",
       "    </tr>\n",
       "    <tr>\n",
       "      <th>26</th>\n",
       "      <td>26</td>\n",
       "      <td>Ban Tramadol| 45-54 on Treatment for 1 to 6 m...</td>\n",
       "      <td>1</td>\n",
       "      <td>1</td>\n",
       "      <td>1</td>\n",
       "    </tr>\n",
       "    <tr>\n",
       "      <th>27</th>\n",
       "      <td>27</td>\n",
       "      <td>lee| 65-74 Male  on Treatment for 1 to 6 mont...</td>\n",
       "      <td>5</td>\n",
       "      <td>5</td>\n",
       "      <td>5</td>\n",
       "    </tr>\n",
       "    <tr>\n",
       "      <th>28</th>\n",
       "      <td>28</td>\n",
       "      <td>hillbillygirl| 45-54 Female  on Treatment for...</td>\n",
       "      <td>5</td>\n",
       "      <td>5</td>\n",
       "      <td>5</td>\n",
       "    </tr>\n",
       "    <tr>\n",
       "      <th>29</th>\n",
       "      <td>29</td>\n",
       "      <td>BASinc| 75 or over Female  on Treatment for 2...</td>\n",
       "      <td>5</td>\n",
       "      <td>5</td>\n",
       "      <td>5</td>\n",
       "    </tr>\n",
       "    <tr>\n",
       "      <th>...</th>\n",
       "      <td>...</td>\n",
       "      <td>...</td>\n",
       "      <td>...</td>\n",
       "      <td>...</td>\n",
       "      <td>...</td>\n",
       "    </tr>\n",
       "    <tr>\n",
       "      <th>970</th>\n",
       "      <td>970</td>\n",
       "      <td>piwacket| 55-64 Female  on Treatment for less...</td>\n",
       "      <td>4</td>\n",
       "      <td>5</td>\n",
       "      <td>5</td>\n",
       "    </tr>\n",
       "    <tr>\n",
       "      <th>971</th>\n",
       "      <td>971</td>\n",
       "      <td>Lori| 45-54 Female  on Treatment for 1 to les...</td>\n",
       "      <td>4</td>\n",
       "      <td>5</td>\n",
       "      <td>5</td>\n",
       "    </tr>\n",
       "    <tr>\n",
       "      <th>972</th>\n",
       "      <td>972</td>\n",
       "      <td>65-74 Female  on Treatment for less than 1 mo...</td>\n",
       "      <td>3</td>\n",
       "      <td>5</td>\n",
       "      <td>3</td>\n",
       "    </tr>\n",
       "    <tr>\n",
       "      <th>973</th>\n",
       "      <td>973</td>\n",
       "      <td>45-54 Female  on Treatment for less than 1 mo...</td>\n",
       "      <td>4</td>\n",
       "      <td>5</td>\n",
       "      <td>5</td>\n",
       "    </tr>\n",
       "    <tr>\n",
       "      <th>974</th>\n",
       "      <td>974</td>\n",
       "      <td>davey| 35-44 Male  on Treatment for 1 to 6 mo...</td>\n",
       "      <td>1</td>\n",
       "      <td>2</td>\n",
       "      <td>1</td>\n",
       "    </tr>\n",
       "    <tr>\n",
       "      <th>975</th>\n",
       "      <td>975</td>\n",
       "      <td>55-64 Female  on Treatment for 2 to less than...</td>\n",
       "      <td>5</td>\n",
       "      <td>5</td>\n",
       "      <td>5</td>\n",
       "    </tr>\n",
       "    <tr>\n",
       "      <th>976</th>\n",
       "      <td>976</td>\n",
       "      <td>gs| 19-24 Female  on Treatment for less than ...</td>\n",
       "      <td>1</td>\n",
       "      <td>1</td>\n",
       "      <td>1</td>\n",
       "    </tr>\n",
       "    <tr>\n",
       "      <th>977</th>\n",
       "      <td>977</td>\n",
       "      <td>foxylady7| 25-34 Female  on Treatment for 1 t...</td>\n",
       "      <td>3</td>\n",
       "      <td>4</td>\n",
       "      <td>3</td>\n",
       "    </tr>\n",
       "    <tr>\n",
       "      <th>978</th>\n",
       "      <td>978</td>\n",
       "      <td>whitl107| 55-64 Male  on Treatment for less t...</td>\n",
       "      <td>5</td>\n",
       "      <td>5</td>\n",
       "      <td>5</td>\n",
       "    </tr>\n",
       "    <tr>\n",
       "      <th>979</th>\n",
       "      <td>979</td>\n",
       "      <td>[email protected]| 45-54 Female  on Treatment...</td>\n",
       "      <td>3</td>\n",
       "      <td>3</td>\n",
       "      <td>2</td>\n",
       "    </tr>\n",
       "    <tr>\n",
       "      <th>980</th>\n",
       "      <td>980</td>\n",
       "      <td>susan11160| 45-54 Female  on Treatment for le...</td>\n",
       "      <td>4</td>\n",
       "      <td>4</td>\n",
       "      <td>2</td>\n",
       "    </tr>\n",
       "    <tr>\n",
       "      <th>981</th>\n",
       "      <td>981</td>\n",
       "      <td>paperioprincess5| 45-54 Female  on Treatment ...</td>\n",
       "      <td>5</td>\n",
       "      <td>5</td>\n",
       "      <td>5</td>\n",
       "    </tr>\n",
       "    <tr>\n",
       "      <th>982</th>\n",
       "      <td>982</td>\n",
       "      <td>jaguar| 65-74 Male  on Treatment for 1 to les...</td>\n",
       "      <td>3</td>\n",
       "      <td>3</td>\n",
       "      <td>3</td>\n",
       "    </tr>\n",
       "    <tr>\n",
       "      <th>983</th>\n",
       "      <td>983</td>\n",
       "      <td>avons77| 75 or over Male  on Treatment for 1 ...</td>\n",
       "      <td>3</td>\n",
       "      <td>3</td>\n",
       "      <td>3</td>\n",
       "    </tr>\n",
       "    <tr>\n",
       "      <th>984</th>\n",
       "      <td>984</td>\n",
       "      <td>marge10| 65-74 Female  on Treatment for less ...</td>\n",
       "      <td>4</td>\n",
       "      <td>5</td>\n",
       "      <td>4</td>\n",
       "    </tr>\n",
       "    <tr>\n",
       "      <th>985</th>\n",
       "      <td>985</td>\n",
       "      <td>tammyeller87 yahoo.com| 25-34 Female  on Trea...</td>\n",
       "      <td>2</td>\n",
       "      <td>1</td>\n",
       "      <td>1</td>\n",
       "    </tr>\n",
       "    <tr>\n",
       "      <th>986</th>\n",
       "      <td>986</td>\n",
       "      <td>Chris| 35-44 Male  on Treatment for 5 to less...</td>\n",
       "      <td>5</td>\n",
       "      <td>4</td>\n",
       "      <td>5</td>\n",
       "    </tr>\n",
       "    <tr>\n",
       "      <th>987</th>\n",
       "      <td>987</td>\n",
       "      <td>ghost| 35-44 Female  on Treatment for less th...</td>\n",
       "      <td>1</td>\n",
       "      <td>5</td>\n",
       "      <td>1</td>\n",
       "    </tr>\n",
       "    <tr>\n",
       "      <th>988</th>\n",
       "      <td>988</td>\n",
       "      <td>vcowan| 45-54 Female  on Treatment for 2 to l...</td>\n",
       "      <td>4</td>\n",
       "      <td>5</td>\n",
       "      <td>2</td>\n",
       "    </tr>\n",
       "    <tr>\n",
       "      <th>989</th>\n",
       "      <td>989</td>\n",
       "      <td>Bugjuice| 55-64 Female  on Treatment for 5 to...</td>\n",
       "      <td>4</td>\n",
       "      <td>5</td>\n",
       "      <td>5</td>\n",
       "    </tr>\n",
       "    <tr>\n",
       "      <th>990</th>\n",
       "      <td>990</td>\n",
       "      <td>25-34 Female  on Treatment for 1 to less than...</td>\n",
       "      <td>3</td>\n",
       "      <td>3</td>\n",
       "      <td>2</td>\n",
       "    </tr>\n",
       "    <tr>\n",
       "      <th>991</th>\n",
       "      <td>991</td>\n",
       "      <td>[email protected]| 55-64 Female  on Treatment...</td>\n",
       "      <td>3</td>\n",
       "      <td>3</td>\n",
       "      <td>3</td>\n",
       "    </tr>\n",
       "    <tr>\n",
       "      <th>992</th>\n",
       "      <td>992</td>\n",
       "      <td>25-34 Female  on Treatment for 1 to 6 months ...</td>\n",
       "      <td>1</td>\n",
       "      <td>5</td>\n",
       "      <td>1</td>\n",
       "    </tr>\n",
       "    <tr>\n",
       "      <th>993</th>\n",
       "      <td>993</td>\n",
       "      <td>45-54 Female  on Treatment for less than 1 mo...</td>\n",
       "      <td>3</td>\n",
       "      <td>5</td>\n",
       "      <td>3</td>\n",
       "    </tr>\n",
       "    <tr>\n",
       "      <th>994</th>\n",
       "      <td>994</td>\n",
       "      <td>65-74 Male  on Treatment for less than 1 mont...</td>\n",
       "      <td>1</td>\n",
       "      <td>5</td>\n",
       "      <td>1</td>\n",
       "    </tr>\n",
       "    <tr>\n",
       "      <th>995</th>\n",
       "      <td>995</td>\n",
       "      <td>35-44 Female  on Treatment for less than 1 mo...</td>\n",
       "      <td>1</td>\n",
       "      <td>4</td>\n",
       "      <td>1</td>\n",
       "    </tr>\n",
       "    <tr>\n",
       "      <th>996</th>\n",
       "      <td>996</td>\n",
       "      <td>[email protected]| 45-54 Female  on Treatment...</td>\n",
       "      <td>4</td>\n",
       "      <td>5</td>\n",
       "      <td>3</td>\n",
       "    </tr>\n",
       "    <tr>\n",
       "      <th>997</th>\n",
       "      <td>997</td>\n",
       "      <td>35-44 Female  on Treatment for less than 1 mo...</td>\n",
       "      <td>2</td>\n",
       "      <td>5</td>\n",
       "      <td>1</td>\n",
       "    </tr>\n",
       "    <tr>\n",
       "      <th>998</th>\n",
       "      <td>998</td>\n",
       "      <td>sdbraz| 35-44 Female  on Treatment for 2 to l...</td>\n",
       "      <td>4</td>\n",
       "      <td>4</td>\n",
       "      <td>4</td>\n",
       "    </tr>\n",
       "    <tr>\n",
       "      <th>999</th>\n",
       "      <td>999</td>\n",
       "      <td></td>\n",
       "      <td>3</td>\n",
       "      <td>5</td>\n",
       "      <td>2</td>\n",
       "    </tr>\n",
       "  </tbody>\n",
       "</table>\n",
       "<p>1000 rows × 5 columns</p>\n",
       "</div>"
      ],
      "text/plain": [
       "     Unnamed: 0                                   Reviewer_Details  \\\n",
       "0             0   Newbie | 35-44 on Treatment for 1 to 6 months...   \n",
       "1             1   45-54 on Treatment for less than 1 month (Pat...   \n",
       "2             2   Ocetech| 65-74 Male  on Treatment for 10 year...   \n",
       "3             3   virleo| 55-64 Female  on Treatment for less t...   \n",
       "4             4   Diane perrin| 65-74 on Treatment for 2 to les...   \n",
       "5             5   Mtdwnurse1| 45-54 Female  on Treatment for 6 ...   \n",
       "6             6   meposide|  Male  on Treatment for 5 to less t...   \n",
       "7             7   FBigPharma| 35-44 on Treatment for 1 to 6 mon...   \n",
       "8             8   Foots55| 65-74 Female  on Treatment for 1 to ...   \n",
       "9             9   GoneRacin24| 65-74 Female  on Treatment for 1...   \n",
       "10           10   75 or over Male  on Treatment for less than 1...   \n",
       "11           11   Karen | 45-54 on Treatment for 5 to less than...   \n",
       "12           12   TXBONNIEBELLE| 65-74 on Treatment for less th...   \n",
       "13           13   55-64 Female  on Treatment for 2 to less than...   \n",
       "14           14   MamaTato.Org| 25-34 on Treatment for less tha...   \n",
       "15           15   Allison | 55-64 on Treatment for 5 to less th...   \n",
       "16           16                Suffering| 45-54 Female  (Patient)    \n",
       "17           17   Ketsie|  Female  on Treatment for 1 to less t...   \n",
       "18           18   Ejb1951| 65-74 Female  on Treatment for less ...   \n",
       "19           19   Ann | 65-74 on Treatment for less than 1 mont...   \n",
       "20           20   plantGranny| 45-54 Female  on Treatment for 6...   \n",
       "21           21   maf166windstream.net| 65-74 Male  on Treatmen...   \n",
       "22           22   55-64 Female  on Treatment for less than 1 mo...   \n",
       "23           23   steven| 55-64 Male  on Treatment for 1 to 6 m...   \n",
       "24           24   fdtopp3| 65-74 Male  on Treatment for 1 to le...   \n",
       "25           25   Tramadol| 55-64 Female  on Treatment for 2 to...   \n",
       "26           26   Ban Tramadol| 45-54 on Treatment for 1 to 6 m...   \n",
       "27           27   lee| 65-74 Male  on Treatment for 1 to 6 mont...   \n",
       "28           28   hillbillygirl| 45-54 Female  on Treatment for...   \n",
       "29           29   BASinc| 75 or over Female  on Treatment for 2...   \n",
       "..          ...                                                ...   \n",
       "970         970   piwacket| 55-64 Female  on Treatment for less...   \n",
       "971         971   Lori| 45-54 Female  on Treatment for 1 to les...   \n",
       "972         972   65-74 Female  on Treatment for less than 1 mo...   \n",
       "973         973   45-54 Female  on Treatment for less than 1 mo...   \n",
       "974         974   davey| 35-44 Male  on Treatment for 1 to 6 mo...   \n",
       "975         975   55-64 Female  on Treatment for 2 to less than...   \n",
       "976         976   gs| 19-24 Female  on Treatment for less than ...   \n",
       "977         977   foxylady7| 25-34 Female  on Treatment for 1 t...   \n",
       "978         978   whitl107| 55-64 Male  on Treatment for less t...   \n",
       "979         979   [email protected]| 45-54 Female  on Treatment...   \n",
       "980         980   susan11160| 45-54 Female  on Treatment for le...   \n",
       "981         981   paperioprincess5| 45-54 Female  on Treatment ...   \n",
       "982         982   jaguar| 65-74 Male  on Treatment for 1 to les...   \n",
       "983         983   avons77| 75 or over Male  on Treatment for 1 ...   \n",
       "984         984   marge10| 65-74 Female  on Treatment for less ...   \n",
       "985         985   tammyeller87 yahoo.com| 25-34 Female  on Trea...   \n",
       "986         986   Chris| 35-44 Male  on Treatment for 5 to less...   \n",
       "987         987   ghost| 35-44 Female  on Treatment for less th...   \n",
       "988         988   vcowan| 45-54 Female  on Treatment for 2 to l...   \n",
       "989         989   Bugjuice| 55-64 Female  on Treatment for 5 to...   \n",
       "990         990   25-34 Female  on Treatment for 1 to less than...   \n",
       "991         991   [email protected]| 55-64 Female  on Treatment...   \n",
       "992         992   25-34 Female  on Treatment for 1 to 6 months ...   \n",
       "993         993   45-54 Female  on Treatment for less than 1 mo...   \n",
       "994         994   65-74 Male  on Treatment for less than 1 mont...   \n",
       "995         995   35-44 Female  on Treatment for less than 1 mo...   \n",
       "996         996   [email protected]| 45-54 Female  on Treatment...   \n",
       "997         997   35-44 Female  on Treatment for less than 1 mo...   \n",
       "998         998   sdbraz| 35-44 Female  on Treatment for 2 to l...   \n",
       "999         999                                                      \n",
       "\n",
       "      Effectiveness_Rating   Ease_of_Use_Rating   Satisfaction_Rating  \n",
       "0                        2                    2                     1  \n",
       "1                        1                    5                     1  \n",
       "2                        1                    4                     2  \n",
       "3                        1                    1                     1  \n",
       "4                        5                    5                     5  \n",
       "5                        4                    4                     4  \n",
       "6                        1                    3                     2  \n",
       "7                        2                    2                     1  \n",
       "8                        3                    2                     2  \n",
       "9                        1                    5                     1  \n",
       "10                       2                    5                     1  \n",
       "11                       5                    5                     5  \n",
       "12                       1                    1                     1  \n",
       "13                       5                    5                     5  \n",
       "14                       5                    5                     5  \n",
       "15                       4                    4                     4  \n",
       "16                       1                    3                     1  \n",
       "17                       5                    5                     5  \n",
       "18                       2                    1                     1  \n",
       "19                       1                    1                     1  \n",
       "20                       1                    3                     1  \n",
       "21                       5                    5                     5  \n",
       "22                       1                    5                     1  \n",
       "23                       5                    5                     5  \n",
       "24                       5                    5                     5  \n",
       "25                       5                    1                     1  \n",
       "26                       1                    1                     1  \n",
       "27                       5                    5                     5  \n",
       "28                       5                    5                     5  \n",
       "29                       5                    5                     5  \n",
       "..                     ...                  ...                   ...  \n",
       "970                      4                    5                     5  \n",
       "971                      4                    5                     5  \n",
       "972                      3                    5                     3  \n",
       "973                      4                    5                     5  \n",
       "974                      1                    2                     1  \n",
       "975                      5                    5                     5  \n",
       "976                      1                    1                     1  \n",
       "977                      3                    4                     3  \n",
       "978                      5                    5                     5  \n",
       "979                      3                    3                     2  \n",
       "980                      4                    4                     2  \n",
       "981                      5                    5                     5  \n",
       "982                      3                    3                     3  \n",
       "983                      3                    3                     3  \n",
       "984                      4                    5                     4  \n",
       "985                      2                    1                     1  \n",
       "986                      5                    4                     5  \n",
       "987                      1                    5                     1  \n",
       "988                      4                    5                     2  \n",
       "989                      4                    5                     5  \n",
       "990                      3                    3                     2  \n",
       "991                      3                    3                     3  \n",
       "992                      1                    5                     1  \n",
       "993                      3                    5                     3  \n",
       "994                      1                    5                     1  \n",
       "995                      1                    4                     1  \n",
       "996                      4                    5                     3  \n",
       "997                      2                    5                     1  \n",
       "998                      4                    4                     4  \n",
       "999                      3                    5                     2  \n",
       "\n",
       "[1000 rows x 5 columns]"
      ]
     },
     "execution_count": 62,
     "metadata": {},
     "output_type": "execute_result"
    },
    {
     "data": {
      "text/html": [
       "<div>\n",
       "<style scoped>\n",
       "    .dataframe tbody tr th:only-of-type {\n",
       "        vertical-align: middle;\n",
       "    }\n",
       "\n",
       "    .dataframe tbody tr th {\n",
       "        vertical-align: top;\n",
       "    }\n",
       "\n",
       "    .dataframe thead th {\n",
       "        text-align: right;\n",
       "    }\n",
       "</style>\n",
       "<table border=\"1\" class=\"dataframe\">\n",
       "  <thead>\n",
       "    <tr style=\"text-align: right;\">\n",
       "      <th></th>\n",
       "      <th>Unnamed: 0</th>\n",
       "      <th>Reviewer_Details</th>\n",
       "      <th>Effectiveness_Rating</th>\n",
       "      <th>Ease_of_Use_Rating</th>\n",
       "      <th>Satisfaction_Rating</th>\n",
       "      <th>Comment</th>\n",
       "      <th>Gender</th>\n",
       "    </tr>\n",
       "  </thead>\n",
       "  <tbody>\n",
       "    <tr>\n",
       "      <th>0</th>\n",
       "      <td>0</td>\n",
       "      <td>Newbie | 35-44 on Treatment for 1 to 6 months...</td>\n",
       "      <td>2</td>\n",
       "      <td>2</td>\n",
       "      <td>1</td>\n",
       "      <td>Didnâ??t rich the neevevosin ! Wastef</td>\n",
       "      <td>NaN</td>\n",
       "    </tr>\n",
       "    <tr>\n",
       "      <th>1</th>\n",
       "      <td>1</td>\n",
       "      <td>45-54 on Treatment for less than 1 month (Pat...</td>\n",
       "      <td>1</td>\n",
       "      <td>5</td>\n",
       "      <td>1</td>\n",
       "      <td>I was prescribed this for the nerve pain that ...</td>\n",
       "      <td>NaN</td>\n",
       "    </tr>\n",
       "    <tr>\n",
       "      <th>2</th>\n",
       "      <td>2</td>\n",
       "      <td>Ocetech| 65-74 Male  on Treatment for 10 year...</td>\n",
       "      <td>1</td>\n",
       "      <td>4</td>\n",
       "      <td>2</td>\n",
       "      <td>Tramadol does help a bit with the ghost pain i...</td>\n",
       "      <td>Male</td>\n",
       "    </tr>\n",
       "    <tr>\n",
       "      <th>3</th>\n",
       "      <td>3</td>\n",
       "      <td>virleo| 55-64 Female  on Treatment for less t...</td>\n",
       "      <td>1</td>\n",
       "      <td>1</td>\n",
       "      <td>1</td>\n",
       "      <td>A few years ago a doctor at an urgent care cli...</td>\n",
       "      <td>Female</td>\n",
       "    </tr>\n",
       "    <tr>\n",
       "      <th>4</th>\n",
       "      <td>4</td>\n",
       "      <td>Diane perrin| 65-74 on Treatment for 2 to les...</td>\n",
       "      <td>5</td>\n",
       "      <td>5</td>\n",
       "      <td>5</td>\n",
       "      <td>I couldn't be happier with this medication. I ...</td>\n",
       "      <td>NaN</td>\n",
       "    </tr>\n",
       "    <tr>\n",
       "      <th>5</th>\n",
       "      <td>5</td>\n",
       "      <td>Mtdwnurse1| 45-54 Female  on Treatment for 6 ...</td>\n",
       "      <td>4</td>\n",
       "      <td>4</td>\n",
       "      <td>4</td>\n",
       "      <td>After my neck fusion to my cervical C5|6|7| bo...</td>\n",
       "      <td>Female</td>\n",
       "    </tr>\n",
       "    <tr>\n",
       "      <th>6</th>\n",
       "      <td>6</td>\n",
       "      <td>meposide|  Male  on Treatment for 5 to less t...</td>\n",
       "      <td>1</td>\n",
       "      <td>3</td>\n",
       "      <td>2</td>\n",
       "      <td>NaN</td>\n",
       "      <td>Male</td>\n",
       "    </tr>\n",
       "    <tr>\n",
       "      <th>7</th>\n",
       "      <td>7</td>\n",
       "      <td>FBigPharma| 35-44 on Treatment for 1 to 6 mon...</td>\n",
       "      <td>2</td>\n",
       "      <td>2</td>\n",
       "      <td>1</td>\n",
       "      <td>Try being perscribed 120 20MG OxyCodone a mont...</td>\n",
       "      <td>NaN</td>\n",
       "    </tr>\n",
       "    <tr>\n",
       "      <th>8</th>\n",
       "      <td>8</td>\n",
       "      <td>Foots55| 65-74 Female  on Treatment for 1 to ...</td>\n",
       "      <td>3</td>\n",
       "      <td>2</td>\n",
       "      <td>2</td>\n",
       "      <td>It’s been ok but had others that worked better</td>\n",
       "      <td>Female</td>\n",
       "    </tr>\n",
       "    <tr>\n",
       "      <th>9</th>\n",
       "      <td>9</td>\n",
       "      <td>GoneRacin24| 65-74 Female  on Treatment for 1...</td>\n",
       "      <td>1</td>\n",
       "      <td>5</td>\n",
       "      <td>1</td>\n",
       "      <td>Severe neuropathic pain in left leg into my to...</td>\n",
       "      <td>Female</td>\n",
       "    </tr>\n",
       "    <tr>\n",
       "      <th>10</th>\n",
       "      <td>10</td>\n",
       "      <td>75 or over Male  on Treatment for less than 1...</td>\n",
       "      <td>2</td>\n",
       "      <td>5</td>\n",
       "      <td>1</td>\n",
       "      <td>Pain relief was minimal. I had almost all the ...</td>\n",
       "      <td>Male</td>\n",
       "    </tr>\n",
       "    <tr>\n",
       "      <th>11</th>\n",
       "      <td>11</td>\n",
       "      <td>Karen | 45-54 on Treatment for 5 to less than...</td>\n",
       "      <td>5</td>\n",
       "      <td>5</td>\n",
       "      <td>5</td>\n",
       "      <td>I have been taking Tramadol for five years for...</td>\n",
       "      <td>NaN</td>\n",
       "    </tr>\n",
       "    <tr>\n",
       "      <th>12</th>\n",
       "      <td>12</td>\n",
       "      <td>TXBONNIEBELLE| 65-74 on Treatment for less th...</td>\n",
       "      <td>1</td>\n",
       "      <td>1</td>\n",
       "      <td>1</td>\n",
       "      <td>I asked my doctor for pain relief that was str...</td>\n",
       "      <td>NaN</td>\n",
       "    </tr>\n",
       "    <tr>\n",
       "      <th>13</th>\n",
       "      <td>13</td>\n",
       "      <td>55-64 Female  on Treatment for 2 to less than...</td>\n",
       "      <td>5</td>\n",
       "      <td>5</td>\n",
       "      <td>5</td>\n",
       "      <td>I get the ones Mfg Virtus Pharmacey. It is ova...</td>\n",
       "      <td>Female</td>\n",
       "    </tr>\n",
       "    <tr>\n",
       "      <th>14</th>\n",
       "      <td>14</td>\n",
       "      <td>MamaTato.Org| 25-34 on Treatment for less tha...</td>\n",
       "      <td>5</td>\n",
       "      <td>5</td>\n",
       "      <td>5</td>\n",
       "      <td>In general| the medicine is not bad| it pains ...</td>\n",
       "      <td>NaN</td>\n",
       "    </tr>\n",
       "    <tr>\n",
       "      <th>15</th>\n",
       "      <td>15</td>\n",
       "      <td>Allison | 55-64 on Treatment for 5 to less th...</td>\n",
       "      <td>4</td>\n",
       "      <td>4</td>\n",
       "      <td>4</td>\n",
       "      <td>I have been diagnosed with so many issues. Iâ?...</td>\n",
       "      <td>NaN</td>\n",
       "    </tr>\n",
       "    <tr>\n",
       "      <th>16</th>\n",
       "      <td>16</td>\n",
       "      <td>Suffering| 45-54 Female  (Patient)</td>\n",
       "      <td>1</td>\n",
       "      <td>3</td>\n",
       "      <td>1</td>\n",
       "      <td>Thanks to Govt im in pain everyday this is lik...</td>\n",
       "      <td>Female</td>\n",
       "    </tr>\n",
       "    <tr>\n",
       "      <th>17</th>\n",
       "      <td>17</td>\n",
       "      <td>Ketsie|  Female  on Treatment for 1 to less t...</td>\n",
       "      <td>5</td>\n",
       "      <td>5</td>\n",
       "      <td>5</td>\n",
       "      <td>Took severe pain away. Hand and neck arthritis...</td>\n",
       "      <td>Female</td>\n",
       "    </tr>\n",
       "    <tr>\n",
       "      <th>18</th>\n",
       "      <td>18</td>\n",
       "      <td>Ejb1951| 65-74 Female  on Treatment for less ...</td>\n",
       "      <td>2</td>\n",
       "      <td>1</td>\n",
       "      <td>1</td>\n",
       "      <td>It helped for a couple days than my mouth &amp; to...</td>\n",
       "      <td>Female</td>\n",
       "    </tr>\n",
       "    <tr>\n",
       "      <th>19</th>\n",
       "      <td>19</td>\n",
       "      <td>Ann | 65-74 on Treatment for less than 1 mont...</td>\n",
       "      <td>1</td>\n",
       "      <td>1</td>\n",
       "      <td>1</td>\n",
       "      <td>If you are sensitive and easily have allergic ...</td>\n",
       "      <td>NaN</td>\n",
       "    </tr>\n",
       "    <tr>\n",
       "      <th>20</th>\n",
       "      <td>20</td>\n",
       "      <td>plantGranny| 45-54 Female  on Treatment for 6...</td>\n",
       "      <td>1</td>\n",
       "      <td>3</td>\n",
       "      <td>1</td>\n",
       "      <td>Does not have any effect whatsoever on my pain...</td>\n",
       "      <td>Female</td>\n",
       "    </tr>\n",
       "    <tr>\n",
       "      <th>21</th>\n",
       "      <td>21</td>\n",
       "      <td>maf166windstream.net| 65-74 Male  on Treatmen...</td>\n",
       "      <td>5</td>\n",
       "      <td>5</td>\n",
       "      <td>5</td>\n",
       "      <td>I have ankylosing spondylitis and 8 to 10 grad...</td>\n",
       "      <td>Male</td>\n",
       "    </tr>\n",
       "    <tr>\n",
       "      <th>22</th>\n",
       "      <td>22</td>\n",
       "      <td>55-64 Female  on Treatment for less than 1 mo...</td>\n",
       "      <td>1</td>\n",
       "      <td>5</td>\n",
       "      <td>1</td>\n",
       "      <td>This does not work for me at all.  Ibuprofen i...</td>\n",
       "      <td>Female</td>\n",
       "    </tr>\n",
       "    <tr>\n",
       "      <th>23</th>\n",
       "      <td>23</td>\n",
       "      <td>steven| 55-64 Male  on Treatment for 1 to 6 m...</td>\n",
       "      <td>5</td>\n",
       "      <td>5</td>\n",
       "      <td>5</td>\n",
       "      <td>Been suffering Generalized Anxiety Disorder fo...</td>\n",
       "      <td>Male</td>\n",
       "    </tr>\n",
       "    <tr>\n",
       "      <th>24</th>\n",
       "      <td>24</td>\n",
       "      <td>fdtopp3| 65-74 Male  on Treatment for 1 to le...</td>\n",
       "      <td>5</td>\n",
       "      <td>5</td>\n",
       "      <td>5</td>\n",
       "      <td>Sciatic pain in right leg that without Tramado...</td>\n",
       "      <td>Male</td>\n",
       "    </tr>\n",
       "    <tr>\n",
       "      <th>25</th>\n",
       "      <td>25</td>\n",
       "      <td>Tramadol| 55-64 Female  on Treatment for 2 to...</td>\n",
       "      <td>5</td>\n",
       "      <td>1</td>\n",
       "      <td>1</td>\n",
       "      <td>I have to take this when I get back spasms| bu...</td>\n",
       "      <td>Female</td>\n",
       "    </tr>\n",
       "    <tr>\n",
       "      <th>26</th>\n",
       "      <td>26</td>\n",
       "      <td>Ban Tramadol| 45-54 on Treatment for 1 to 6 m...</td>\n",
       "      <td>1</td>\n",
       "      <td>1</td>\n",
       "      <td>1</td>\n",
       "      <td>DO NOT USE THIS DANGEROUS MEDICINE!! I can't b...</td>\n",
       "      <td>NaN</td>\n",
       "    </tr>\n",
       "    <tr>\n",
       "      <th>27</th>\n",
       "      <td>27</td>\n",
       "      <td>lee| 65-74 Male  on Treatment for 1 to 6 mont...</td>\n",
       "      <td>5</td>\n",
       "      <td>5</td>\n",
       "      <td>5</td>\n",
       "      <td>I have pain in my intestines caused by side ef...</td>\n",
       "      <td>Male</td>\n",
       "    </tr>\n",
       "    <tr>\n",
       "      <th>28</th>\n",
       "      <td>28</td>\n",
       "      <td>hillbillygirl| 45-54 Female  on Treatment for...</td>\n",
       "      <td>5</td>\n",
       "      <td>5</td>\n",
       "      <td>5</td>\n",
       "      <td>ad the worst UTI in my life. Er gave me this i...</td>\n",
       "      <td>Female</td>\n",
       "    </tr>\n",
       "    <tr>\n",
       "      <th>29</th>\n",
       "      <td>29</td>\n",
       "      <td>BASinc| 75 or over Female  on Treatment for 2...</td>\n",
       "      <td>5</td>\n",
       "      <td>5</td>\n",
       "      <td>5</td>\n",
       "      <td>Spondylolisthesis with stenosis. Arthritis in ...</td>\n",
       "      <td>Female</td>\n",
       "    </tr>\n",
       "    <tr>\n",
       "      <th>...</th>\n",
       "      <td>...</td>\n",
       "      <td>...</td>\n",
       "      <td>...</td>\n",
       "      <td>...</td>\n",
       "      <td>...</td>\n",
       "      <td>...</td>\n",
       "      <td>...</td>\n",
       "    </tr>\n",
       "    <tr>\n",
       "      <th>970</th>\n",
       "      <td>970</td>\n",
       "      <td>piwacket| 55-64 Female  on Treatment for less...</td>\n",
       "      <td>4</td>\n",
       "      <td>5</td>\n",
       "      <td>5</td>\n",
       "      <td>NaN</td>\n",
       "      <td>Female</td>\n",
       "    </tr>\n",
       "    <tr>\n",
       "      <th>971</th>\n",
       "      <td>971</td>\n",
       "      <td>Lori| 45-54 Female  on Treatment for 1 to les...</td>\n",
       "      <td>4</td>\n",
       "      <td>5</td>\n",
       "      <td>5</td>\n",
       "      <td>I have been taking Tramadol 50mg for over a ye...</td>\n",
       "      <td>Female</td>\n",
       "    </tr>\n",
       "    <tr>\n",
       "      <th>972</th>\n",
       "      <td>972</td>\n",
       "      <td>65-74 Female  on Treatment for less than 1 mo...</td>\n",
       "      <td>3</td>\n",
       "      <td>5</td>\n",
       "      <td>3</td>\n",
       "      <td>NaN</td>\n",
       "      <td>Female</td>\n",
       "    </tr>\n",
       "    <tr>\n",
       "      <th>973</th>\n",
       "      <td>973</td>\n",
       "      <td>45-54 Female  on Treatment for less than 1 mo...</td>\n",
       "      <td>4</td>\n",
       "      <td>5</td>\n",
       "      <td>5</td>\n",
       "      <td>NaN</td>\n",
       "      <td>Female</td>\n",
       "    </tr>\n",
       "    <tr>\n",
       "      <th>974</th>\n",
       "      <td>974</td>\n",
       "      <td>davey| 35-44 Male  on Treatment for 1 to 6 mo...</td>\n",
       "      <td>1</td>\n",
       "      <td>2</td>\n",
       "      <td>1</td>\n",
       "      <td>I have lower back pain| I had the shot| then m...</td>\n",
       "      <td>Male</td>\n",
       "    </tr>\n",
       "    <tr>\n",
       "      <th>975</th>\n",
       "      <td>975</td>\n",
       "      <td>55-64 Female  on Treatment for 2 to less than...</td>\n",
       "      <td>5</td>\n",
       "      <td>5</td>\n",
       "      <td>5</td>\n",
       "      <td>I have Multiple Sclerosis and this drug really...</td>\n",
       "      <td>Female</td>\n",
       "    </tr>\n",
       "    <tr>\n",
       "      <th>976</th>\n",
       "      <td>976</td>\n",
       "      <td>gs| 19-24 Female  on Treatment for less than ...</td>\n",
       "      <td>1</td>\n",
       "      <td>1</td>\n",
       "      <td>1</td>\n",
       "      <td>I was prescribed Tramadol today by my doctor f...</td>\n",
       "      <td>Female</td>\n",
       "    </tr>\n",
       "    <tr>\n",
       "      <th>977</th>\n",
       "      <td>977</td>\n",
       "      <td>foxylady7| 25-34 Female  on Treatment for 1 t...</td>\n",
       "      <td>3</td>\n",
       "      <td>4</td>\n",
       "      <td>3</td>\n",
       "      <td>I have knee problems| also lower back and neck...</td>\n",
       "      <td>Female</td>\n",
       "    </tr>\n",
       "    <tr>\n",
       "      <th>978</th>\n",
       "      <td>978</td>\n",
       "      <td>whitl107| 55-64 Male  on Treatment for less t...</td>\n",
       "      <td>5</td>\n",
       "      <td>5</td>\n",
       "      <td>5</td>\n",
       "      <td>I have not had any type of side effects.  I ta...</td>\n",
       "      <td>Male</td>\n",
       "    </tr>\n",
       "    <tr>\n",
       "      <th>979</th>\n",
       "      <td>979</td>\n",
       "      <td>[email protected]| 45-54 Female  on Treatment...</td>\n",
       "      <td>3</td>\n",
       "      <td>3</td>\n",
       "      <td>2</td>\n",
       "      <td>sweats like crazy 2 and chills with tremor</td>\n",
       "      <td>Female</td>\n",
       "    </tr>\n",
       "    <tr>\n",
       "      <th>980</th>\n",
       "      <td>980</td>\n",
       "      <td>susan11160| 45-54 Female  on Treatment for le...</td>\n",
       "      <td>4</td>\n",
       "      <td>4</td>\n",
       "      <td>2</td>\n",
       "      <td>ad knee replaced. Took it before and now after...</td>\n",
       "      <td>Female</td>\n",
       "    </tr>\n",
       "    <tr>\n",
       "      <th>981</th>\n",
       "      <td>981</td>\n",
       "      <td>paperioprincess5| 45-54 Female  on Treatment ...</td>\n",
       "      <td>5</td>\n",
       "      <td>5</td>\n",
       "      <td>5</td>\n",
       "      <td>I have been dealing with my rotator cuffs.  Su...</td>\n",
       "      <td>Female</td>\n",
       "    </tr>\n",
       "    <tr>\n",
       "      <th>982</th>\n",
       "      <td>982</td>\n",
       "      <td>jaguar| 65-74 Male  on Treatment for 1 to les...</td>\n",
       "      <td>3</td>\n",
       "      <td>3</td>\n",
       "      <td>3</td>\n",
       "      <td>rectal bleeding stomach pa</td>\n",
       "      <td>Male</td>\n",
       "    </tr>\n",
       "    <tr>\n",
       "      <th>983</th>\n",
       "      <td>983</td>\n",
       "      <td>avons77| 75 or over Male  on Treatment for 1 ...</td>\n",
       "      <td>3</td>\n",
       "      <td>3</td>\n",
       "      <td>3</td>\n",
       "      <td>NaN</td>\n",
       "      <td>Male</td>\n",
       "    </tr>\n",
       "    <tr>\n",
       "      <th>984</th>\n",
       "      <td>984</td>\n",
       "      <td>marge10| 65-74 Female  on Treatment for less ...</td>\n",
       "      <td>4</td>\n",
       "      <td>5</td>\n",
       "      <td>4</td>\n",
       "      <td>NaN</td>\n",
       "      <td>Female</td>\n",
       "    </tr>\n",
       "    <tr>\n",
       "      <th>985</th>\n",
       "      <td>985</td>\n",
       "      <td>tammyeller87 yahoo.com| 25-34 Female  on Trea...</td>\n",
       "      <td>2</td>\n",
       "      <td>1</td>\n",
       "      <td>1</td>\n",
       "      <td>I have chronic cellulitis in both legs and Dr....</td>\n",
       "      <td>Female</td>\n",
       "    </tr>\n",
       "    <tr>\n",
       "      <th>986</th>\n",
       "      <td>986</td>\n",
       "      <td>Chris| 35-44 Male  on Treatment for 5 to less...</td>\n",
       "      <td>5</td>\n",
       "      <td>4</td>\n",
       "      <td>5</td>\n",
       "      <td>ad a burning nerve pain in shoulder for years ...</td>\n",
       "      <td>Male</td>\n",
       "    </tr>\n",
       "    <tr>\n",
       "      <th>987</th>\n",
       "      <td>987</td>\n",
       "      <td>ghost| 35-44 Female  on Treatment for less th...</td>\n",
       "      <td>1</td>\n",
       "      <td>5</td>\n",
       "      <td>1</td>\n",
       "      <td>My sister took this medication and it killed h...</td>\n",
       "      <td>Female</td>\n",
       "    </tr>\n",
       "    <tr>\n",
       "      <th>988</th>\n",
       "      <td>988</td>\n",
       "      <td>vcowan| 45-54 Female  on Treatment for 2 to l...</td>\n",
       "      <td>4</td>\n",
       "      <td>5</td>\n",
       "      <td>2</td>\n",
       "      <td>This has very little pain relief for me.  The ...</td>\n",
       "      <td>Female</td>\n",
       "    </tr>\n",
       "    <tr>\n",
       "      <th>989</th>\n",
       "      <td>989</td>\n",
       "      <td>Bugjuice| 55-64 Female  on Treatment for 5 to...</td>\n",
       "      <td>4</td>\n",
       "      <td>5</td>\n",
       "      <td>5</td>\n",
       "      <td>Tramadol lessens my arthritic pain| but is ine...</td>\n",
       "      <td>Female</td>\n",
       "    </tr>\n",
       "    <tr>\n",
       "      <th>990</th>\n",
       "      <td>990</td>\n",
       "      <td>25-34 Female  on Treatment for 1 to less than...</td>\n",
       "      <td>3</td>\n",
       "      <td>3</td>\n",
       "      <td>2</td>\n",
       "      <td>This medication was less effective than I'd ho...</td>\n",
       "      <td>Female</td>\n",
       "    </tr>\n",
       "    <tr>\n",
       "      <th>991</th>\n",
       "      <td>991</td>\n",
       "      <td>[email protected]| 55-64 Female  on Treatment...</td>\n",
       "      <td>3</td>\n",
       "      <td>3</td>\n",
       "      <td>3</td>\n",
       "      <td>'t last long enought|and don't completleystop ...</td>\n",
       "      <td>Female</td>\n",
       "    </tr>\n",
       "    <tr>\n",
       "      <th>992</th>\n",
       "      <td>992</td>\n",
       "      <td>25-34 Female  on Treatment for 1 to 6 months ...</td>\n",
       "      <td>1</td>\n",
       "      <td>5</td>\n",
       "      <td>1</td>\n",
       "      <td>NaN</td>\n",
       "      <td>Female</td>\n",
       "    </tr>\n",
       "    <tr>\n",
       "      <th>993</th>\n",
       "      <td>993</td>\n",
       "      <td>45-54 Female  on Treatment for less than 1 mo...</td>\n",
       "      <td>3</td>\n",
       "      <td>5</td>\n",
       "      <td>3</td>\n",
       "      <td>NaN</td>\n",
       "      <td>Female</td>\n",
       "    </tr>\n",
       "    <tr>\n",
       "      <th>994</th>\n",
       "      <td>994</td>\n",
       "      <td>65-74 Male  on Treatment for less than 1 mont...</td>\n",
       "      <td>1</td>\n",
       "      <td>5</td>\n",
       "      <td>1</td>\n",
       "      <td>ave sciatica nerve pain tramadol had no effect...</td>\n",
       "      <td>Male</td>\n",
       "    </tr>\n",
       "    <tr>\n",
       "      <th>995</th>\n",
       "      <td>995</td>\n",
       "      <td>35-44 Female  on Treatment for less than 1 mo...</td>\n",
       "      <td>1</td>\n",
       "      <td>4</td>\n",
       "      <td>1</td>\n",
       "      <td>his medication made me: have heart palpatation...</td>\n",
       "      <td>Female</td>\n",
       "    </tr>\n",
       "    <tr>\n",
       "      <th>996</th>\n",
       "      <td>996</td>\n",
       "      <td>[email protected]| 45-54 Female  on Treatment...</td>\n",
       "      <td>4</td>\n",
       "      <td>5</td>\n",
       "      <td>3</td>\n",
       "      <td>NaN</td>\n",
       "      <td>Female</td>\n",
       "    </tr>\n",
       "    <tr>\n",
       "      <th>997</th>\n",
       "      <td>997</td>\n",
       "      <td>35-44 Female  on Treatment for less than 1 mo...</td>\n",
       "      <td>2</td>\n",
       "      <td>5</td>\n",
       "      <td>1</td>\n",
       "      <td>I took this med for severe menstrual cramps.  ...</td>\n",
       "      <td>Female</td>\n",
       "    </tr>\n",
       "    <tr>\n",
       "      <th>998</th>\n",
       "      <td>998</td>\n",
       "      <td>sdbraz| 35-44 Female  on Treatment for 2 to l...</td>\n",
       "      <td>4</td>\n",
       "      <td>4</td>\n",
       "      <td>4</td>\n",
       "      <td>I have taken Tramadol for years for my Fibromy...</td>\n",
       "      <td>Female</td>\n",
       "    </tr>\n",
       "    <tr>\n",
       "      <th>999</th>\n",
       "      <td>999</td>\n",
       "      <td></td>\n",
       "      <td>3</td>\n",
       "      <td>5</td>\n",
       "      <td>2</td>\n",
       "      <td>I liked the fact that it took away my pain| bu...</td>\n",
       "      <td>NaN</td>\n",
       "    </tr>\n",
       "  </tbody>\n",
       "</table>\n",
       "<p>1000 rows × 7 columns</p>\n",
       "</div>"
      ],
      "text/plain": [
       "     Unnamed: 0                                   Reviewer_Details  \\\n",
       "0             0   Newbie | 35-44 on Treatment for 1 to 6 months...   \n",
       "1             1   45-54 on Treatment for less than 1 month (Pat...   \n",
       "2             2   Ocetech| 65-74 Male  on Treatment for 10 year...   \n",
       "3             3   virleo| 55-64 Female  on Treatment for less t...   \n",
       "4             4   Diane perrin| 65-74 on Treatment for 2 to les...   \n",
       "5             5   Mtdwnurse1| 45-54 Female  on Treatment for 6 ...   \n",
       "6             6   meposide|  Male  on Treatment for 5 to less t...   \n",
       "7             7   FBigPharma| 35-44 on Treatment for 1 to 6 mon...   \n",
       "8             8   Foots55| 65-74 Female  on Treatment for 1 to ...   \n",
       "9             9   GoneRacin24| 65-74 Female  on Treatment for 1...   \n",
       "10           10   75 or over Male  on Treatment for less than 1...   \n",
       "11           11   Karen | 45-54 on Treatment for 5 to less than...   \n",
       "12           12   TXBONNIEBELLE| 65-74 on Treatment for less th...   \n",
       "13           13   55-64 Female  on Treatment for 2 to less than...   \n",
       "14           14   MamaTato.Org| 25-34 on Treatment for less tha...   \n",
       "15           15   Allison | 55-64 on Treatment for 5 to less th...   \n",
       "16           16                Suffering| 45-54 Female  (Patient)    \n",
       "17           17   Ketsie|  Female  on Treatment for 1 to less t...   \n",
       "18           18   Ejb1951| 65-74 Female  on Treatment for less ...   \n",
       "19           19   Ann | 65-74 on Treatment for less than 1 mont...   \n",
       "20           20   plantGranny| 45-54 Female  on Treatment for 6...   \n",
       "21           21   maf166windstream.net| 65-74 Male  on Treatmen...   \n",
       "22           22   55-64 Female  on Treatment for less than 1 mo...   \n",
       "23           23   steven| 55-64 Male  on Treatment for 1 to 6 m...   \n",
       "24           24   fdtopp3| 65-74 Male  on Treatment for 1 to le...   \n",
       "25           25   Tramadol| 55-64 Female  on Treatment for 2 to...   \n",
       "26           26   Ban Tramadol| 45-54 on Treatment for 1 to 6 m...   \n",
       "27           27   lee| 65-74 Male  on Treatment for 1 to 6 mont...   \n",
       "28           28   hillbillygirl| 45-54 Female  on Treatment for...   \n",
       "29           29   BASinc| 75 or over Female  on Treatment for 2...   \n",
       "..          ...                                                ...   \n",
       "970         970   piwacket| 55-64 Female  on Treatment for less...   \n",
       "971         971   Lori| 45-54 Female  on Treatment for 1 to les...   \n",
       "972         972   65-74 Female  on Treatment for less than 1 mo...   \n",
       "973         973   45-54 Female  on Treatment for less than 1 mo...   \n",
       "974         974   davey| 35-44 Male  on Treatment for 1 to 6 mo...   \n",
       "975         975   55-64 Female  on Treatment for 2 to less than...   \n",
       "976         976   gs| 19-24 Female  on Treatment for less than ...   \n",
       "977         977   foxylady7| 25-34 Female  on Treatment for 1 t...   \n",
       "978         978   whitl107| 55-64 Male  on Treatment for less t...   \n",
       "979         979   [email protected]| 45-54 Female  on Treatment...   \n",
       "980         980   susan11160| 45-54 Female  on Treatment for le...   \n",
       "981         981   paperioprincess5| 45-54 Female  on Treatment ...   \n",
       "982         982   jaguar| 65-74 Male  on Treatment for 1 to les...   \n",
       "983         983   avons77| 75 or over Male  on Treatment for 1 ...   \n",
       "984         984   marge10| 65-74 Female  on Treatment for less ...   \n",
       "985         985   tammyeller87 yahoo.com| 25-34 Female  on Trea...   \n",
       "986         986   Chris| 35-44 Male  on Treatment for 5 to less...   \n",
       "987         987   ghost| 35-44 Female  on Treatment for less th...   \n",
       "988         988   vcowan| 45-54 Female  on Treatment for 2 to l...   \n",
       "989         989   Bugjuice| 55-64 Female  on Treatment for 5 to...   \n",
       "990         990   25-34 Female  on Treatment for 1 to less than...   \n",
       "991         991   [email protected]| 55-64 Female  on Treatment...   \n",
       "992         992   25-34 Female  on Treatment for 1 to 6 months ...   \n",
       "993         993   45-54 Female  on Treatment for less than 1 mo...   \n",
       "994         994   65-74 Male  on Treatment for less than 1 mont...   \n",
       "995         995   35-44 Female  on Treatment for less than 1 mo...   \n",
       "996         996   [email protected]| 45-54 Female  on Treatment...   \n",
       "997         997   35-44 Female  on Treatment for less than 1 mo...   \n",
       "998         998   sdbraz| 35-44 Female  on Treatment for 2 to l...   \n",
       "999         999                                                      \n",
       "\n",
       "      Effectiveness_Rating   Ease_of_Use_Rating   Satisfaction_Rating  \\\n",
       "0                        2                    2                     1   \n",
       "1                        1                    5                     1   \n",
       "2                        1                    4                     2   \n",
       "3                        1                    1                     1   \n",
       "4                        5                    5                     5   \n",
       "5                        4                    4                     4   \n",
       "6                        1                    3                     2   \n",
       "7                        2                    2                     1   \n",
       "8                        3                    2                     2   \n",
       "9                        1                    5                     1   \n",
       "10                       2                    5                     1   \n",
       "11                       5                    5                     5   \n",
       "12                       1                    1                     1   \n",
       "13                       5                    5                     5   \n",
       "14                       5                    5                     5   \n",
       "15                       4                    4                     4   \n",
       "16                       1                    3                     1   \n",
       "17                       5                    5                     5   \n",
       "18                       2                    1                     1   \n",
       "19                       1                    1                     1   \n",
       "20                       1                    3                     1   \n",
       "21                       5                    5                     5   \n",
       "22                       1                    5                     1   \n",
       "23                       5                    5                     5   \n",
       "24                       5                    5                     5   \n",
       "25                       5                    1                     1   \n",
       "26                       1                    1                     1   \n",
       "27                       5                    5                     5   \n",
       "28                       5                    5                     5   \n",
       "29                       5                    5                     5   \n",
       "..                     ...                  ...                   ...   \n",
       "970                      4                    5                     5   \n",
       "971                      4                    5                     5   \n",
       "972                      3                    5                     3   \n",
       "973                      4                    5                     5   \n",
       "974                      1                    2                     1   \n",
       "975                      5                    5                     5   \n",
       "976                      1                    1                     1   \n",
       "977                      3                    4                     3   \n",
       "978                      5                    5                     5   \n",
       "979                      3                    3                     2   \n",
       "980                      4                    4                     2   \n",
       "981                      5                    5                     5   \n",
       "982                      3                    3                     3   \n",
       "983                      3                    3                     3   \n",
       "984                      4                    5                     4   \n",
       "985                      2                    1                     1   \n",
       "986                      5                    4                     5   \n",
       "987                      1                    5                     1   \n",
       "988                      4                    5                     2   \n",
       "989                      4                    5                     5   \n",
       "990                      3                    3                     2   \n",
       "991                      3                    3                     3   \n",
       "992                      1                    5                     1   \n",
       "993                      3                    5                     3   \n",
       "994                      1                    5                     1   \n",
       "995                      1                    4                     1   \n",
       "996                      4                    5                     3   \n",
       "997                      2                    5                     1   \n",
       "998                      4                    4                     4   \n",
       "999                      3                    5                     2   \n",
       "\n",
       "                                               Comment  Gender  \n",
       "0                Didnâ??t rich the neevevosin ! Wastef     NaN  \n",
       "1    I was prescribed this for the nerve pain that ...     NaN  \n",
       "2    Tramadol does help a bit with the ghost pain i...    Male  \n",
       "3    A few years ago a doctor at an urgent care cli...  Female  \n",
       "4    I couldn't be happier with this medication. I ...     NaN  \n",
       "5    After my neck fusion to my cervical C5|6|7| bo...  Female  \n",
       "6                                                  NaN    Male  \n",
       "7    Try being perscribed 120 20MG OxyCodone a mont...     NaN  \n",
       "8       It’s been ok but had others that worked better  Female  \n",
       "9    Severe neuropathic pain in left leg into my to...  Female  \n",
       "10   Pain relief was minimal. I had almost all the ...    Male  \n",
       "11   I have been taking Tramadol for five years for...     NaN  \n",
       "12   I asked my doctor for pain relief that was str...     NaN  \n",
       "13   I get the ones Mfg Virtus Pharmacey. It is ova...  Female  \n",
       "14   In general| the medicine is not bad| it pains ...     NaN  \n",
       "15   I have been diagnosed with so many issues. Iâ?...     NaN  \n",
       "16   Thanks to Govt im in pain everyday this is lik...  Female  \n",
       "17   Took severe pain away. Hand and neck arthritis...  Female  \n",
       "18   It helped for a couple days than my mouth & to...  Female  \n",
       "19   If you are sensitive and easily have allergic ...     NaN  \n",
       "20   Does not have any effect whatsoever on my pain...  Female  \n",
       "21   I have ankylosing spondylitis and 8 to 10 grad...    Male  \n",
       "22   This does not work for me at all.  Ibuprofen i...  Female  \n",
       "23   Been suffering Generalized Anxiety Disorder fo...    Male  \n",
       "24   Sciatic pain in right leg that without Tramado...    Male  \n",
       "25   I have to take this when I get back spasms| bu...  Female  \n",
       "26   DO NOT USE THIS DANGEROUS MEDICINE!! I can't b...     NaN  \n",
       "27   I have pain in my intestines caused by side ef...    Male  \n",
       "28   ad the worst UTI in my life. Er gave me this i...  Female  \n",
       "29   Spondylolisthesis with stenosis. Arthritis in ...  Female  \n",
       "..                                                 ...     ...  \n",
       "970                                                NaN  Female  \n",
       "971  I have been taking Tramadol 50mg for over a ye...  Female  \n",
       "972                                                NaN  Female  \n",
       "973                                                NaN  Female  \n",
       "974  I have lower back pain| I had the shot| then m...    Male  \n",
       "975  I have Multiple Sclerosis and this drug really...  Female  \n",
       "976  I was prescribed Tramadol today by my doctor f...  Female  \n",
       "977  I have knee problems| also lower back and neck...  Female  \n",
       "978  I have not had any type of side effects.  I ta...    Male  \n",
       "979         sweats like crazy 2 and chills with tremor  Female  \n",
       "980  ad knee replaced. Took it before and now after...  Female  \n",
       "981  I have been dealing with my rotator cuffs.  Su...  Female  \n",
       "982                         rectal bleeding stomach pa    Male  \n",
       "983                                                NaN    Male  \n",
       "984                                                NaN  Female  \n",
       "985  I have chronic cellulitis in both legs and Dr....  Female  \n",
       "986  ad a burning nerve pain in shoulder for years ...    Male  \n",
       "987  My sister took this medication and it killed h...  Female  \n",
       "988  This has very little pain relief for me.  The ...  Female  \n",
       "989  Tramadol lessens my arthritic pain| but is ine...  Female  \n",
       "990  This medication was less effective than I'd ho...  Female  \n",
       "991  't last long enought|and don't completleystop ...  Female  \n",
       "992                                                NaN  Female  \n",
       "993                                                NaN  Female  \n",
       "994  ave sciatica nerve pain tramadol had no effect...    Male  \n",
       "995  his medication made me: have heart palpatation...  Female  \n",
       "996                                                NaN  Female  \n",
       "997  I took this med for severe menstrual cramps.  ...  Female  \n",
       "998  I have taken Tramadol for years for my Fibromy...  Female  \n",
       "999  I liked the fact that it took away my pain| bu...     NaN  \n",
       "\n",
       "[1000 rows x 7 columns]"
      ]
     },
     "execution_count": 62,
     "metadata": {},
     "output_type": "execute_result"
    },
    {
     "data": {
      "text/plain": [
       "Unnamed: 0               0\n",
       "Reviewer_Details         0\n",
       " Effectiveness_Rating    0\n",
       " Ease_of_Use_Rating      0\n",
       " Satisfaction_Rating     0\n",
       " Comment                 0\n",
       "Gender                   0\n",
       "dtype: int64"
      ]
     },
     "execution_count": 62,
     "metadata": {},
     "output_type": "execute_result"
    },
    {
     "data": {
      "text/html": [
       "<div>\n",
       "<style scoped>\n",
       "    .dataframe tbody tr th:only-of-type {\n",
       "        vertical-align: middle;\n",
       "    }\n",
       "\n",
       "    .dataframe tbody tr th {\n",
       "        vertical-align: top;\n",
       "    }\n",
       "\n",
       "    .dataframe thead th {\n",
       "        text-align: right;\n",
       "    }\n",
       "</style>\n",
       "<table border=\"1\" class=\"dataframe\">\n",
       "  <thead>\n",
       "    <tr style=\"text-align: right;\">\n",
       "      <th></th>\n",
       "      <th>Unnamed: 0</th>\n",
       "      <th>Reviewer_Details</th>\n",
       "      <th>Effectiveness_Rating</th>\n",
       "      <th>Ease_of_Use_Rating</th>\n",
       "      <th>Satisfaction_Rating</th>\n",
       "      <th>Comment</th>\n",
       "      <th>Gender</th>\n",
       "    </tr>\n",
       "  </thead>\n",
       "  <tbody>\n",
       "    <tr>\n",
       "      <th>2</th>\n",
       "      <td>2</td>\n",
       "      <td>Ocetech| 65-74 Male  on Treatment for 10 year...</td>\n",
       "      <td>1</td>\n",
       "      <td>4</td>\n",
       "      <td>2</td>\n",
       "      <td>Tramadol does help a bit with the ghost pain i...</td>\n",
       "      <td>Male</td>\n",
       "    </tr>\n",
       "    <tr>\n",
       "      <th>3</th>\n",
       "      <td>3</td>\n",
       "      <td>virleo| 55-64 Female  on Treatment for less t...</td>\n",
       "      <td>1</td>\n",
       "      <td>1</td>\n",
       "      <td>1</td>\n",
       "      <td>A few years ago a doctor at an urgent care cli...</td>\n",
       "      <td>Female</td>\n",
       "    </tr>\n",
       "    <tr>\n",
       "      <th>5</th>\n",
       "      <td>5</td>\n",
       "      <td>Mtdwnurse1| 45-54 Female  on Treatment for 6 ...</td>\n",
       "      <td>4</td>\n",
       "      <td>4</td>\n",
       "      <td>4</td>\n",
       "      <td>After my neck fusion to my cervical C5|6|7| bo...</td>\n",
       "      <td>Female</td>\n",
       "    </tr>\n",
       "    <tr>\n",
       "      <th>8</th>\n",
       "      <td>8</td>\n",
       "      <td>Foots55| 65-74 Female  on Treatment for 1 to ...</td>\n",
       "      <td>3</td>\n",
       "      <td>2</td>\n",
       "      <td>2</td>\n",
       "      <td>It’s been ok but had others that worked better</td>\n",
       "      <td>Female</td>\n",
       "    </tr>\n",
       "    <tr>\n",
       "      <th>9</th>\n",
       "      <td>9</td>\n",
       "      <td>GoneRacin24| 65-74 Female  on Treatment for 1...</td>\n",
       "      <td>1</td>\n",
       "      <td>5</td>\n",
       "      <td>1</td>\n",
       "      <td>Severe neuropathic pain in left leg into my to...</td>\n",
       "      <td>Female</td>\n",
       "    </tr>\n",
       "    <tr>\n",
       "      <th>10</th>\n",
       "      <td>10</td>\n",
       "      <td>75 or over Male  on Treatment for less than 1...</td>\n",
       "      <td>2</td>\n",
       "      <td>5</td>\n",
       "      <td>1</td>\n",
       "      <td>Pain relief was minimal. I had almost all the ...</td>\n",
       "      <td>Male</td>\n",
       "    </tr>\n",
       "    <tr>\n",
       "      <th>13</th>\n",
       "      <td>13</td>\n",
       "      <td>55-64 Female  on Treatment for 2 to less than...</td>\n",
       "      <td>5</td>\n",
       "      <td>5</td>\n",
       "      <td>5</td>\n",
       "      <td>I get the ones Mfg Virtus Pharmacey. It is ova...</td>\n",
       "      <td>Female</td>\n",
       "    </tr>\n",
       "    <tr>\n",
       "      <th>16</th>\n",
       "      <td>16</td>\n",
       "      <td>Suffering| 45-54 Female  (Patient)</td>\n",
       "      <td>1</td>\n",
       "      <td>3</td>\n",
       "      <td>1</td>\n",
       "      <td>Thanks to Govt im in pain everyday this is lik...</td>\n",
       "      <td>Female</td>\n",
       "    </tr>\n",
       "    <tr>\n",
       "      <th>17</th>\n",
       "      <td>17</td>\n",
       "      <td>Ketsie|  Female  on Treatment for 1 to less t...</td>\n",
       "      <td>5</td>\n",
       "      <td>5</td>\n",
       "      <td>5</td>\n",
       "      <td>Took severe pain away. Hand and neck arthritis...</td>\n",
       "      <td>Female</td>\n",
       "    </tr>\n",
       "    <tr>\n",
       "      <th>18</th>\n",
       "      <td>18</td>\n",
       "      <td>Ejb1951| 65-74 Female  on Treatment for less ...</td>\n",
       "      <td>2</td>\n",
       "      <td>1</td>\n",
       "      <td>1</td>\n",
       "      <td>It helped for a couple days than my mouth &amp; to...</td>\n",
       "      <td>Female</td>\n",
       "    </tr>\n",
       "    <tr>\n",
       "      <th>20</th>\n",
       "      <td>20</td>\n",
       "      <td>plantGranny| 45-54 Female  on Treatment for 6...</td>\n",
       "      <td>1</td>\n",
       "      <td>3</td>\n",
       "      <td>1</td>\n",
       "      <td>Does not have any effect whatsoever on my pain...</td>\n",
       "      <td>Female</td>\n",
       "    </tr>\n",
       "    <tr>\n",
       "      <th>21</th>\n",
       "      <td>21</td>\n",
       "      <td>maf166windstream.net| 65-74 Male  on Treatmen...</td>\n",
       "      <td>5</td>\n",
       "      <td>5</td>\n",
       "      <td>5</td>\n",
       "      <td>I have ankylosing spondylitis and 8 to 10 grad...</td>\n",
       "      <td>Male</td>\n",
       "    </tr>\n",
       "    <tr>\n",
       "      <th>22</th>\n",
       "      <td>22</td>\n",
       "      <td>55-64 Female  on Treatment for less than 1 mo...</td>\n",
       "      <td>1</td>\n",
       "      <td>5</td>\n",
       "      <td>1</td>\n",
       "      <td>This does not work for me at all.  Ibuprofen i...</td>\n",
       "      <td>Female</td>\n",
       "    </tr>\n",
       "    <tr>\n",
       "      <th>23</th>\n",
       "      <td>23</td>\n",
       "      <td>steven| 55-64 Male  on Treatment for 1 to 6 m...</td>\n",
       "      <td>5</td>\n",
       "      <td>5</td>\n",
       "      <td>5</td>\n",
       "      <td>Been suffering Generalized Anxiety Disorder fo...</td>\n",
       "      <td>Male</td>\n",
       "    </tr>\n",
       "    <tr>\n",
       "      <th>24</th>\n",
       "      <td>24</td>\n",
       "      <td>fdtopp3| 65-74 Male  on Treatment for 1 to le...</td>\n",
       "      <td>5</td>\n",
       "      <td>5</td>\n",
       "      <td>5</td>\n",
       "      <td>Sciatic pain in right leg that without Tramado...</td>\n",
       "      <td>Male</td>\n",
       "    </tr>\n",
       "    <tr>\n",
       "      <th>25</th>\n",
       "      <td>25</td>\n",
       "      <td>Tramadol| 55-64 Female  on Treatment for 2 to...</td>\n",
       "      <td>5</td>\n",
       "      <td>1</td>\n",
       "      <td>1</td>\n",
       "      <td>I have to take this when I get back spasms| bu...</td>\n",
       "      <td>Female</td>\n",
       "    </tr>\n",
       "    <tr>\n",
       "      <th>27</th>\n",
       "      <td>27</td>\n",
       "      <td>lee| 65-74 Male  on Treatment for 1 to 6 mont...</td>\n",
       "      <td>5</td>\n",
       "      <td>5</td>\n",
       "      <td>5</td>\n",
       "      <td>I have pain in my intestines caused by side ef...</td>\n",
       "      <td>Male</td>\n",
       "    </tr>\n",
       "    <tr>\n",
       "      <th>28</th>\n",
       "      <td>28</td>\n",
       "      <td>hillbillygirl| 45-54 Female  on Treatment for...</td>\n",
       "      <td>5</td>\n",
       "      <td>5</td>\n",
       "      <td>5</td>\n",
       "      <td>ad the worst UTI in my life. Er gave me this i...</td>\n",
       "      <td>Female</td>\n",
       "    </tr>\n",
       "    <tr>\n",
       "      <th>29</th>\n",
       "      <td>29</td>\n",
       "      <td>BASinc| 75 or over Female  on Treatment for 2...</td>\n",
       "      <td>5</td>\n",
       "      <td>5</td>\n",
       "      <td>5</td>\n",
       "      <td>Spondylolisthesis with stenosis. Arthritis in ...</td>\n",
       "      <td>Female</td>\n",
       "    </tr>\n",
       "    <tr>\n",
       "      <th>30</th>\n",
       "      <td>30</td>\n",
       "      <td>25-34 Female  on Treatment for less than 1 mo...</td>\n",
       "      <td>1</td>\n",
       "      <td>3</td>\n",
       "      <td>1</td>\n",
       "      <td>Does not ease my pain and causes my stomach to...</td>\n",
       "      <td>Female</td>\n",
       "    </tr>\n",
       "    <tr>\n",
       "      <th>32</th>\n",
       "      <td>32</td>\n",
       "      <td>Quando62| 55-64 Male  on Treatment for 5 to l...</td>\n",
       "      <td>5</td>\n",
       "      <td>5</td>\n",
       "      <td>5</td>\n",
       "      <td>I was given Tramadol for a toothache. Not grea...</td>\n",
       "      <td>Male</td>\n",
       "    </tr>\n",
       "    <tr>\n",
       "      <th>33</th>\n",
       "      <td>33</td>\n",
       "      <td>Unsatisfied| 55-64 Male  on Treatment for les...</td>\n",
       "      <td>1</td>\n",
       "      <td>5</td>\n",
       "      <td>1</td>\n",
       "      <td>This drug actually caused pain in my right abd...</td>\n",
       "      <td>Male</td>\n",
       "    </tr>\n",
       "    <tr>\n",
       "      <th>34</th>\n",
       "      <td>34</td>\n",
       "      <td>patientX| 55-64 Male  on Treatment for less t...</td>\n",
       "      <td>1</td>\n",
       "      <td>5</td>\n",
       "      <td>1</td>\n",
       "      <td>Does nothing to relieve the pain for my condit...</td>\n",
       "      <td>Male</td>\n",
       "    </tr>\n",
       "    <tr>\n",
       "      <th>35</th>\n",
       "      <td>35</td>\n",
       "      <td>ShoulderSurgery| 55-64 Female  on Treatment f...</td>\n",
       "      <td>3</td>\n",
       "      <td>3</td>\n",
       "      <td>3</td>\n",
       "      <td>Used after shoulder surgery. Allergic to codei...</td>\n",
       "      <td>Female</td>\n",
       "    </tr>\n",
       "    <tr>\n",
       "      <th>36</th>\n",
       "      <td>36</td>\n",
       "      <td>Chronic pain| 35-44 Female  on Treatment for ...</td>\n",
       "      <td>1</td>\n",
       "      <td>2</td>\n",
       "      <td>1</td>\n",
       "      <td>Diagnosis is spinal Stenosis and this did it d...</td>\n",
       "      <td>Female</td>\n",
       "    </tr>\n",
       "    <tr>\n",
       "      <th>37</th>\n",
       "      <td>37</td>\n",
       "      <td>bobo|  Male  on Treatment for 1 to 6 months (...</td>\n",
       "      <td>2</td>\n",
       "      <td>5</td>\n",
       "      <td>1</td>\n",
       "      <td>very mild pain relief.</td>\n",
       "      <td>Male</td>\n",
       "    </tr>\n",
       "    <tr>\n",
       "      <th>40</th>\n",
       "      <td>40</td>\n",
       "      <td>Mytiggertiger| 45-54 Female  on Treatment for...</td>\n",
       "      <td>3</td>\n",
       "      <td>5</td>\n",
       "      <td>4</td>\n",
       "      <td>r years ago I injured my hamstring and pretty ...</td>\n",
       "      <td>Female</td>\n",
       "    </tr>\n",
       "    <tr>\n",
       "      <th>41</th>\n",
       "      <td>41</td>\n",
       "      <td>Christy| 45-54 Female  on Treatment for less ...</td>\n",
       "      <td>5</td>\n",
       "      <td>5</td>\n",
       "      <td>5</td>\n",
       "      <td>I have been newly diagnosed with arthritis in ...</td>\n",
       "      <td>Female</td>\n",
       "    </tr>\n",
       "    <tr>\n",
       "      <th>42</th>\n",
       "      <td>42</td>\n",
       "      <td>Mytiggertiger| 45-54 Female  on Treatment for...</td>\n",
       "      <td>4</td>\n",
       "      <td>5</td>\n",
       "      <td>5</td>\n",
       "      <td>r years ago I injured my hamstring and pretty ...</td>\n",
       "      <td>Female</td>\n",
       "    </tr>\n",
       "    <tr>\n",
       "      <th>44</th>\n",
       "      <td>44</td>\n",
       "      <td>reglptrt| 55-64 Male  on Treatment for less t...</td>\n",
       "      <td>2</td>\n",
       "      <td>5</td>\n",
       "      <td>2</td>\n",
       "      <td>Sadly| did not alleviate my pain.</td>\n",
       "      <td>Male</td>\n",
       "    </tr>\n",
       "    <tr>\n",
       "      <th>...</th>\n",
       "      <td>...</td>\n",
       "      <td>...</td>\n",
       "      <td>...</td>\n",
       "      <td>...</td>\n",
       "      <td>...</td>\n",
       "      <td>...</td>\n",
       "      <td>...</td>\n",
       "    </tr>\n",
       "    <tr>\n",
       "      <th>959</th>\n",
       "      <td>959</td>\n",
       "      <td>d clark 68w| 35-44 Male  on Treatment for 6 m...</td>\n",
       "      <td>2</td>\n",
       "      <td>1</td>\n",
       "      <td>3</td>\n",
       "      <td>sharp pain that move down my legs</td>\n",
       "      <td>Male</td>\n",
       "    </tr>\n",
       "    <tr>\n",
       "      <th>961</th>\n",
       "      <td>961</td>\n",
       "      <td>kat| 45-54 Female  on Treatment for 2 to less...</td>\n",
       "      <td>5</td>\n",
       "      <td>5</td>\n",
       "      <td>3</td>\n",
       "      <td>have taken this medication for about three yrs...</td>\n",
       "      <td>Female</td>\n",
       "    </tr>\n",
       "    <tr>\n",
       "      <th>962</th>\n",
       "      <td>962</td>\n",
       "      <td>No relief for chronic pain| 25-34 Female  on ...</td>\n",
       "      <td>1</td>\n",
       "      <td>5</td>\n",
       "      <td>1</td>\n",
       "      <td>I find this medicine to make me feel itchy and...</td>\n",
       "      <td>Female</td>\n",
       "    </tr>\n",
       "    <tr>\n",
       "      <th>964</th>\n",
       "      <td>964</td>\n",
       "      <td>Rob| 25-34 Male  on Treatment for 1 to less t...</td>\n",
       "      <td>4</td>\n",
       "      <td>5</td>\n",
       "      <td>5</td>\n",
       "      <td>Originally prescribed for muscle spasms in my ...</td>\n",
       "      <td>Male</td>\n",
       "    </tr>\n",
       "    <tr>\n",
       "      <th>965</th>\n",
       "      <td>965</td>\n",
       "      <td>35-44 Female  on Treatment for 2 to less than...</td>\n",
       "      <td>3</td>\n",
       "      <td>5</td>\n",
       "      <td>3</td>\n",
       "      <td>I have Fibromyalgia| and before I had lost my ...</td>\n",
       "      <td>Female</td>\n",
       "    </tr>\n",
       "    <tr>\n",
       "      <th>966</th>\n",
       "      <td>966</td>\n",
       "      <td>babybelle4| 55-64 Female  on Treatment for 1 ...</td>\n",
       "      <td>1</td>\n",
       "      <td>4</td>\n",
       "      <td>1</td>\n",
       "      <td>I simply did not get any pain relief with this...</td>\n",
       "      <td>Female</td>\n",
       "    </tr>\n",
       "    <tr>\n",
       "      <th>967</th>\n",
       "      <td>967</td>\n",
       "      <td>45-54 Male  on Treatment for 2 to less than 5...</td>\n",
       "      <td>4</td>\n",
       "      <td>4</td>\n",
       "      <td>5</td>\n",
       "      <td>fibro-m symptoms for years. lyrica worked thou...</td>\n",
       "      <td>Male</td>\n",
       "    </tr>\n",
       "    <tr>\n",
       "      <th>968</th>\n",
       "      <td>968</td>\n",
       "      <td>bbuice| 55-64 Female  on Treatment for 2 to l...</td>\n",
       "      <td>4</td>\n",
       "      <td>4</td>\n",
       "      <td>4</td>\n",
       "      <td>I have taken tramadol for 4 years now as a onl...</td>\n",
       "      <td>Female</td>\n",
       "    </tr>\n",
       "    <tr>\n",
       "      <th>969</th>\n",
       "      <td>969</td>\n",
       "      <td>speedyg| 35-44 Female  on Treatment for 1 to ...</td>\n",
       "      <td>4</td>\n",
       "      <td>4</td>\n",
       "      <td>3</td>\n",
       "      <td>I have Osteoarthritis In just about every join...</td>\n",
       "      <td>Female</td>\n",
       "    </tr>\n",
       "    <tr>\n",
       "      <th>971</th>\n",
       "      <td>971</td>\n",
       "      <td>Lori| 45-54 Female  on Treatment for 1 to les...</td>\n",
       "      <td>4</td>\n",
       "      <td>5</td>\n",
       "      <td>5</td>\n",
       "      <td>I have been taking Tramadol 50mg for over a ye...</td>\n",
       "      <td>Female</td>\n",
       "    </tr>\n",
       "    <tr>\n",
       "      <th>974</th>\n",
       "      <td>974</td>\n",
       "      <td>davey| 35-44 Male  on Treatment for 1 to 6 mo...</td>\n",
       "      <td>1</td>\n",
       "      <td>2</td>\n",
       "      <td>1</td>\n",
       "      <td>I have lower back pain| I had the shot| then m...</td>\n",
       "      <td>Male</td>\n",
       "    </tr>\n",
       "    <tr>\n",
       "      <th>975</th>\n",
       "      <td>975</td>\n",
       "      <td>55-64 Female  on Treatment for 2 to less than...</td>\n",
       "      <td>5</td>\n",
       "      <td>5</td>\n",
       "      <td>5</td>\n",
       "      <td>I have Multiple Sclerosis and this drug really...</td>\n",
       "      <td>Female</td>\n",
       "    </tr>\n",
       "    <tr>\n",
       "      <th>976</th>\n",
       "      <td>976</td>\n",
       "      <td>gs| 19-24 Female  on Treatment for less than ...</td>\n",
       "      <td>1</td>\n",
       "      <td>1</td>\n",
       "      <td>1</td>\n",
       "      <td>I was prescribed Tramadol today by my doctor f...</td>\n",
       "      <td>Female</td>\n",
       "    </tr>\n",
       "    <tr>\n",
       "      <th>977</th>\n",
       "      <td>977</td>\n",
       "      <td>foxylady7| 25-34 Female  on Treatment for 1 t...</td>\n",
       "      <td>3</td>\n",
       "      <td>4</td>\n",
       "      <td>3</td>\n",
       "      <td>I have knee problems| also lower back and neck...</td>\n",
       "      <td>Female</td>\n",
       "    </tr>\n",
       "    <tr>\n",
       "      <th>978</th>\n",
       "      <td>978</td>\n",
       "      <td>whitl107| 55-64 Male  on Treatment for less t...</td>\n",
       "      <td>5</td>\n",
       "      <td>5</td>\n",
       "      <td>5</td>\n",
       "      <td>I have not had any type of side effects.  I ta...</td>\n",
       "      <td>Male</td>\n",
       "    </tr>\n",
       "    <tr>\n",
       "      <th>979</th>\n",
       "      <td>979</td>\n",
       "      <td>[email protected]| 45-54 Female  on Treatment...</td>\n",
       "      <td>3</td>\n",
       "      <td>3</td>\n",
       "      <td>2</td>\n",
       "      <td>sweats like crazy 2 and chills with tremor</td>\n",
       "      <td>Female</td>\n",
       "    </tr>\n",
       "    <tr>\n",
       "      <th>980</th>\n",
       "      <td>980</td>\n",
       "      <td>susan11160| 45-54 Female  on Treatment for le...</td>\n",
       "      <td>4</td>\n",
       "      <td>4</td>\n",
       "      <td>2</td>\n",
       "      <td>ad knee replaced. Took it before and now after...</td>\n",
       "      <td>Female</td>\n",
       "    </tr>\n",
       "    <tr>\n",
       "      <th>981</th>\n",
       "      <td>981</td>\n",
       "      <td>paperioprincess5| 45-54 Female  on Treatment ...</td>\n",
       "      <td>5</td>\n",
       "      <td>5</td>\n",
       "      <td>5</td>\n",
       "      <td>I have been dealing with my rotator cuffs.  Su...</td>\n",
       "      <td>Female</td>\n",
       "    </tr>\n",
       "    <tr>\n",
       "      <th>982</th>\n",
       "      <td>982</td>\n",
       "      <td>jaguar| 65-74 Male  on Treatment for 1 to les...</td>\n",
       "      <td>3</td>\n",
       "      <td>3</td>\n",
       "      <td>3</td>\n",
       "      <td>rectal bleeding stomach pa</td>\n",
       "      <td>Male</td>\n",
       "    </tr>\n",
       "    <tr>\n",
       "      <th>985</th>\n",
       "      <td>985</td>\n",
       "      <td>tammyeller87 yahoo.com| 25-34 Female  on Trea...</td>\n",
       "      <td>2</td>\n",
       "      <td>1</td>\n",
       "      <td>1</td>\n",
       "      <td>I have chronic cellulitis in both legs and Dr....</td>\n",
       "      <td>Female</td>\n",
       "    </tr>\n",
       "    <tr>\n",
       "      <th>986</th>\n",
       "      <td>986</td>\n",
       "      <td>Chris| 35-44 Male  on Treatment for 5 to less...</td>\n",
       "      <td>5</td>\n",
       "      <td>4</td>\n",
       "      <td>5</td>\n",
       "      <td>ad a burning nerve pain in shoulder for years ...</td>\n",
       "      <td>Male</td>\n",
       "    </tr>\n",
       "    <tr>\n",
       "      <th>987</th>\n",
       "      <td>987</td>\n",
       "      <td>ghost| 35-44 Female  on Treatment for less th...</td>\n",
       "      <td>1</td>\n",
       "      <td>5</td>\n",
       "      <td>1</td>\n",
       "      <td>My sister took this medication and it killed h...</td>\n",
       "      <td>Female</td>\n",
       "    </tr>\n",
       "    <tr>\n",
       "      <th>988</th>\n",
       "      <td>988</td>\n",
       "      <td>vcowan| 45-54 Female  on Treatment for 2 to l...</td>\n",
       "      <td>4</td>\n",
       "      <td>5</td>\n",
       "      <td>2</td>\n",
       "      <td>This has very little pain relief for me.  The ...</td>\n",
       "      <td>Female</td>\n",
       "    </tr>\n",
       "    <tr>\n",
       "      <th>989</th>\n",
       "      <td>989</td>\n",
       "      <td>Bugjuice| 55-64 Female  on Treatment for 5 to...</td>\n",
       "      <td>4</td>\n",
       "      <td>5</td>\n",
       "      <td>5</td>\n",
       "      <td>Tramadol lessens my arthritic pain| but is ine...</td>\n",
       "      <td>Female</td>\n",
       "    </tr>\n",
       "    <tr>\n",
       "      <th>990</th>\n",
       "      <td>990</td>\n",
       "      <td>25-34 Female  on Treatment for 1 to less than...</td>\n",
       "      <td>3</td>\n",
       "      <td>3</td>\n",
       "      <td>2</td>\n",
       "      <td>This medication was less effective than I'd ho...</td>\n",
       "      <td>Female</td>\n",
       "    </tr>\n",
       "    <tr>\n",
       "      <th>991</th>\n",
       "      <td>991</td>\n",
       "      <td>[email protected]| 55-64 Female  on Treatment...</td>\n",
       "      <td>3</td>\n",
       "      <td>3</td>\n",
       "      <td>3</td>\n",
       "      <td>'t last long enought|and don't completleystop ...</td>\n",
       "      <td>Female</td>\n",
       "    </tr>\n",
       "    <tr>\n",
       "      <th>994</th>\n",
       "      <td>994</td>\n",
       "      <td>65-74 Male  on Treatment for less than 1 mont...</td>\n",
       "      <td>1</td>\n",
       "      <td>5</td>\n",
       "      <td>1</td>\n",
       "      <td>ave sciatica nerve pain tramadol had no effect...</td>\n",
       "      <td>Male</td>\n",
       "    </tr>\n",
       "    <tr>\n",
       "      <th>995</th>\n",
       "      <td>995</td>\n",
       "      <td>35-44 Female  on Treatment for less than 1 mo...</td>\n",
       "      <td>1</td>\n",
       "      <td>4</td>\n",
       "      <td>1</td>\n",
       "      <td>his medication made me: have heart palpatation...</td>\n",
       "      <td>Female</td>\n",
       "    </tr>\n",
       "    <tr>\n",
       "      <th>997</th>\n",
       "      <td>997</td>\n",
       "      <td>35-44 Female  on Treatment for less than 1 mo...</td>\n",
       "      <td>2</td>\n",
       "      <td>5</td>\n",
       "      <td>1</td>\n",
       "      <td>I took this med for severe menstrual cramps.  ...</td>\n",
       "      <td>Female</td>\n",
       "    </tr>\n",
       "    <tr>\n",
       "      <th>998</th>\n",
       "      <td>998</td>\n",
       "      <td>sdbraz| 35-44 Female  on Treatment for 2 to l...</td>\n",
       "      <td>4</td>\n",
       "      <td>4</td>\n",
       "      <td>4</td>\n",
       "      <td>I have taken Tramadol for years for my Fibromy...</td>\n",
       "      <td>Female</td>\n",
       "    </tr>\n",
       "  </tbody>\n",
       "</table>\n",
       "<p>781 rows × 7 columns</p>\n",
       "</div>"
      ],
      "text/plain": [
       "     Unnamed: 0                                   Reviewer_Details  \\\n",
       "2             2   Ocetech| 65-74 Male  on Treatment for 10 year...   \n",
       "3             3   virleo| 55-64 Female  on Treatment for less t...   \n",
       "5             5   Mtdwnurse1| 45-54 Female  on Treatment for 6 ...   \n",
       "8             8   Foots55| 65-74 Female  on Treatment for 1 to ...   \n",
       "9             9   GoneRacin24| 65-74 Female  on Treatment for 1...   \n",
       "10           10   75 or over Male  on Treatment for less than 1...   \n",
       "13           13   55-64 Female  on Treatment for 2 to less than...   \n",
       "16           16                Suffering| 45-54 Female  (Patient)    \n",
       "17           17   Ketsie|  Female  on Treatment for 1 to less t...   \n",
       "18           18   Ejb1951| 65-74 Female  on Treatment for less ...   \n",
       "20           20   plantGranny| 45-54 Female  on Treatment for 6...   \n",
       "21           21   maf166windstream.net| 65-74 Male  on Treatmen...   \n",
       "22           22   55-64 Female  on Treatment for less than 1 mo...   \n",
       "23           23   steven| 55-64 Male  on Treatment for 1 to 6 m...   \n",
       "24           24   fdtopp3| 65-74 Male  on Treatment for 1 to le...   \n",
       "25           25   Tramadol| 55-64 Female  on Treatment for 2 to...   \n",
       "27           27   lee| 65-74 Male  on Treatment for 1 to 6 mont...   \n",
       "28           28   hillbillygirl| 45-54 Female  on Treatment for...   \n",
       "29           29   BASinc| 75 or over Female  on Treatment for 2...   \n",
       "30           30   25-34 Female  on Treatment for less than 1 mo...   \n",
       "32           32   Quando62| 55-64 Male  on Treatment for 5 to l...   \n",
       "33           33   Unsatisfied| 55-64 Male  on Treatment for les...   \n",
       "34           34   patientX| 55-64 Male  on Treatment for less t...   \n",
       "35           35   ShoulderSurgery| 55-64 Female  on Treatment f...   \n",
       "36           36   Chronic pain| 35-44 Female  on Treatment for ...   \n",
       "37           37   bobo|  Male  on Treatment for 1 to 6 months (...   \n",
       "40           40   Mytiggertiger| 45-54 Female  on Treatment for...   \n",
       "41           41   Christy| 45-54 Female  on Treatment for less ...   \n",
       "42           42   Mytiggertiger| 45-54 Female  on Treatment for...   \n",
       "44           44   reglptrt| 55-64 Male  on Treatment for less t...   \n",
       "..          ...                                                ...   \n",
       "959         959   d clark 68w| 35-44 Male  on Treatment for 6 m...   \n",
       "961         961   kat| 45-54 Female  on Treatment for 2 to less...   \n",
       "962         962   No relief for chronic pain| 25-34 Female  on ...   \n",
       "964         964   Rob| 25-34 Male  on Treatment for 1 to less t...   \n",
       "965         965   35-44 Female  on Treatment for 2 to less than...   \n",
       "966         966   babybelle4| 55-64 Female  on Treatment for 1 ...   \n",
       "967         967   45-54 Male  on Treatment for 2 to less than 5...   \n",
       "968         968   bbuice| 55-64 Female  on Treatment for 2 to l...   \n",
       "969         969   speedyg| 35-44 Female  on Treatment for 1 to ...   \n",
       "971         971   Lori| 45-54 Female  on Treatment for 1 to les...   \n",
       "974         974   davey| 35-44 Male  on Treatment for 1 to 6 mo...   \n",
       "975         975   55-64 Female  on Treatment for 2 to less than...   \n",
       "976         976   gs| 19-24 Female  on Treatment for less than ...   \n",
       "977         977   foxylady7| 25-34 Female  on Treatment for 1 t...   \n",
       "978         978   whitl107| 55-64 Male  on Treatment for less t...   \n",
       "979         979   [email protected]| 45-54 Female  on Treatment...   \n",
       "980         980   susan11160| 45-54 Female  on Treatment for le...   \n",
       "981         981   paperioprincess5| 45-54 Female  on Treatment ...   \n",
       "982         982   jaguar| 65-74 Male  on Treatment for 1 to les...   \n",
       "985         985   tammyeller87 yahoo.com| 25-34 Female  on Trea...   \n",
       "986         986   Chris| 35-44 Male  on Treatment for 5 to less...   \n",
       "987         987   ghost| 35-44 Female  on Treatment for less th...   \n",
       "988         988   vcowan| 45-54 Female  on Treatment for 2 to l...   \n",
       "989         989   Bugjuice| 55-64 Female  on Treatment for 5 to...   \n",
       "990         990   25-34 Female  on Treatment for 1 to less than...   \n",
       "991         991   [email protected]| 55-64 Female  on Treatment...   \n",
       "994         994   65-74 Male  on Treatment for less than 1 mont...   \n",
       "995         995   35-44 Female  on Treatment for less than 1 mo...   \n",
       "997         997   35-44 Female  on Treatment for less than 1 mo...   \n",
       "998         998   sdbraz| 35-44 Female  on Treatment for 2 to l...   \n",
       "\n",
       "      Effectiveness_Rating   Ease_of_Use_Rating   Satisfaction_Rating  \\\n",
       "2                        1                    4                     2   \n",
       "3                        1                    1                     1   \n",
       "5                        4                    4                     4   \n",
       "8                        3                    2                     2   \n",
       "9                        1                    5                     1   \n",
       "10                       2                    5                     1   \n",
       "13                       5                    5                     5   \n",
       "16                       1                    3                     1   \n",
       "17                       5                    5                     5   \n",
       "18                       2                    1                     1   \n",
       "20                       1                    3                     1   \n",
       "21                       5                    5                     5   \n",
       "22                       1                    5                     1   \n",
       "23                       5                    5                     5   \n",
       "24                       5                    5                     5   \n",
       "25                       5                    1                     1   \n",
       "27                       5                    5                     5   \n",
       "28                       5                    5                     5   \n",
       "29                       5                    5                     5   \n",
       "30                       1                    3                     1   \n",
       "32                       5                    5                     5   \n",
       "33                       1                    5                     1   \n",
       "34                       1                    5                     1   \n",
       "35                       3                    3                     3   \n",
       "36                       1                    2                     1   \n",
       "37                       2                    5                     1   \n",
       "40                       3                    5                     4   \n",
       "41                       5                    5                     5   \n",
       "42                       4                    5                     5   \n",
       "44                       2                    5                     2   \n",
       "..                     ...                  ...                   ...   \n",
       "959                      2                    1                     3   \n",
       "961                      5                    5                     3   \n",
       "962                      1                    5                     1   \n",
       "964                      4                    5                     5   \n",
       "965                      3                    5                     3   \n",
       "966                      1                    4                     1   \n",
       "967                      4                    4                     5   \n",
       "968                      4                    4                     4   \n",
       "969                      4                    4                     3   \n",
       "971                      4                    5                     5   \n",
       "974                      1                    2                     1   \n",
       "975                      5                    5                     5   \n",
       "976                      1                    1                     1   \n",
       "977                      3                    4                     3   \n",
       "978                      5                    5                     5   \n",
       "979                      3                    3                     2   \n",
       "980                      4                    4                     2   \n",
       "981                      5                    5                     5   \n",
       "982                      3                    3                     3   \n",
       "985                      2                    1                     1   \n",
       "986                      5                    4                     5   \n",
       "987                      1                    5                     1   \n",
       "988                      4                    5                     2   \n",
       "989                      4                    5                     5   \n",
       "990                      3                    3                     2   \n",
       "991                      3                    3                     3   \n",
       "994                      1                    5                     1   \n",
       "995                      1                    4                     1   \n",
       "997                      2                    5                     1   \n",
       "998                      4                    4                     4   \n",
       "\n",
       "                                               Comment  Gender  \n",
       "2    Tramadol does help a bit with the ghost pain i...    Male  \n",
       "3    A few years ago a doctor at an urgent care cli...  Female  \n",
       "5    After my neck fusion to my cervical C5|6|7| bo...  Female  \n",
       "8       It’s been ok but had others that worked better  Female  \n",
       "9    Severe neuropathic pain in left leg into my to...  Female  \n",
       "10   Pain relief was minimal. I had almost all the ...    Male  \n",
       "13   I get the ones Mfg Virtus Pharmacey. It is ova...  Female  \n",
       "16   Thanks to Govt im in pain everyday this is lik...  Female  \n",
       "17   Took severe pain away. Hand and neck arthritis...  Female  \n",
       "18   It helped for a couple days than my mouth & to...  Female  \n",
       "20   Does not have any effect whatsoever on my pain...  Female  \n",
       "21   I have ankylosing spondylitis and 8 to 10 grad...    Male  \n",
       "22   This does not work for me at all.  Ibuprofen i...  Female  \n",
       "23   Been suffering Generalized Anxiety Disorder fo...    Male  \n",
       "24   Sciatic pain in right leg that without Tramado...    Male  \n",
       "25   I have to take this when I get back spasms| bu...  Female  \n",
       "27   I have pain in my intestines caused by side ef...    Male  \n",
       "28   ad the worst UTI in my life. Er gave me this i...  Female  \n",
       "29   Spondylolisthesis with stenosis. Arthritis in ...  Female  \n",
       "30   Does not ease my pain and causes my stomach to...  Female  \n",
       "32   I was given Tramadol for a toothache. Not grea...    Male  \n",
       "33   This drug actually caused pain in my right abd...    Male  \n",
       "34   Does nothing to relieve the pain for my condit...    Male  \n",
       "35   Used after shoulder surgery. Allergic to codei...  Female  \n",
       "36   Diagnosis is spinal Stenosis and this did it d...  Female  \n",
       "37                              very mild pain relief.    Male  \n",
       "40   r years ago I injured my hamstring and pretty ...  Female  \n",
       "41   I have been newly diagnosed with arthritis in ...  Female  \n",
       "42   r years ago I injured my hamstring and pretty ...  Female  \n",
       "44                   Sadly| did not alleviate my pain.    Male  \n",
       "..                                                 ...     ...  \n",
       "959                  sharp pain that move down my legs    Male  \n",
       "961  have taken this medication for about three yrs...  Female  \n",
       "962  I find this medicine to make me feel itchy and...  Female  \n",
       "964  Originally prescribed for muscle spasms in my ...    Male  \n",
       "965  I have Fibromyalgia| and before I had lost my ...  Female  \n",
       "966  I simply did not get any pain relief with this...  Female  \n",
       "967  fibro-m symptoms for years. lyrica worked thou...    Male  \n",
       "968  I have taken tramadol for 4 years now as a onl...  Female  \n",
       "969  I have Osteoarthritis In just about every join...  Female  \n",
       "971  I have been taking Tramadol 50mg for over a ye...  Female  \n",
       "974  I have lower back pain| I had the shot| then m...    Male  \n",
       "975  I have Multiple Sclerosis and this drug really...  Female  \n",
       "976  I was prescribed Tramadol today by my doctor f...  Female  \n",
       "977  I have knee problems| also lower back and neck...  Female  \n",
       "978  I have not had any type of side effects.  I ta...    Male  \n",
       "979         sweats like crazy 2 and chills with tremor  Female  \n",
       "980  ad knee replaced. Took it before and now after...  Female  \n",
       "981  I have been dealing with my rotator cuffs.  Su...  Female  \n",
       "982                         rectal bleeding stomach pa    Male  \n",
       "985  I have chronic cellulitis in both legs and Dr....  Female  \n",
       "986  ad a burning nerve pain in shoulder for years ...    Male  \n",
       "987  My sister took this medication and it killed h...  Female  \n",
       "988  This has very little pain relief for me.  The ...  Female  \n",
       "989  Tramadol lessens my arthritic pain| but is ine...  Female  \n",
       "990  This medication was less effective than I'd ho...  Female  \n",
       "991  't last long enought|and don't completleystop ...  Female  \n",
       "994  ave sciatica nerve pain tramadol had no effect...    Male  \n",
       "995  his medication made me: have heart palpatation...  Female  \n",
       "997  I took this med for severe menstrual cramps.  ...  Female  \n",
       "998  I have taken Tramadol for years for my Fibromy...  Female  \n",
       "\n",
       "[781 rows x 7 columns]"
      ]
     },
     "execution_count": 62,
     "metadata": {},
     "output_type": "execute_result"
    }
   ],
   "source": [
    "# to drop row which contains any NaN, use how='any'\n",
    "df.dropna(axis=1, how='any')  \n",
    "\n",
    "# drop the columns which has less than 3 non-null values\n",
    "df.dropna(axis=1, thresh=3)\n",
    "\n",
    "df2=df.dropna(axis=0, how='any')  \n",
    "\n",
    "#df2\n",
    "\n",
    "#Verifying if any of the rows have null or missing values\n",
    "df2.isnull().sum(axis=0)\n",
    "\n",
    "# Interpolate missing values\n",
    "df2.interpolate(method='linear')"
   ]
  },
  {
   "cell_type": "code",
   "execution_count": 63,
   "metadata": {},
   "outputs": [
    {
     "name": "stdout",
     "output_type": "stream",
     "text": [
      "<class 'pandas.core.frame.DataFrame'>\n",
      "Int64Index: 781 entries, 2 to 998\n",
      "Data columns (total 7 columns):\n",
      "Unnamed: 0               781 non-null int64\n",
      "Reviewer_Details         781 non-null object\n",
      " Effectiveness_Rating    781 non-null int64\n",
      " Ease_of_Use_Rating      781 non-null int64\n",
      " Satisfaction_Rating     781 non-null int64\n",
      " Comment                 781 non-null object\n",
      "Gender                   781 non-null object\n",
      "dtypes: int64(4), object(3)\n",
      "memory usage: 48.8+ KB\n"
     ]
    }
   ],
   "source": [
    "df2=df2.dropna(axis=0, how='any')  \n",
    "df2.info()"
   ]
  },
  {
   "cell_type": "code",
   "execution_count": 64,
   "metadata": {},
   "outputs": [],
   "source": [
    "import seaborn as sns\n",
    "import matplotlib.pyplot as plt"
   ]
  },
  {
   "cell_type": "code",
   "execution_count": 68,
   "metadata": {},
   "outputs": [
    {
     "data": {
      "text/plain": [
       "Index(['Unnamed: 0', 'Reviewer_Details', ' Effectiveness_Rating',\n",
       "       ' Ease_of_Use_Rating', ' Satisfaction_Rating', ' Comment', 'Gender'],\n",
       "      dtype='object')"
      ]
     },
     "execution_count": 68,
     "metadata": {},
     "output_type": "execute_result"
    }
   ],
   "source": [
    "# plot charts inline\n",
    "%matplotlib inline\n",
    "\n",
    "df2.columns"
   ]
  },
  {
   "cell_type": "code",
   "execution_count": 69,
   "metadata": {},
   "outputs": [
    {
     "data": {
      "text/plain": [
       "Female    526\n",
       "Male      255\n",
       "Name: Gender, dtype: int64"
      ]
     },
     "execution_count": 69,
     "metadata": {},
     "output_type": "execute_result"
    },
    {
     "data": {
      "text/plain": [
       "1    239\n",
       "5    228\n",
       "4    146\n",
       "3     98\n",
       "2     70\n",
       "Name:  Satisfaction_Rating, dtype: int64"
      ]
     },
     "execution_count": 69,
     "metadata": {},
     "output_type": "execute_result"
    },
    {
     "data": {
      "text/plain": [
       "5    446\n",
       "4    166\n",
       "3     79\n",
       "1     57\n",
       "2     33\n",
       "Name:  Ease_of_Use_Rating, dtype: int64"
      ]
     },
     "execution_count": 69,
     "metadata": {},
     "output_type": "execute_result"
    },
    {
     "data": {
      "text/plain": [
       "5    220\n",
       "4    186\n",
       "1    155\n",
       "3    131\n",
       "2     89\n",
       "Name:  Effectiveness_Rating, dtype: int64"
      ]
     },
     "execution_count": 69,
     "metadata": {},
     "output_type": "execute_result"
    }
   ],
   "source": [
    "df2['Gender'].value_counts()\n",
    "df2[' Satisfaction_Rating'].value_counts()\n",
    "df2[' Ease_of_Use_Rating'].value_counts()\n",
    "df2[' Effectiveness_Rating'].value_counts()"
   ]
  },
  {
   "cell_type": "code",
   "execution_count": 70,
   "metadata": {},
   "outputs": [
    {
     "data": {
      "image/png": "[encoded data removed]",
      "text/plain": [
       "<Figure size 576x288 with 1 Axes>"
      ]
     },
     "metadata": {},
     "output_type": "display_data"
    }
   ],
   "source": [
    "#\n",
    "ax = df2.Gender.value_counts().plot.barh(figsize = (8,4), title = \"Gender Distribution\");\n",
    "# set labels\n",
    "ax.set(ylabel = \"Gender\", xlabel = \"Count\");\n",
    "##"
   ]
  },
  {
   "cell_type": "code",
   "execution_count": 71,
   "metadata": {},
   "outputs": [
    {
     "data": {
      "image/png": "[encoded data removed]",
      "text/plain": [
       "<Figure size 576x288 with 1 Axes>"
      ]
     },
     "metadata": {},
     "output_type": "display_data"
    }
   ],
   "source": [
    "ax = df2.Gender.value_counts().plot.pie(subplots = True,figsize = (8,4), title = \"Gender Distribution\");\n",
    "\n",
    "#plot = df3.plot.pie(y='mass', figsize=(5, 5))\n",
    "#plot = df3.plot.pie(subplots=True, figsize=(6, 3))"
   ]
  },
  {
   "cell_type": "code",
   "execution_count": 72,
   "metadata": {},
   "outputs": [
    {
     "data": {
      "image/png": "[encoded data removed]",
      "text/plain": [
       "<Figure size 576x288 with 1 Axes>"
      ]
     },
     "metadata": {},
     "output_type": "display_data"
    }
   ],
   "source": [
    "#\n",
    "ax = df2[' Effectiveness_Rating'].value_counts().plot.barh(figsize = (8,4), title = \"Effectiveness Rating Distribution\");\n",
    "# set labels\n",
    "ax.set(ylabel = \"Rating\", xlabel=\"Count\");\n",
    "##"
   ]
  },
  {
   "cell_type": "code",
   "execution_count": 73,
   "metadata": {},
   "outputs": [
    {
     "data": {
      "image/png": "[encoded data removed]",
      "text/plain": [
       "<Figure size 576x288 with 1 Axes>"
      ]
     },
     "metadata": {},
     "output_type": "display_data"
    }
   ],
   "source": [
    "#\n",
    "ax = df2[' Ease_of_Use_Rating'].value_counts().plot.barh(figsize = (8,4), title = \"Ease of Use Rating Distribution\");\n",
    "# set labels\n",
    "ax.set(ylabel = \"Rating\", xlabel = \"Count\");\n",
    "##"
   ]
  },
  {
   "cell_type": "code",
   "execution_count": 74,
   "metadata": {},
   "outputs": [
    {
     "data": {
      "image/png": "[encoded data removed]",
      "text/plain": [
       "<Figure size 576x288 with 1 Axes>"
      ]
     },
     "metadata": {},
     "output_type": "display_data"
    }
   ],
   "source": [
    "\n",
    "ax = df2[' Ease_of_Use_Rating'].value_counts().plot.pie(subplots = True,figsize = (8,4), title = \" Ease of Use Rating\");"
   ]
  },
  {
   "cell_type": "code",
   "execution_count": 75,
   "metadata": {},
   "outputs": [
    {
     "data": {
      "image/png": "[encoded data removed]",
      "text/plain": [
       "<Figure size 576x288 with 1 Axes>"
      ]
     },
     "metadata": {},
     "output_type": "display_data"
    }
   ],
   "source": [
    "\n",
    "ax = df2[' Effectiveness_Rating'].value_counts().plot.pie(subplots = True,figsize = (8,4), title = \"Effectiveness Rating\");\n"
   ]
  },
  {
   "cell_type": "code",
   "execution_count": 76,
   "metadata": {},
   "outputs": [
    {
     "data": {
      "image/png": "[encoded data removed]",
      "text/plain": [
       "<Figure size 576x288 with 1 Axes>"
      ]
     },
     "metadata": {},
     "output_type": "display_data"
    }
   ],
   "source": [
    "#\n",
    "ax = df2[' Satisfaction_Rating'].value_counts().plot.barh(figsize = (8,4), title = \"Satisfaction Rating Distribution\");\n",
    "# set labels\n",
    "ax.set(ylabel = \"Rating\", xlabel = \"Count\");\n",
    "##"
   ]
  },
  {
   "cell_type": "code",
   "execution_count": 77,
   "metadata": {},
   "outputs": [
    {
     "data": {
      "image/png": "[encoded data removed]",
      "text/plain": [
       "<Figure size 576x288 with 1 Axes>"
      ]
     },
     "metadata": {},
     "output_type": "display_data"
    }
   ],
   "source": [
    "\n",
    "ax = df2[' Satisfaction_Rating'].value_counts().plot.pie(subplots = True,figsize = (8,4), title = \"Satisfaction_Rating\");\n"
   ]
  },
  {
   "cell_type": "code",
   "execution_count": 78,
   "metadata": {},
   "outputs": [
    {
     "data": {
      "image/png": "[encoded data removed]",
      "text/plain": [
       "<Figure size 720x360 with 1 Axes>"
      ]
     },
     "metadata": {},
     "output_type": "display_data"
    }
   ],
   "source": [
    "effectivenessRatingColourful = df2[' Effectiveness_Rating'].value_counts().reset_index()\n",
    "effectivenessRatingColourful.columns = [\"Ratings\", \" Effectiveness_Rating\"]\n",
    "effectivenessRatingColourful\n",
    "\n",
    "# set style\n",
    "sns.set_style(\"whitegrid\");\n",
    "\n",
    "plt.figure(figsize=(10,5));\n",
    "sns.barplot(x = 'Ratings',y = ' Effectiveness_Rating', data = effectivenessRatingColourful);\n",
    "plt.show();"
   ]
  },
  {
   "cell_type": "code",
   "execution_count": 79,
   "metadata": {},
   "outputs": [
    {
     "data": {
      "image/png": "[encoded data removed]",
      "text/plain": [
       "<Figure size 576x288 with 1 Axes>"
      ]
     },
     "metadata": {},
     "output_type": "display_data"
    }
   ],
   "source": [
    "ax = df2[' Effectiveness_Rating'].value_counts().plot.pie(subplots = True,figsize = (8,4), title = \"Effectivenss Rating\");"
   ]
  },
  {
   "cell_type": "code",
   "execution_count": 80,
   "metadata": {},
   "outputs": [
    {
     "data": {
      "image/png": "[encoded data removed]",
      "text/plain": [
       "<Figure size 720x360 with 1 Axes>"
      ]
     },
     "metadata": {},
     "output_type": "display_data"
    }
   ],
   "source": [
    "satisfactionRatingColourful = df2[' Satisfaction_Rating'].value_counts().reset_index()\n",
    "satisfactionRatingColourful.columns = [\"Ratings\", \" Satisfaction_Rating\"]\n",
    "satisfactionRatingColourful\n",
    "\n",
    "# set style\n",
    "sns.set_style(\"whitegrid\");\n",
    "\n",
    "plt.figure(figsize = (10,5));\n",
    "sns.barplot(x = 'Ratings',y =' Satisfaction_Rating', data = satisfactionRatingColourful);\n",
    "plt.show();"
   ]
  },
  {
   "cell_type": "code",
   "execution_count": 81,
   "metadata": {},
   "outputs": [
    {
     "data": {
      "image/png": "[encoded data removed]",
      "text/plain": [
       "<Figure size 576x288 with 1 Axes>"
      ]
     },
     "metadata": {},
     "output_type": "display_data"
    }
   ],
   "source": [
    "ax = df2[' Satisfaction_Rating'].value_counts().plot.pie(subplots = True,figsize = (8,4), title = \"Satisfaction Rating\");"
   ]
  },
  {
   "cell_type": "code",
   "execution_count": 82,
   "metadata": {},
   "outputs": [
    {
     "data": {
      "image/png": "[encoded data removed]",
      "text/plain": [
       "<Figure size 720x360 with 1 Axes>"
      ]
     },
     "metadata": {},
     "output_type": "display_data"
    }
   ],
   "source": [
    "genderColourful = df2['Gender'].value_counts().reset_index()\n",
    "genderColourful.columns = [\"Values\", \"Gender\"]\n",
    "genderColourful\n",
    "\n",
    "# set style\n",
    "sns.set_style(\"whitegrid\");\n",
    "\n",
    "plt.figure(figsize = (10,5));\n",
    "sns.barplot(x = 'Values',y ='Gender', data = genderColourful);\n",
    "plt.show();"
   ]
  },
  {
   "cell_type": "code",
   "execution_count": 83,
   "metadata": {},
   "outputs": [
    {
     "data": {
      "image/png": "[encoded data removed]",
      "text/plain": [
       "<Figure size 720x360 with 1 Axes>"
      ]
     },
     "metadata": {},
     "output_type": "display_data"
    }
   ],
   "source": [
    "easeOfUseRatingColourful = df2[' Ease_of_Use_Rating'].value_counts().reset_index()\n",
    "easeOfUseRatingColourful.columns = [\"Ratings\", \" Ease_of_Use_Rating\"]\n",
    "easeOfUseRatingColourful\n",
    "\n",
    "# set style\n",
    "sns.set_style(\"whitegrid\");\n",
    "\n",
    "plt.figure(figsize = (10,5));\n",
    "sns.barplot(x = 'Ratings',y = \" Ease_of_Use_Rating\", data = easeOfUseRatingColourful);\n",
    "plt.show();"
   ]
  },
  {
   "cell_type": "code",
   "execution_count": 84,
   "metadata": {},
   "outputs": [
    {
     "data": {
      "image/png": "[encoded data removed]",
      "text/plain": [
       "<Figure size 576x288 with 1 Axes>"
      ]
     },
     "metadata": {},
     "output_type": "display_data"
    }
   ],
   "source": [
    "# line chart\n",
    "    #not sure if this adds any value to our project - but did it anyway\n",
    "\n",
    "df2.groupby(' Effectiveness_Rating')[' Satisfaction_Rating',' Ease_of_Use_Rating'].mean().plot(kind='line', figsize=(8,4))\\\n",
    ".legend(loc='center left', bbox_to_anchor=(1, 0.5));  # set legend\n"
   ]
  },
  {
   "cell_type": "raw",
   "metadata": {},
   "source": [
    "sns.pairplot(data=df2);\n",
    "#Pointless In our case"
   ]
  },
  {
   "cell_type": "code",
   "execution_count": 85,
   "metadata": {},
   "outputs": [
    {
     "data": {
      "text/html": [
       "<div>\n",
       "<style scoped>\n",
       "    .dataframe tbody tr th:only-of-type {\n",
       "        vertical-align: middle;\n",
       "    }\n",
       "\n",
       "    .dataframe tbody tr th {\n",
       "        vertical-align: top;\n",
       "    }\n",
       "\n",
       "    .dataframe thead th {\n",
       "        text-align: right;\n",
       "    }\n",
       "</style>\n",
       "<table border=\"1\" class=\"dataframe\">\n",
       "  <thead>\n",
       "    <tr style=\"text-align: right;\">\n",
       "      <th></th>\n",
       "      <th>Unnamed: 0</th>\n",
       "      <th>Effectiveness_Rating</th>\n",
       "      <th>Ease_of_Use_Rating</th>\n",
       "      <th>Satisfaction_Rating</th>\n",
       "    </tr>\n",
       "  </thead>\n",
       "  <tbody>\n",
       "    <tr>\n",
       "      <th>Unnamed: 0</th>\n",
       "      <td>1.000000</td>\n",
       "      <td>0.055245</td>\n",
       "      <td>-0.018867</td>\n",
       "      <td>0.021516</td>\n",
       "    </tr>\n",
       "    <tr>\n",
       "      <th>Effectiveness_Rating</th>\n",
       "      <td>0.055245</td>\n",
       "      <td>1.000000</td>\n",
       "      <td>0.512674</td>\n",
       "      <td>0.868353</td>\n",
       "    </tr>\n",
       "    <tr>\n",
       "      <th>Ease_of_Use_Rating</th>\n",
       "      <td>-0.018867</td>\n",
       "      <td>0.512674</td>\n",
       "      <td>1.000000</td>\n",
       "      <td>0.541543</td>\n",
       "    </tr>\n",
       "    <tr>\n",
       "      <th>Satisfaction_Rating</th>\n",
       "      <td>0.021516</td>\n",
       "      <td>0.868353</td>\n",
       "      <td>0.541543</td>\n",
       "      <td>1.000000</td>\n",
       "    </tr>\n",
       "  </tbody>\n",
       "</table>\n",
       "</div>"
      ],
      "text/plain": [
       "                       Unnamed: 0   Effectiveness_Rating   Ease_of_Use_Rating  \\\n",
       "Unnamed: 0               1.000000               0.055245            -0.018867   \n",
       " Effectiveness_Rating    0.055245               1.000000             0.512674   \n",
       " Ease_of_Use_Rating     -0.018867               0.512674             1.000000   \n",
       " Satisfaction_Rating     0.021516               0.868353             0.541543   \n",
       "\n",
       "                        Satisfaction_Rating  \n",
       "Unnamed: 0                         0.021516  \n",
       " Effectiveness_Rating              0.868353  \n",
       " Ease_of_Use_Rating                0.541543  \n",
       " Satisfaction_Rating               1.000000  "
      ]
     },
     "execution_count": 85,
     "metadata": {},
     "output_type": "execute_result"
    }
   ],
   "source": [
    "#sns.pairplot(data=df2, x_vars=[' Effectiveness_Rating',' Ease_of_Use_Rating', ' Satisfaction_Rating','Gender'],\\\n",
    "#             y_vars=[' Effectiveness_Rating',' Ease_of_Use_Rating', ' Satisfaction_Rating','Gender'],hue=\"origin\");\n",
    "\n",
    "df2corr = df2.corr()\n",
    "df2corr"
   ]
  },
  {
   "cell_type": "code",
   "execution_count": 86,
   "metadata": {},
   "outputs": [
    {
     "data": {
      "text/plain": [
       "<matplotlib.axes._subplots.AxesSubplot at 0x1ad05ee3470>"
      ]
     },
     "execution_count": 86,
     "metadata": {},
     "output_type": "execute_result"
    },
    {
     "data": {
      "image/png": "[encoded data removed]",
      "text/plain": [
       "<Figure size 432x288 with 2 Axes>"
      ]
     },
     "metadata": {},
     "output_type": "display_data"
    }
   ],
   "source": [
    "sns.heatmap(df2corr, xticklabels = df2corr.columns, yticklabels = df2corr.columns)"
   ]
  },
  {
   "cell_type": "code",
   "execution_count": 121,
   "metadata": {},
   "outputs": [],
   "source": [
    "import statsmodels.formula.api as smf"
   ]
  },
  {
   "cell_type": "code",
   "execution_count": 87,
   "metadata": {},
   "outputs": [
    {
     "data": {
      "image/png": "[encoded data removed]",
      "text/plain": [
       "<Figure size 360x360 with 1 Axes>"
      ]
     },
     "metadata": {},
     "output_type": "display_data"
    }
   ],
   "source": [
    "plt.figure(figsize=(5, 5));\n",
    "plt.hist(df2[' Effectiveness_Rating'], color='g', bins=20);\n",
    "plt.xlabel(\"Rating\");\n",
    "plt.ylabel(\"Count\");"
   ]
  },
  {
   "cell_type": "code",
   "execution_count": 88,
   "metadata": {},
   "outputs": [
    {
     "data": {
      "image/png": "[encoded data removed]",
      "text/plain": [
       "<Figure size 360x360 with 1 Axes>"
      ]
     },
     "metadata": {},
     "output_type": "display_data"
    }
   ],
   "source": [
    "plt.figure(figsize=(5, 5));\n",
    "plt.hist(df2[' Ease_of_Use_Rating'], color='g', bins=20);\n",
    "plt.xlabel(\"Rating\");\n",
    "plt.ylabel(\"Count\");"
   ]
  },
  {
   "cell_type": "code",
   "execution_count": 89,
   "metadata": {},
   "outputs": [
    {
     "data": {
      "image/png": "[encoded data removed]",
      "text/plain": [
       "<Figure size 360x360 with 1 Axes>"
      ]
     },
     "metadata": {},
     "output_type": "display_data"
    }
   ],
   "source": [
    "plt.figure(figsize=(5, 5));\n",
    "plt.hist(df2[' Satisfaction_Rating'], color='g', bins=20);\n",
    "plt.xlabel(\"Rating\");\n",
    "plt.ylabel(\"Count\");"
   ]
  },
  {
   "cell_type": "code",
   "execution_count": 93,
   "metadata": {},
   "outputs": [
    {
     "data": {
      "text/html": [
       "<div>\n",
       "<style scoped>\n",
       "    .dataframe tbody tr th:only-of-type {\n",
       "        vertical-align: middle;\n",
       "    }\n",
       "\n",
       "    .dataframe tbody tr th {\n",
       "        vertical-align: top;\n",
       "    }\n",
       "\n",
       "    .dataframe thead th {\n",
       "        text-align: right;\n",
       "    }\n",
       "</style>\n",
       "<table border=\"1\" class=\"dataframe\">\n",
       "  <thead>\n",
       "    <tr style=\"text-align: right;\">\n",
       "      <th>Ease_of_Use_Rating</th>\n",
       "      <th>1</th>\n",
       "      <th>2</th>\n",
       "      <th>3</th>\n",
       "      <th>4</th>\n",
       "      <th>5</th>\n",
       "    </tr>\n",
       "    <tr>\n",
       "      <th>Gender</th>\n",
       "      <th></th>\n",
       "      <th></th>\n",
       "      <th></th>\n",
       "      <th></th>\n",
       "      <th></th>\n",
       "    </tr>\n",
       "  </thead>\n",
       "  <tbody>\n",
       "    <tr>\n",
       "      <th>Female</th>\n",
       "      <td>1.025641</td>\n",
       "      <td>1.320</td>\n",
       "      <td>1.740000</td>\n",
       "      <td>2.861111</td>\n",
       "      <td>3.733553</td>\n",
       "    </tr>\n",
       "    <tr>\n",
       "      <th>Male</th>\n",
       "      <td>1.111111</td>\n",
       "      <td>1.625</td>\n",
       "      <td>2.137931</td>\n",
       "      <td>3.034483</td>\n",
       "      <td>3.676056</td>\n",
       "    </tr>\n",
       "  </tbody>\n",
       "</table>\n",
       "</div>"
      ],
      "text/plain": [
       " Ease_of_Use_Rating         1      2         3         4         5\n",
       "Gender                                                            \n",
       "Female               1.025641  1.320  1.740000  2.861111  3.733553\n",
       "Male                 1.111111  1.625  2.137931  3.034483  3.676056"
      ]
     },
     "execution_count": 93,
     "metadata": {},
     "output_type": "execute_result"
    }
   ],
   "source": [
    "ctab = pd.crosstab(index = df2['Gender'], columns = df2[' Ease_of_Use_Rating'], values=df2[' Satisfaction_Rating'], aggfunc=np.mean)\n",
    "ctab\n",
    "# sort year in decending order\n",
    "ctab.sort_index(ascending = False, inplace = True)\n",
    "\n",
    "#Classified with gender we can see how the Satisfaction Rating is with respect to Ease of Using them\n"
   ]
  },
  {
   "cell_type": "code",
   "execution_count": 92,
   "metadata": {},
   "outputs": [
    {
     "data": {
      "image/png": "[encoded data removed]",
      "text/plain": [
       "<Figure size 432x288 with 2 Axes>"
      ]
     },
     "metadata": {},
     "output_type": "display_data"
    }
   ],
   "source": [
    "sns.heatmap(ctab);"
   ]
  },
  {
   "cell_type": "code",
   "execution_count": 94,
   "metadata": {},
   "outputs": [
    {
     "data": {
      "text/html": [
       "<div>\n",
       "<style scoped>\n",
       "    .dataframe tbody tr th:only-of-type {\n",
       "        vertical-align: middle;\n",
       "    }\n",
       "\n",
       "    .dataframe tbody tr th {\n",
       "        vertical-align: top;\n",
       "    }\n",
       "\n",
       "    .dataframe thead th {\n",
       "        text-align: right;\n",
       "    }\n",
       "</style>\n",
       "<table border=\"1\" class=\"dataframe\">\n",
       "  <thead>\n",
       "    <tr style=\"text-align: right;\">\n",
       "      <th>Effectiveness_Rating</th>\n",
       "      <th>1</th>\n",
       "      <th>2</th>\n",
       "      <th>3</th>\n",
       "      <th>4</th>\n",
       "      <th>5</th>\n",
       "    </tr>\n",
       "    <tr>\n",
       "      <th>Gender</th>\n",
       "      <th></th>\n",
       "      <th></th>\n",
       "      <th></th>\n",
       "      <th></th>\n",
       "      <th></th>\n",
       "    </tr>\n",
       "  </thead>\n",
       "  <tbody>\n",
       "    <tr>\n",
       "      <th>Female</th>\n",
       "      <td>1.062500</td>\n",
       "      <td>1.412698</td>\n",
       "      <td>2.613333</td>\n",
       "      <td>3.967480</td>\n",
       "      <td>4.653595</td>\n",
       "    </tr>\n",
       "    <tr>\n",
       "      <th>Male</th>\n",
       "      <td>1.093023</td>\n",
       "      <td>1.538462</td>\n",
       "      <td>2.464286</td>\n",
       "      <td>4.015873</td>\n",
       "      <td>4.701493</td>\n",
       "    </tr>\n",
       "  </tbody>\n",
       "</table>\n",
       "</div>"
      ],
      "text/plain": [
       " Effectiveness_Rating         1         2         3         4         5\n",
       "Gender                                                                 \n",
       "Female                 1.062500  1.412698  2.613333  3.967480  4.653595\n",
       "Male                   1.093023  1.538462  2.464286  4.015873  4.701493"
      ]
     },
     "execution_count": 94,
     "metadata": {},
     "output_type": "execute_result"
    }
   ],
   "source": [
    "ctab = pd.crosstab(index = df2['Gender'], columns = df2[' Effectiveness_Rating'], values=df2[' Satisfaction_Rating'], aggfunc=np.mean)\n",
    "ctab\n",
    "# sort year in decending order\n",
    "ctab.sort_index(ascending = False, inplace = True)\n",
    "\n",
    "\n",
    "\n",
    "#Classified with gender we can see how the Satisfaction Rating is with respect to Ease of Using them"
   ]
  },
  {
   "cell_type": "code",
   "execution_count": 95,
   "metadata": {},
   "outputs": [
    {
     "data": {
      "image/png": "[encoded data removed]",
      "text/plain": [
       "<Figure size 432x288 with 2 Axes>"
      ]
     },
     "metadata": {},
     "output_type": "display_data"
    }
   ],
   "source": [
    "\n",
    "sns.heatmap(ctab);"
   ]
  },
  {
   "cell_type": "code",
   "execution_count": null,
   "metadata": {},
   "outputs": [],
   "source": []
  }
 ],
 "metadata": {
  "kernelspec": {
   "display_name": "Python 3",
   "language": "python",
   "name": "python3"
  },
  "language_info": {
   "codemirror_mode": {
    "name": "ipython",
    "version": 3
   },
   "file_extension": ".py",
   "mimetype": "text/x-python",
   "name": "python",
   "nbconvert_exporter": "python",
   "pygments_lexer": "ipython3",
   "version": "3.6.5"
  }
 },
 "nbformat": 4,
 "nbformat_minor": 2
}
